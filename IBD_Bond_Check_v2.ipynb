{
 "cells": [
  {
   "cell_type": "code",
   "execution_count": 1,
   "metadata": {},
   "outputs": [],
   "source": [
    "from DrissionPage import ChromiumPage\n",
    "import pyautogui\n",
    "import pandas as pd\n",
    "import time\n",
    "import os\n",
    "from DrissionPage.errors import NoRectError\n",
    "\n",
    "from DrissionPage import ChromiumPage   #浏览器控制包\n",
    "import os                                #控制系统文件夹（建议使用管理者模式打开）\n",
    "from DrissionPage.common import ActionChains   #控制键盘、鼠标的操作，如ctrl，alt，左键，鼠标移动等\n",
    "from DrissionPage.common import Keys          #控制键盘、鼠标的操作，如ctrl，alt，左键，鼠标移动等\n",
    "import ddddocr\n",
    "import imageio\n",
    "import time\n",
    "import base64  \n",
    "from DrissionPage.errors import ElementNotFoundError\n",
    "import pandas as pd\n",
    "from collections import defaultdict\n",
    "from tqdm import tqdm\n",
    "import re"
   ]
  },
  {
   "cell_type": "code",
   "execution_count": 2,
   "metadata": {},
   "outputs": [],
   "source": [
    "df = pd.DataFrame(columns=[ '公司名称', '网址名称', '核查意见','是否适用',\"其他数据\"])\n",
    "\n",
    "def 文件创建(company_name_list):\n",
    "    # 遍历PD_name_list  \n",
    "    for i in company_name_list:\n",
    "        # 在文件夹'dada'中创建以pd_name命名的文件夹  \n",
    "        if not os.path.exists('data/'+ i):\n",
    "            os.makedirs('data/'+ i)  \n",
    "        else: \n",
    "            print('文件夹已存在: '+ i)\n",
    "\n",
    "def save_screenshot_to_custom_path(custom_path): \n",
    "    \"\"\"\n",
    "    custom_path:截图保存的地址\n",
    "    \"\"\"\n",
    "    # 获取屏幕截图  \n",
    "    time.sleep(0.5)\n",
    "    screenshot = pyautogui.screenshot()  \n",
    "    # 将截图保存到自定义路径  \n",
    "    screenshot.save(custom_path)\n",
    "\n",
    "def ad_to_df(company_name, url_name, inspection_opinion, applicability,other_data):  \n",
    "    \"\"\"  \n",
    "    将数据保存到DF表中。  \n",
    "  \n",
    "    参数: \n",
    "    company_name (str): 公司名称。  \n",
    "    url_name (str): 网址名称。  \n",
    "    inspection_opinion (str): 核查意见。  \n",
    "    applicability (str): 是否适用。  \n",
    "    other_data(str):存储其他信息，方便后续排查\n",
    "  \n",
    "    返回:  \n",
    "    None  \n",
    "    \"\"\"  \n",
    "    global df  \n",
    "    # 将新的数据添加到DataFrame中  \n",
    "    new_row = { '公司名称': company_name, '网址名称': url_name, '核查意见': inspection_opinion, '是否适用': applicability,'其他数据':other_data}  \n",
    "    df = df.append(new_row, ignore_index=True)  \n",
    "    # 将DataFrame保存到Excel文件  \n",
    "    #df.to_excel('data.xlsx', index=False)"
   ]
  },
  {
   "cell_type": "code",
   "execution_count": 3,
   "metadata": {},
   "outputs": [],
   "source": [
    "#验证码模块，目前可以处理普通文字输入验证码+滑块验证码（主要处理17）\n",
    "def dd_验证码识别_gif(img):\n",
    "    gif_分割(img)\n",
    "    #ocr = ddddocr.DdddOcr(old=True)  \n",
    "    ocr = ddddocr.DdddOcr(old=True,show_ad=False)  \n",
    "    result_counts = defaultdict(int)  \n",
    "    for i in range(24):\n",
    "        with open(r\"D:\\Awork\\work\\Htzq\\RPAv2\\frames\\frame_\"+str(i)+\".png\", 'rb') as f:  \n",
    "            image = f.read()  \n",
    "        res = ocr.classification(image)  \n",
    "        #print(res)\n",
    "        if len(res) == 4:  \n",
    "            result_counts[res] += 1  \n",
    "    res_max = max(result_counts, key=result_counts.get)  \n",
    "    #print(\"Most frequent result:\", res_max)\n",
    "    return res_max\n",
    "\n",
    "def dd_验证码识别_pt():\n",
    "    ocr = ddddocr.DdddOcr(old=True,show_ad=False)  \n",
    "    result_counts = defaultdict(int)  \n",
    "    with open(r\"img/src.jpg\", 'rb') as f:\n",
    "        image = f.read()  \n",
    "    res = ocr.classification(image)  \n",
    "    return res\n",
    "\n",
    "def gif_分割(img_gif):\n",
    "    gif_path = img_gif\n",
    "    with imageio.get_reader(gif_path) as reader:\n",
    "        for i, frame in enumerate(reader):\n",
    "            frame_path = os.path.join(\"frames\", f\"frame_{i}.png\")\n",
    "            imageio.imwrite(frame_path, frame)\n",
    "            #print(frame_path)\n",
    "\n",
    "def ddddocr_滑块(big_pic_path,small_pic_path):\n",
    "    det = ddddocr.DdddOcr(det=False, ocr=False)\n",
    "    with open(big_pic_path, 'rb') as f:\n",
    "            target_bytes = f.read()\n",
    "    with open(small_pic_path, 'rb') as f:\n",
    "        background_bytes = f.read()\n",
    "    res = det.slide_match(target_bytes, background_bytes, simple_target=True)\n",
    "    print(res)\n",
    "    return res[\"target\"][0]*1.40"
   ]
  },
  {
   "cell_type": "code",
   "execution_count": 4,
   "metadata": {},
   "outputs": [],
   "source": [
    "def 中华人民共和国国家发展和改革委员会网站_main(company_name):\n",
    "    \"\"\"\n",
    "    company_name：输入的公司名称\n",
    "    \"\"\"\n",
    "    url_name=\"中华人民共和国国家发展和改革委员会网站\"\n",
    "    # 指定公司名称  \n",
    "    page.get(\"https://www.ndrc.gov.cn/\")  \n",
    "    # 输入公司名称并按回车键  \n",
    "    page.ele(\"#qt\").input(company_name+\"\\n\")\n",
    "    # 切换到最新打开的标签页  \n",
    "    page.to_tab(page.latest_tab)\n",
    "    # 查找页面显示搜索信息页面的元素的大小，无内容为（1190，234）\n",
    "    ele1 = page.ele(\"css:body > div.contentbox.box.clearfix\")\n",
    "    while True:\n",
    "        if ele1.size[1] == 60:\n",
    "            continue\n",
    "        else:\n",
    "            break\n",
    "    #判断是否找到了失信惩戒对象，并打印相应的消息。\n",
    "    if ele1.size[1] == 234:\n",
    "        save_screenshot_to_custom_path(f\"data/{company_name}/{company_name}_{url_name}.jpg\")\n",
    "        ad_to_df(company_name,url_name, \"否\", \"是\",\"\")\n",
    "    else:  \n",
    "        save_screenshot_to_custom_path(f\"data/{company_name}/{company_name}_{url_name}.jpg\")\n",
    "        #反之不是234，就是有搜索内容，搜索的内容保存到df表中。\n",
    "        ele_text = page.ele(\"#results\").text\n",
    "        ad_to_df( company_name, url_name, \"否\", \"是\",ele_text)\n",
    "    page.close_other_tabs()\n",
    "    print(f\"【{company_name}】已经完成【{url_name}】的核查\")\n",
    "\n",
    "def 中华人民共和国应急管理部网站_main(company_name):\n",
    "    \"\"\"\n",
    "    company_name：输入的公司名称\n",
    "    \"\"\"\n",
    "    url_name=\"中华人民共和国应急管理部网站\"\n",
    "    # 指定公司名称  \"\n",
    "    page.get(\"http://www.mem.gov.cn\")  \n",
    "    # 输入公司名称并按回车键  \n",
    "    page.ele(\"#iptSword\").input(company_name+\"\\n\")\n",
    "    # 切换到最新打开的标签页  \n",
    "    page.to_tab(page.latest_tab)\n",
    "    # 查找页面显示搜索信息页面的元素的大小，无内容为（1190，234）\n",
    "    ele1 = page.ele(\".lmdhd\")\n",
    "    #判断是否找到了失信惩戒对象，并打印相应的消息。\n",
    "    if ele1.text[-3:-1] == \"共0\":\n",
    "        save_screenshot_to_custom_path(f\"data/{company_name}/{company_name}_{url_name}.jpg\")\n",
    "        ad_to_df(company_name,url_name, \"否\", \"是\",\"\")\n",
    "    else:  \n",
    "        save_screenshot_to_custom_path(f\"data/{company_name}/{company_name}_{url_name}.jpg\")\n",
    "        #反之不是500，就是有搜索内容，搜索的内容保存到df表中。\n",
    "        ele_text = ele1.text\n",
    "        ad_to_df( company_name, url_name, \"否\", \"是\",ele_text)\n",
    "    page.close_other_tabs()\n",
    "    print(f\"【{company_name}】已经完成【{url_name}】的核查\")\n",
    "    \n",
    "    \n",
    "def 中华人民共和国生态环境部网站_main(company_name):\n",
    "    \"\"\"\n",
    "    company_name：输入的公司名称\n",
    "    \"\"\"\n",
    "    url_name=\"中华人民共和国生态环境部网站\"\n",
    "    # 指定公司名称  \n",
    "    page.get(\"http://www.mee.gov.cn\")  \n",
    "    # 输入公司名称并按回车键  \n",
    "    page.ele(\"#searchword\").input(company_name+\"\\n\")\n",
    "    # 切换到最新打开的标签页  \n",
    "    page.to_tab(page.latest_tab)\n",
    "    # 查找页面显示搜索信息页面的元素的大小，无内容为\"符合条件的有0条\"\n",
    "    ele1 = page.ele(\"符合条件的有\")\n",
    "    while True:\n",
    "        if len(ele1.text) == 7:\n",
    "            continue\n",
    "        else:\n",
    "            break\n",
    "    #判断是否找到了失信惩戒对象，并打印相应的消息。\n",
    "    if ele1.text == \"符合条件的有0条\":\n",
    "        save_screenshot_to_custom_path(f\"data/{company_name}/{company_name}_{url_name}.jpg\")\n",
    "        ad_to_df(company_name,url_name, \"否\", \"是\",\"\")\n",
    "    else:  \n",
    "        save_screenshot_to_custom_path(f\"data/{company_name}/{company_name}_{url_name}.jpg\")\n",
    "        #反之不是0，就是有搜索内容，搜索的内容保存到df表中。\n",
    "        ele_text = page.ele(\"css:#list > div.ll_gjjs_list.ll_gjjs_list_was\").text\n",
    "        ad_to_df( company_name, url_name, \"否\", \"是\",ele_text)\n",
    "    page.close_other_tabs()\n",
    "    print(f\"【{company_name}】已经完成【{url_name}】的核查\")\n",
    "    \n",
    "def 中华人民共和国工业和信息化部网站_main(company_name):\n",
    "    \"\"\"\n",
    "    company_name：输入的公司名称\n",
    "    \"\"\"\n",
    "    url_name=\"中华人民共和国工业和信息化部网站\"\n",
    "    # 指定公司名称  \n",
    "    page.get(\"http://www.miit.gov.cn\")  \n",
    "    # 输入公司名称并按回车键  \n",
    "    page.ele(\"#q\").input(company_name+\"\\n\")\n",
    "    # 切换到最新打开的标签页  \n",
    "    page.to_tab(page.latest_tab)\n",
    "    # 查找页面显示搜索信息页面的元素的大小，无内容为\"符合条件的有0条\"\n",
    "    ele1 = page.ele(\"为您找到相关结果约\")\n",
    "    while True:\n",
    "        if len(ele1.text) == 10:\n",
    "            #print(1)\n",
    "            continue\n",
    "        else:\n",
    "            break\n",
    "    #判断是否找到了失信惩戒对象，并打印相应的消息。\n",
    "    if ele1.text == \"为您找到相关结果约0个\":\n",
    "        save_screenshot_to_custom_path(f\"data/{company_name}/{company_name}_{url_name}.jpg\")\n",
    "        ad_to_df(company_name,url_name, \"否\", \"是\",\"\")\n",
    "    else:  \n",
    "        save_screenshot_to_custom_path(f\"data/{company_name}/{company_name}_{url_name}.jpg\")\n",
    "        #反之不是0，就是有搜索内容，搜索的内容保存到df表中。\n",
    "        ele_text = page.ele(\"css:#search-form > div.main > div.page-con > div.content > div > div.con_left > div.yyfw > div.zffw_list > div\").text\n",
    "        ad_to_df( company_name, url_name, \"否\", \"是\",ele_text)\n",
    "    page.close_other_tabs()\n",
    "    print(f\"【{company_name}】已经完成【{url_name}】的核查\")\n",
    "    \n",
    "\n",
    "def 中华人民共和国商务部网站_main(company_name):\n",
    "    \"\"\"\n",
    "    company_name：输入的公司名称\n",
    "    \"\"\"\n",
    "    url_name=\"中华人民共和国商务部网站\"\n",
    "    # 指定公司名称  \n",
    "    page.get(\"http://www.mofcom.gov.cn/\")  \n",
    "    # 输入公司名称并按回车键  \n",
    "    page.ele(\"#searchValue\").input(company_name+\"\\n\")\n",
    "    # 切换到最新打开的标签页  \n",
    "    page.to_tab(page.latest_tab)\n",
    "    # 查找页面显示搜索信息页面的元素的大小，无内容为\"符合条件的有0条\"\n",
    "    ele1 = page.ele(\"css:body > section > section > div.row.wms-con > div > div.f-mt50.s-info-box > ul\")\n",
    "    #判断是否找到了失信惩戒对象，并打印相应的消息。\n",
    "    if len(ele1.text) == 33:\n",
    "        save_screenshot_to_custom_path(f\"data/{company_name}/{company_name}_{url_name}.jpg\")\n",
    "        ad_to_df(company_name,url_name, \"否\", \"是\",\"\")\n",
    "    else:  \n",
    "        save_screenshot_to_custom_path(f\"data/{company_name}/{company_name}_{url_name}.jpg\")\n",
    "        #反之不是0，就是有搜索内容，搜索的内容保存到df表中。\n",
    "        ele_text = ele1.text\n",
    "        ad_to_df( company_name, url_name, \"否\", \"是\",ele_text)\n",
    "    page.close_other_tabs()\n",
    "    print(f\"【{company_name}】已经完成【{url_name}】的核查\")\n",
    "    \n",
    "def 中华人民共和国财政部网站_main(company_name):\n",
    "    \"\"\"\n",
    "    company_name：输入的公司名称\n",
    "    \"\"\"\n",
    "    url_name=\"中华人民共和国财政部网站\"\n",
    "    # 指定公司名称  \n",
    "    page.get(\"http://www.mof.gov.cn\")  \n",
    "    # 输入公司名称并按回车键  \n",
    "    page.ele(\"#andsen\").input(f\"{company_name}\\n\")\n",
    "    page.wait.new_tab()\n",
    "    # 切换到最新打开的标签页  \n",
    "    page.to_tab(page.latest_tab)\n",
    "    while True:\n",
    "        ele2 = page.ele(\"仍然发送\",timeout=0.3)\n",
    "        if ele2:\n",
    "            page.ele(\"仍然发送\").click(None)\n",
    "            continue\n",
    "        if not ele2:\n",
    "            break\n",
    "    # 查找页面显示搜索信息页面的元素的大小，无内容为\"符合条件的有0条\"\n",
    "    ele1 = page.ele(\"css:body > div.mainboxerji > div.list_search\")\n",
    "    #判断是否找到了失信惩戒对象，并打印相应的消息。\n",
    "    if len(ele1.text) == 97:\n",
    "        save_screenshot_to_custom_path(f\"data/{company_name}/{company_name}_{url_name}.jpg\")\n",
    "        ad_to_df(company_name,url_name, \"否\", \"是\",\"\")\n",
    "    else:  \n",
    "        save_screenshot_to_custom_path(f\"data/{company_name}/{company_name}_{url_name}.jpg\")\n",
    "        #反之不是0，就是有搜索内容，搜索的内容保存到df表中。\n",
    "        ele_text = ele1.text\n",
    "        ad_to_df( company_name, url_name, \"否\", \"是\",ele_text)\n",
    "    page.close_other_tabs()\n",
    "    print(f\"【{company_name}】已经完成【{url_name}】的核查\")\n",
    "\n",
    "def 中华人民共和国农业农村部网站_main(company_name):\n",
    "    \"\"\"\n",
    "    company_name：输入的公司名称\n",
    "    \"\"\"\n",
    "    url_name=\"中华人民共和国农业农村部网站\"\n",
    "    # 指定公司名称  \n",
    "    page.get(\"http://www.moa.gov.cn\")  \n",
    "    # 输入公司名称并按回车键  \n",
    "    page.ele(\"#loginname\").input(f\"{company_name}\\n\")\n",
    "    page.wait.new_tab()\n",
    "    # 切换到最新打开的标签页  \n",
    "    page.to_tab(page.latest_tab)\n",
    "    while True:\n",
    "        ele2 = page.ele(\"仍然发送\",timeout=0.3)\n",
    "        if ele2:\n",
    "            page.ele(\"仍然发送\").click(None)\n",
    "            continue\n",
    "        if not ele2:\n",
    "            break\n",
    "    # 查找页面显示搜索信息页面的元素的大小，无内容为\"符合条件的有0条\"\n",
    "    ele1 = page.ele(\"#results\")\n",
    "    #判断是否找到了失信惩戒对象，并打印相应的消息。\n",
    "    if ele1.text == \"\":\n",
    "        save_screenshot_to_custom_path(f\"data/{company_name}/{company_name}_{url_name}.jpg\")\n",
    "        ad_to_df(company_name,url_name, \"否\", \"是\",\"\")\n",
    "    else:  \n",
    "        save_screenshot_to_custom_path(f\"data/{company_name}/{company_name}_{url_name}.jpg\")\n",
    "        #反之不是0，就是有搜索内容，搜索的内容保存到df表中。\n",
    "        ele_text = ele1.text\n",
    "        ad_to_df( company_name, url_name, \"否\", \"是\",ele_text)\n",
    "    page.close_other_tabs()\n",
    "    print(f\"【{company_name}】已经完成【{url_name}】的核查\")\n",
    "    \n",
    "\n",
    "def 中华人民共和国人力资源和社会保障部网站_main(company_name):\n",
    "    \"\"\"\n",
    "    company_name：输入的公司名称\n",
    "    \"\"\"\n",
    "    url_name=\"中华人民共和国人力资源和社会保障部网站\"\n",
    "    # 指定公司名称  \n",
    "    page.get(\"http://www.mohrss.gov.cn/\")  \n",
    "    # 输入公司名称并按回车键  \n",
    "    page.ele(\"#loginname\").input(f\"{company_name}\\n\")\n",
    "    page.wait.new_tab()\n",
    "    # 切换到最新打开的标签页  \n",
    "    page.to_tab(page.latest_tab)\n",
    "    while True:\n",
    "        ele2 = page.ele(\"仍然发送\",timeout=0.3)\n",
    "        if ele2:\n",
    "            page.ele(\"仍然发送\").click(None)\n",
    "            continue\n",
    "        if not ele2:\n",
    "            break\n",
    "    # 查找页面显示搜索信息页面的元素的大小，无内容为\"符合条件的有0条\"\n",
    "    ele1 = page.ele(\"css:#otherwordidnew > div > div > div.ll_gjjs_list_mian\")\n",
    "    #判断是否找到了失信惩戒对象，并打印相应的消息。\n",
    "    if len(ele1.text) == 37:\n",
    "        save_screenshot_to_custom_path(f\"data/{company_name}/{company_name}_{url_name}.jpg\")\n",
    "        ad_to_df(company_name,url_name, \"否\", \"是\",\"\")\n",
    "    else:  \n",
    "        save_screenshot_to_custom_path(f\"data/{company_name}/{company_name}_{url_name}.jpg\")\n",
    "        #反之不是0，就是有搜索内容，搜索的内容保存到df表中。\n",
    "        ele_text = ele1.text\n",
    "        ad_to_df( company_name, url_name, \"否\", \"是\",ele_text)\n",
    "    page.close_other_tabs()\n",
    "    print(f\"【{company_name}】已经完成【{url_name}】的核查\")\n",
    "    \n",
    "def 中华人民共和国住房和城乡建设部_main(company_name):\n",
    "    \"\"\"\n",
    "    company_name：输入的公司名称\n",
    "    \"\"\"\n",
    "    url_name=\"中华人民共和国住房和城乡建设部\"\n",
    "    # 指定公司名称  \n",
    "    page.get(\"https://www.mohurd.gov.cn/\")\n",
    "    # 输入公司名称并按回车键  \n",
    "    page.ele(\"#searchInput\").input(f\"{company_name}\\n\")\n",
    "    page.wait.new_tab()\n",
    "    # 切换到最新打开的标签页  \n",
    "    page.to_tab(page.latest_tab)\n",
    "    while True:\n",
    "        ele1 = page.ele(\"为您找到相关结果约\")\n",
    "        print(len((ele1.text)))\n",
    "        if len(ele1.text) == 0:\n",
    "            time.sleep(0.5)\n",
    "            continue\n",
    "        else:\n",
    "            break\n",
    "    #判断是否找到了失信惩戒对象，并打印相应的消息。\n",
    "    if ele1.text[9:-1] == \"0\":\n",
    "        save_screenshot_to_custom_path(f\"data/{company_name}/{company_name}_{url_name}.jpg\")\n",
    "        ad_to_df(company_name,url_name, \"否\", \"是\",\"\")\n",
    "    else:  \n",
    "        save_screenshot_to_custom_path(f\"data/{company_name}/{company_name}_{url_name}.jpg\")\n",
    "        #反之不是0，就是有搜索内容，搜索的内容保存到df表中。\n",
    "        ele_text = page.ele(\"css:#content > ul\",timeout=5).text\n",
    "        ad_to_df( company_name, url_name, \"否\", \"是\",ele_text)\n",
    "    page.close_other_tabs()\n",
    "    print(f\"【{company_name}】已经完成【{url_name}】的核查\")\n",
    "\n",
    "def 国家统计局网站_main(company_name):\n",
    "    \"\"\"\n",
    "    company_name：输入的公司名称\n",
    "    \"\"\"\n",
    "    url_name=\"国家统计局网站\"\n",
    "    # 指定公司名称  \n",
    "    page.get(\"https://www.stats.gov.cn/\")\n",
    "    # 输入公司名称并按回车键  \n",
    "    page.ele(\"#search\").input(f\"{company_name}\\n\")\n",
    "    page.wait.new_tab()\n",
    "    # 切换到最新打开的标签页  \n",
    "    page.to_tab(page.latest_tab)\n",
    "    while True:\n",
    "        ele1 = page.ele(\".noresult\")\n",
    "        print(len((ele1.text)))\n",
    "        if len(ele1.text) == 0:\n",
    "            time.sleep(0.5)\n",
    "            continue\n",
    "        else:\n",
    "            break\n",
    "    #判断是否找到了失信惩戒对象，并打印相应的消息。\n",
    "    if len(ele1.text) == \"\":\n",
    "        save_screenshot_to_custom_path(f\"data/{company_name}/{company_name}_{url_name}.jpg\")\n",
    "        ad_to_df(company_name,url_name, \"否\", \"是\",\"\")\n",
    "    else:  \n",
    "        save_screenshot_to_custom_path(f\"data/{company_name}/{company_name}_{url_name}.jpg\")\n",
    "        #反之不是0，就是有搜索内容，搜索的内容保存到df表中。\n",
    "        ele_text = page.ele(\"#results\",timeout=5).text\n",
    "        ad_to_df( company_name, url_name, \"否\", \"是\",ele_text)\n",
    "    page.close_other_tabs()\n",
    "    print(f\"【{company_name}】已经完成【{url_name}】的核查\")\n",
    "\n",
    "def 国家市场监督管理总局网站_main(company_name):\n",
    "    \"\"\"\n",
    "    company_name：输入的公司名称\n",
    "    \"\"\"\n",
    "    url_name=\"国家市场监督管理总局网站\"\n",
    "    # 指定公司名称  \n",
    "    page.get(\"https://www.samr.gov.cn/\")\n",
    "    # 输入公司名称并按回车键  \n",
    "    page.ele(\"#q\").input(company_name)\n",
    "    tabs1 = page.tabs_count\n",
    "    while page.tabs_count==tabs1:\n",
    "        page.ele(\".search_btn\").click(None)\n",
    "    # 切换到最新打开的标签页  \n",
    "    page.to_tab(page.latest_tab)\n",
    "    while True:\n",
    "        try:\n",
    "            ele1 = page.ele(\"抱歉\",timeout=3)#(728, 22)为已经搜到消息了且加载完了\n",
    "            ele2 = page.ele(\".content_cate\",timeout=3)\n",
    "            if ele2.size != (755,0) and len(ele2.text)>203:\n",
    "                time.sleep(0.5)\n",
    "                break\n",
    "            elif ele1.size == (728, 22) and ele2.size == (755, 0):\n",
    "                time.sleep(0.5)\n",
    "                break\n",
    "            else:\n",
    "                time.sleep(0.5)\n",
    "                continue\n",
    "        except NoRectError:\n",
    "            time.sleep(0.3)\n",
    "            continue\n",
    "    #判断是否找到了失信惩戒对象，并打印相应的消息。\n",
    "    if ele2.size == (755, 0):\n",
    "        save_screenshot_to_custom_path(f\"data/{company_name}/{company_name}_{url_name}.jpg\")\n",
    "        ad_to_df(company_name,url_name, \"否\", \"是\",\"\")\n",
    "    else:  \n",
    "        save_screenshot_to_custom_path(f\"data/{company_name}/{company_name}_{url_name}.jpg\")\n",
    "        #反之不是0，就是有搜索内容，搜索的内容保存到df表中。\n",
    "        ele_text = page.ele(\".content_cate\",timeout=5).text\n",
    "        ad_to_df( company_name, url_name, \"否\", \"是\",ele_text)\n",
    "    page.close_other_tabs()\n",
    "    print(f\"【{company_name}】已经完成【{url_name}】的核查\")\n",
    "    \n",
    "def 国家药品监督管理局_main(company_name):\n",
    "    \"\"\"\n",
    "    company_name：输入的公司名称\n",
    "    \"\"\"\n",
    "    url_name=\"国家药品监督管理局\"\n",
    "    # 指定公司名称  \n",
    "    page.get(\"https://www.nmpa.gov.cn/index.html\")  \n",
    "    # 输入公司名称并按回车键  \n",
    "    page.ele(\"#qt\").input(company_name+\"\\n\")\n",
    "    # 切换到最新打开的标签页  \n",
    "    page.to_tab(page.latest_tab)\n",
    "    # 查找页面显示搜索信息页面的元素的大小，无内容为（1190，234）\n",
    "    ele1 = page.ele(\"css:body > div.contentbox.box.clearfix\")\n",
    "    while True:\n",
    "        if ele1.size[1] == 60:\n",
    "            continue\n",
    "        else:\n",
    "            break\n",
    "    #判断是否找到了失信惩戒对象，并打印相应的消息。\n",
    "    if ele1.size[1] == 234:\n",
    "        save_screenshot_to_custom_path(f\"data/{company_name}/{company_name}_{url_name}.jpg\")\n",
    "        ad_to_df(company_name,url_name, \"否\", \"是\",\"\")\n",
    "    else:  \n",
    "        save_screenshot_to_custom_path(f\"data/{company_name}/{company_name}_{url_name}.jpg\")\n",
    "        #反之不是234，就是有搜索内容，搜索的内容保存到df表中。\n",
    "        ele_text = page.ele(\"#results\").text\n",
    "        ad_to_df( company_name, url_name, \"否\", \"是\",ele_text)\n",
    "    page.close_other_tabs()\n",
    "    print(f\"【{company_name}】已经完成【{url_name}】的核查\")\n",
    "    \n",
    "def 中国人民银行_main(company_name):\n",
    "    \"\"\"\n",
    "    company_name：输入的公司名称\n",
    "    \"\"\"\n",
    "    url_name=\"中国人民银行\"\n",
    "    # 指定公司名称  \n",
    "    page.get(\"http://www.pbc.gov.cn/\")  \n",
    "    # 输入公司名称并按回车键  \n",
    "    page.ele(\"#q\").input(company_name+\"\\n\")\n",
    "    # 切换到最新打开的标签页  \n",
    "    page.to_tab(page.latest_tab)\n",
    "    #判断是否找到了失信惩戒对象，并打印相应的消息。\n",
    "    if page.ele(\"条结果\").text[0] == \"0\":\n",
    "        save_screenshot_to_custom_path(f\"data/{company_name}/{company_name}_{url_name}.jpg\")\n",
    "        ad_to_df(company_name,url_name, \"否\", \"是\",\"\")\n",
    "    else:  \n",
    "        save_screenshot_to_custom_path(f\"data/{company_name}/{company_name}_{url_name}.jpg\")\n",
    "        ele_text = page.ele(\".default-result-list conMid_con\").text\n",
    "        ad_to_df( company_name, url_name, \"否\", \"是\",ele_text)\n",
    "    page.close_other_tabs()\n",
    "    print(f\"【{company_name}】已经完成【{url_name}】的核查\")\n",
    "    \n",
    "def 国家金融监督管理总局_main(company_name):\n",
    "    \"\"\"\n",
    "    company_name：输入的公司名称\n",
    "    \"\"\"\n",
    "    url_name=\"国家金融监督管理总局\"\n",
    "    # 指定公司名称  \n",
    "    page.get(\"https://www.cbirc.gov.cn/cn/view/pages/index/index.html\")  \n",
    "    # 输入公司名称并按回车键  \n",
    "    page.ele(\"#search\").input(company_name+\"\\n\")\n",
    "    # 切换到最新打开的标签页  \n",
    "    page.to_tab(page.latest_tab)\n",
    "    time.sleep(0.5)\n",
    "    while True:\n",
    "        if int(page.ele(\"共检索到\").text[4])>=0:\n",
    "            break\n",
    "        else:\n",
    "            continue\n",
    "    #判断是否找到了失信惩戒对象，并打印相应的消息。\n",
    "    if page.ele(\"共检索到\").text[4] == \"0\":\n",
    "        save_screenshot_to_custom_path(f\"data/{company_name}/{company_name}_{url_name}.jpg\")\n",
    "        ad_to_df(company_name,url_name, \"否\", \"是\",\"\")\n",
    "    else:  \n",
    "        save_screenshot_to_custom_path(f\"data/{company_name}/{company_name}_{url_name}.jpg\")\n",
    "        ele_text = page.ele(\".jiansuo-right-result\").text\n",
    "        ad_to_df( company_name, url_name, \"否\", \"是\",ele_text)\n",
    "    page.close_other_tabs()\n",
    "    print(f\"【{company_name}】已经完成【{url_name}】的核查\")\n",
    "\n",
    "def 国家外汇管理局网站_main(company_name):\n",
    "    \"\"\"\n",
    "    company_name：输入的公司名称\n",
    "    \"\"\"\n",
    "    url_name=\"国家外汇管理局网站\"\n",
    "    # 指定公司名称  \n",
    "    page.get(\"https://www.safe.gov.cn/\")  \n",
    "    # 输入公司名称并按回车键  \n",
    "    page.ele(\"#title\").input(company_name+\"\\n\")\n",
    "    # 切换到最新打开的标签页  \n",
    "    page.to_tab(page.latest_tab)\n",
    "    while True:\n",
    "        if int(page.ele(\"条结果\").text[2])>=0:\n",
    "            break\n",
    "        else:\n",
    "            continue\n",
    "    #判断是否找到了失信惩戒对象，并打印相应的消息。\n",
    "    if page.ele(\"条结果\").text[2] == \"0\":\n",
    "        save_screenshot_to_custom_path(f\"data/{company_name}/{company_name}_{url_name}.jpg\")\n",
    "        ad_to_df(company_name,url_name, \"否\", \"是\",\"\")\n",
    "    else:  \n",
    "        save_screenshot_to_custom_path(f\"data/{company_name}/{company_name}_{url_name}.jpg\")\n",
    "        ele_text = page.ele(\".sscontent\").text\n",
    "        ad_to_df( company_name, url_name, \"否\", \"是\",ele_text)\n",
    "    page.close_other_tabs()\n",
    "    print(f\"【{company_name}】已经完成【{url_name}】的核查\")\n",
    "    \n",
    "def 政府采购网_main(company_name):\n",
    "    \"\"\"\n",
    "    company_name：输入的公司名称\n",
    "    \"\"\"\n",
    "    url_name=\"政府采购网\"\n",
    "    # 指定公司名称  \n",
    "    page.get(\"http://www.ccgp.gov.cn/search/cr/\")  \n",
    "    # 输入公司名称并按回车键  \n",
    "    page.ele(\".gp-list-input\").input(f\"{company_name}\\n\")\n",
    "    page.ele(\"@value=查找\").click(None)\n",
    "    # 查找页面显示搜索信息页面的元素的大小，无内容为\"符合条件的有0条\"\n",
    "    ele1 = page.ele(\"没有该企业的相关记录\")\n",
    "    #判断是否找到了失信惩戒对象，并打印相应的消息。\n",
    "    if ele1:\n",
    "        save_screenshot_to_custom_path(f\"data/{company_name}/{company_name}_{url_name}.jpg\")\n",
    "        ad_to_df(company_name,url_name, \"否\", \"是\",\"\")\n",
    "    else:  \n",
    "        save_screenshot_to_custom_path(f\"data/{company_name}/{company_name}_{url_name}.jpg\")\n",
    "        #反之不是0，就是有搜索内容，搜索的内容保存到df表中。\n",
    "        ele_text = page.ele(\"#tableInfo\").text\n",
    "        ad_to_df( company_name, url_name, \"否\", \"是\",ele_text)\n",
    "    page.close_other_tabs()\n",
    "    print(f\"【{company_name}】已经完成【{url_name}】的核查\")\n",
    "    \n",
    "    \n",
    "def 信用能源_main(company_name):\n",
    "    \"\"\"\n",
    "    company_name：输入的公司名称\n",
    "    \"\"\"\n",
    "    url_name=\"信用能源\"\n",
    "    # 指定公司名称  \n",
    "    page.get(\"http://xyny.nea.gov.cn/main\")  \n",
    "    # 输入公司名称并按回车键  \n",
    "    page.ele(\"#globalContent\").input(f\"{company_name}\\n\")\n",
    "    page.wait.new_tab()\n",
    "    tab=page.get_tab(page.latest_tab)\n",
    "    time.sleep(0.5)\n",
    "    # 查找页面显示搜索信息页面的元素的大小，无内容为\"符合条件的有0条\"\n",
    "    ele1 = tab.ele(\"未查询到相关企业\")\n",
    "    #???为什么不加这个ele1就不行，加了就行，不明白\n",
    "    ele1\n",
    "    #判断是否找到了失信惩戒对象，并打印相应的消息。\n",
    "    if ele1.states.is_displayed:\n",
    "        save_screenshot_to_custom_path(f\"data/{company_name}/{company_name}_{url_name}.jpg\")\n",
    "        ad_to_df(company_name,url_name, \"否\", \"是\",\"\")\n",
    "    else:\n",
    "        ele_text = tab.ele(\".search-table\").text\n",
    "        tab.ele(\"查看\").click(None)\n",
    "        tab=page.get_tab(page.latest_tab)\n",
    "        tab.ele(\"报告查看时间\")\n",
    "        ad_to_df( company_name, url_name, \"否\", \"是\",ele_text)\n",
    "        save_screenshot_to_custom_path(f\"data/{company_name}/{company_name}_{url_name}.jpg\")\n",
    "        #反之不是0，就是有搜索内容，搜索的内容保存到df表中。\n",
    "    page.close_other_tabs()\n",
    "    print(f\"【{company_name}】已经完成【{url_name}】的核查\")\n",
    "    \n",
    "    \n",
    "def 信用交通网_main(company_name):\n",
    "    \"\"\"\n",
    "    company_name：输入的公司名称\n",
    "    \"\"\"\n",
    "    url_name=\"信用交通网\"\n",
    "    # 指定公司名称  \n",
    "    page.get(\"https://credit.mot.gov.cn\")  \n",
    "    # 输入公司名称并按回车键  \n",
    "    page.ele(\".form-control\").input(f\"{company_name}\\n\")\n",
    "    page.ele(\"搜索一下\").click(None)\n",
    "    page.wait.new_tab()\n",
    "    tab=page.get_tab(page.latest_tab)\n",
    "    # 查找页面显示搜索信息页面的元素的大小，无内容为\"符合条件的有0条\"\n",
    "    ele1 = tab.ele(\"没有查询到相关信息！\")\n",
    "    #判断是否找到了失信惩戒对象，并打印相应的消息。\n",
    "    if ele1:\n",
    "        save_screenshot_to_custom_path(f\"data/{company_name}/{company_name}_{url_name}.jpg\")\n",
    "        ad_to_df(company_name,url_name, \"否\", \"是\",\"\")\n",
    "    else:\n",
    "        ele_text = tab.ele(\".table table-striped\").text\n",
    "        ad_to_df( company_name, url_name, \"否\", \"是\",ele_text)\n",
    "        save_screenshot_to_custom_path(f\"data/{company_name}/{company_name}_{url_name}.jpg\")\n",
    "        #反之不是0，就是有搜索内容，搜索的内容保存到df表中。\n",
    "    page.close_other_tabs()\n",
    "    print(f\"【{company_name}】已经完成【{url_name}】的核查\")\n",
    "    \n",
    "def 中国商务信用平台_main(company_name):\n",
    "    \"\"\"\n",
    "    company_name：输入的公司名称\n",
    "    \"\"\"\n",
    "    url_name=\"中国商务信用平台\"\n",
    "    # 指定公司名称  \n",
    "    #page.get(\"https://www.bcpcn.com/\")\n",
    "    #https://www.bcpcn.com/bcp/dataq.jsp?qymc=1&pinpaimc=&zscode=\n",
    "    # 输入公司名称并按回车键  \n",
    "    page.get(f\"https://www.bcpcn.com/bcp/dataq.jsp?qymc={company_name}&pinpaimc=&zscode=\")\n",
    "    #page.ele(\"搜索一下\").click(None)\n",
    "    #page.wait.new_tab()\n",
    "    #tab=page.get_tab(page.latest_tab)\n",
    "    # 查找页面显示搜索信息页面的元素的大小，无内容为\"符合条件的有0条\"\n",
    "    ele1 = page.ele(\"查询无结果!\")\n",
    "    #判断是否找到了失信惩戒对象，并打印相应的消息。\n",
    "    if ele1:\n",
    "        save_screenshot_to_custom_path(f\"data/{company_name}/{company_name}_{url_name}.jpg\")\n",
    "        ad_to_df(company_name,url_name, \"否\", \"是\",\"\")\n",
    "    else:\n",
    "        ele_text = page.ele(\".inquire_list\").text\n",
    "        ad_to_df( company_name, url_name, \"否\", \"是\",ele_text)\n",
    "        save_screenshot_to_custom_path(f\"data/{company_name}/{company_name}_{url_name}.jpg\")\n",
    "        #反之不是0，就是有搜索内容，搜索的内容保存到df表中。\n",
    "    page.close_other_tabs()\n",
    "    print(f\"【{company_name}】已经完成【{url_name}】的核查\")\n",
    "    \n",
    "    \n",
    "def 信用盐业_main(company_name):\n",
    "    \"\"\"\n",
    "    company_name：输入的公司名称\n",
    "    \"\"\"\n",
    "    url_name=\"信用盐业\"\n",
    "    # 指定公司名称  \n",
    "    #page.get(\"https://www.bcpcn.com/\")\n",
    "    #https://www.bcpcn.com/bcp/dataq.jsp?qymc=1&pinpaimc=&zscode=\n",
    "    # 输入公司名称并按回车键  \n",
    "    page.get(f\"http://yan.bcpcn.com/website/xyjl.jsp?keyword={company_name}&searchtype=1&page=1\")\n",
    "    \n",
    "    #page.ele(\"搜索一下\").click(None)\n",
    "    #page.wait.new_tab()\n",
    "    #tab=page.get_tab(page.latest_tab)\n",
    "    # 查找页面显示搜索信息页面的元素的大小，无内容为\"符合条件的有0条\"\n",
    "    ele1 = page.ele(\".hmd gzmd l m_top\")\n",
    "    #判断是否找到了失信惩戒对象，并打印相应的消息。\n",
    "    if ele1.text == '企业名称统一社会信用代码企业类型地区':\n",
    "        save_screenshot_to_custom_path(f\"data/{company_name}/{company_name}_{url_name}.jpg\")\n",
    "        ad_to_df(company_name,url_name, \"否\", \"是\",\"\")\n",
    "    else:\n",
    "        ele_text = ele1.text\n",
    "        ad_to_df( company_name, url_name, \"否\", \"是\",ele_text)\n",
    "        save_screenshot_to_custom_path(f\"data/{company_name}/{company_name}_{url_name}.jpg\")\n",
    "        #反之不是0，就是有搜索内容，搜索的内容保存到df表中。\n",
    "    page.close_other_tabs()\n",
    "    print(f\"【{company_name}】已经完成【{url_name}】的核查\")\n",
    "    \n",
    "\n",
    "def 信用电力_main(company_name):\n",
    "    \"\"\"\n",
    "    company_name：输入的公司名称\n",
    "    \"\"\"\n",
    "    url_name=\"信用电力\"\n",
    "    # 指定公司名称  \n",
    "    page.get(\"https://creditpower.cec.org.cn/\")  \n",
    "    # 输入公司名称并按回车键  \n",
    "    page.ele(\"@placeholder=请输入关键词\").input(f\"{company_name}\\n\")\n",
    "    #page.ele(\"搜索一下\").click(None)\n",
    "    page.wait.new_tab()\n",
    "    tab=page.get_tab(page.latest_tab)\n",
    "    # 查找页面显示搜索信息页面的元素的大小，无内容为\"符合条件的有0条\"\n",
    "    ele1 = tab.ele(\".news-list\")\n",
    "    #判断是否找到了失信惩戒对象，并打印相应的消息。\n",
    "    if ele1.text == \"\":\n",
    "        save_screenshot_to_custom_path(f\"data/{company_name}/{company_name}_{url_name}.jpg\")\n",
    "        ad_to_df(company_name,url_name, \"否\", \"是\",\"\")\n",
    "    else:\n",
    "        ele_text = ele1.text\n",
    "        ad_to_df( company_name, url_name, \"否\", \"是\",ele_text)\n",
    "        save_screenshot_to_custom_path(f\"data/{company_name}/{company_name}_{url_name}.jpg\")\n",
    "        #反之不是0，就是有搜索内容，搜索的内容保存到df表中。\n",
    "    page.close_other_tabs()\n",
    "    print(f\"【{company_name}】已经完成【{url_name}】的核查\")\n",
    "\n",
    "    \n",
    "def 杭州市政府官方网站_main(company_name):\n",
    "    \"\"\"\n",
    "    company_name：输入的公司名称\n",
    "    \"\"\"\n",
    "    url_name=\"杭州市政府官方网站\"\n",
    "    # 指定公司名称  \n",
    "    #page.get(\"https://www.bcpcn.com/\")\n",
    "    #https://www.bcpcn.com/bcp/dataq.jsp?qymc=1&pinpaimc=&zscode=\n",
    "    # 输入公司名称并按回车键  \n",
    "    page.get(f\"https://search.zj.gov.cn/jrobotfront/search.do?q={company_name}&websiteid=330101000000000&tpl=2296&p=1&Municipal_webid=330101000000000&Municipal_name=杭州市&isContains=0\")\n",
    "    \n",
    "    #page.ele(\"搜索一下\").click(None)\n",
    "    #page.wait.new_tab()\n",
    "    #tab=page.get_tab(page.latest_tab)\n",
    "    # 查找页面显示搜索信息页面的元素的大小，无内容为\"符合条件的有0条\"\n",
    "    ele1 = page.ele(\".comprehensive\")\n",
    "    time.sleep(2)\n",
    "    #判断是否找到了失信惩戒对象，并打印相应的消息。\n",
    "    ele_text = ele1.text\n",
    "    ad_to_df( company_name, url_name, \"否\", \"是\",ele_text)\n",
    "    save_screenshot_to_custom_path(f\"data/{company_name}/{company_name}_{url_name}.jpg\")\n",
    "    #反之不是0，就是有搜索内容，搜索的内容保存到df表中。\n",
    "    page.close_other_tabs()\n",
    "    print(f\"【{company_name}】已经完成【{url_name}】的核查\")\n",
    "    \n",
    "\n",
    "\n",
    "def 信用中国网重点领域严重失信主体名单_严重失信主体名单查询_main(company_name):\n",
    "    \"\"\"\n",
    "    company_name：输入的公司名称\n",
    "    \"\"\"\n",
    "    url_name=\"信用中国网重点领域严重失信主体名单_严重失信主体名单查询\"\n",
    "    page.get(\"https://www.creditchina.gov.cn/xinyongfuwu/shixinheimingdan/\")  \n",
    "    # 输入公司名称并按回车键  \n",
    "    #@@name=row1@@class:cls\n",
    "    page.ele(\".searchBox\").ele(\"@placeholder=请输入主体名称或者统一社会信用代码\").input(f\"{company_name}\\n\")\n",
    "    time.sleep(0.3)\n",
    "    # 查找页面显示搜索信息页面的元素的大小，无内容为\"符合条件的有0条\"\n",
    "    ele1 = page.ele(\".no-data-message\")\n",
    "    while True:\n",
    "        if ele1.states.is_displayed:\n",
    "            break\n",
    "        else:\n",
    "            continue\n",
    "    #判断是否找到了失信惩戒对象，并打印相应的消息。\n",
    "    if ele1:\n",
    "        page.scroll.to_bottom()\n",
    "        save_screenshot_to_custom_path(f\"data/{company_name}/{company_name}_{url_name}.jpg\")\n",
    "        ad_to_df(company_name,url_name, \"否\", \"是\",\"\")\n",
    "    else:\n",
    "        ele_text = tab.ele(\".no-data-message\").text\n",
    "        ad_to_df( company_name, url_name, \"否\", \"是\",ele_text)\n",
    "        save_screenshot_to_custom_path(f\"data/{company_name}/{company_name}_{url_name}.jpg\")\n",
    "        #反之不是0，就是有搜索内容，搜索的内容保存到df表中。\n",
    "    page.close_other_tabs()\n",
    "    print(f\"【{company_name}】已经完成【{url_name}】的核查\")\n",
    "    \n",
    "def 信用中国网重点领域严重失信主体名单_经营异常名录信息查询_main(company_name):\n",
    "    \"\"\"\n",
    "    company_name：输入的公司名称\n",
    "    \"\"\"\n",
    "    url_name=\"信用中国网重点领域严重失信主体名单_经营异常名录信息查询\"\n",
    "    page.get(\"https://www.creditchina.gov.cn/xinyongfuwu/zhongdianguanzhushixinmingdan/\")  \n",
    "    # 输入公司名称并按回车键  \n",
    "    #@@name=row1@@class:cls\n",
    "    page.ele(\".searchBox\").ele(\"@placeholder=请输入主体名称或者统一社会信用代码\").input(f\"{company_name}\\n\")\n",
    "    time.sleep(0.3)\n",
    "    # 查找页面显示搜索信息页面的元素的大小，无内容为\"符合条件的有0条\"\n",
    "    ele1 = page.ele(\".no-data-message\")\n",
    "    while True:\n",
    "        if ele1.states.is_displayed:\n",
    "            break\n",
    "        else:\n",
    "            continue\n",
    "    #判断是否找到了失信惩戒对象，并打印相应的消息。\n",
    "    if ele1:\n",
    "        page.scroll.to_bottom()\n",
    "        save_screenshot_to_custom_path(f\"data/{company_name}/{company_name}_{url_name}.jpg\")\n",
    "        ad_to_df(company_name,url_name, \"否\", \"是\",\"\")\n",
    "    else:\n",
    "        ele_text = tab.ele(\".no-data-message\").text\n",
    "        ad_to_df( company_name, url_name, \"否\", \"是\",ele_text)\n",
    "        save_screenshot_to_custom_path(f\"data/{company_name}/{company_name}_{url_name}.jpg\")\n",
    "        #反之不是0，就是有搜索内容，搜索的内容保存到df表中。\n",
    "    page.close_other_tabs()\n",
    "    print(f\"【{company_name}】已经完成【{url_name}】的核查\")\n",
    "    \n",
    "def 信用中国网重点领域严重失信主体名单_政府采购严重违法失信行为记录名单_main(company_name):\n",
    "    \"\"\"\n",
    "    company_name：输入的公司名称\n",
    "    \"\"\"\n",
    "    url_name=\"政府采购严重违法失信行为记录名单\"\n",
    "    page.get(\"https://www.creditchina.gov.cn/xinyongfuwu/zhengfucaigouyanzhongweifashixinmingdan/\")  \n",
    "    # 输入公司名称并按回车键  \n",
    "    #@@name=row1@@class:cls\n",
    "    page.ele(\".searchBox\").ele(\"@placeholder=请输入主体名称或者统一社会信用代码\").input(f\"{company_name}\\n\")\n",
    "    time.sleep(0.3)\n",
    "    # 查找页面显示搜索信息页面的元素的大小，无内容为\"符合条件的有0条\"\n",
    "    ele1 = page.ele(\".no-data-message\")\n",
    "    while True:\n",
    "        if ele1.states.is_displayed:\n",
    "            break\n",
    "        else:\n",
    "            continue\n",
    "    #判断是否找到了失信惩戒对象，并打印相应的消息。\n",
    "    if ele1:\n",
    "        page.scroll.to_bottom()\n",
    "        save_screenshot_to_custom_path(f\"data/{company_name}/{company_name}_{url_name}.jpg\")\n",
    "        ad_to_df(company_name,url_name, \"否\", \"是\",\"\")\n",
    "    else:\n",
    "        ele_text = tab.ele(\".no-data-message\").text\n",
    "        ad_to_df( company_name, url_name, \"否\", \"是\",ele_text)\n",
    "        save_screenshot_to_custom_path(f\"data/{company_name}/{company_name}_{url_name}.jpg\")\n",
    "        #反之不是0，就是有搜索内容，搜索的内容保存到df表中。\n",
    "    page.close_other_tabs()\n",
    "    print(f\"【{company_name}】已经完成【{url_name}】的核查\")\n",
    "    \n",
    "def 信用中国网重点领域严重失信主体名单_拖欠农民工工资失信联合惩戒对象名单_main(company_name):\n",
    "    \"\"\"\n",
    "    company_name：输入的公司名称\n",
    "    \"\"\"\n",
    "    url_name=\"信用中国网重点领域严重失信主体名单_拖欠农民工工资失信联合惩戒对象名单\"\n",
    "    page.get(\"https://www.creditchina.gov.cn/xinyongfuwu/zdlycx/?tablename=credit_rsb_fr_tqnmggz&gsName=%E6%8B%96%E6%AC%A0%E5%86%9C%E6%B0%91%E5%B7%A5%E5%B7%A5%E8%B5%84%E5%A4%B1%E4%BF%A1%E8%81%94%E5%90%88%E6%83%A9%E6%88%92%E5%AF%B9%E8%B1%A1%E5%90%8D%E5%8D%95\")  \n",
    "    # 输入公司名称并按回车键  \n",
    "    #@@name=row1@@class:cls\n",
    "    page.ele(\".searchBox\").ele(\"@placeholder=请输入主体名称\").input(f\"{company_name}\\n\")\n",
    "    time.sleep(0.3)\n",
    "    # 查找页面显示搜索信息页面的元素的大小，无内容为\"符合条件的有0条\"\n",
    "    ele1 = page.ele(\".no-data-message\")\n",
    "    while True:\n",
    "        if ele1.states.is_displayed:\n",
    "            break\n",
    "        else:\n",
    "            continue\n",
    "    #判断是否找到了失信惩戒对象，并打印相应的消息。\n",
    "    if ele1:\n",
    "        page.scroll.to_bottom()\n",
    "        save_screenshot_to_custom_path(f\"data/{company_name}/{company_name}_{url_name}.jpg\")\n",
    "        ad_to_df(company_name,url_name, \"否\", \"是\",\"\")\n",
    "    else:\n",
    "        ele_text = tab.ele(\".no-data-message\").text\n",
    "        ad_to_df( company_name, url_name, \"否\", \"是\",ele_text)\n",
    "        save_screenshot_to_custom_path(f\"data/{company_name}/{company_name}_{url_name}.jpg\")\n",
    "        #反之不是0，就是有搜索内容，搜索的内容保存到df表中。\n",
    "    page.close_other_tabs()\n",
    "    print(f\"【{company_name}】已经完成【{url_name}】的核查\")\n",
    "    \n",
    "def 信用中国网重点领域严重失信主体名单_重大税收违法失信主体_main(company_name):\n",
    "    \"\"\"\n",
    "    company_name：输入的公司名称\n",
    "    \"\"\"\n",
    "    url_name=\"信用中国网重点领域严重失信主体名单_重大税收违法失信主体\"\n",
    "    page.get(\"https://www.creditchina.gov.cn/xinyongfuwu/zhongdashuishouweifaanjian/\")  \n",
    "    # 输入公司名称并按回车键  \n",
    "    #@@name=row1@@class:cls\n",
    "    page.ele(\".searchBox\").ele(\"@placeholder=请输入主体名称或者统一社会信用代码\").input(f\"{company_name}\\n\")\n",
    "    time.sleep(0.3)\n",
    "    # 查找页面显示搜索信息页面的元素的大小，无内容为\"符合条件的有0条\"\n",
    "    ele1 = page.ele(\".no-data-message\")\n",
    "    while True:\n",
    "        if ele1.states.is_displayed:\n",
    "            break\n",
    "        else:\n",
    "            continue\n",
    "    #判断是否找到了失信惩戒对象，并打印相应的消息。\n",
    "    if ele1:\n",
    "        page.scroll.to_bottom()\n",
    "        save_screenshot_to_custom_path(f\"data/{company_name}/{company_name}_{url_name}.jpg\")\n",
    "        ad_to_df(company_name,url_name, \"否\", \"是\",\"\")\n",
    "    else:\n",
    "        ele_text = tab.ele(\".no-data-message\").text\n",
    "        ad_to_df( company_name, url_name, \"否\", \"是\",ele_text)\n",
    "        save_screenshot_to_custom_path(f\"data/{company_name}/{company_name}_{url_name}.jpg\")\n",
    "        #反之不是0，就是有搜索内容，搜索的内容保存到df表中。\n",
    "    page.close_other_tabs()\n",
    "    print(f\"【{company_name}】已经完成【{url_name}】的核查\")\n",
    "    \n",
    "def 信用中国网重点领域严重失信主体名单_统计严重失信企业名单_main(company_name):\n",
    "    \"\"\"\n",
    "    company_name：输入的公司名称\n",
    "    \"\"\"\n",
    "    url_name=\"信用中国网重点领域严重失信主体名单_统计严重失信企业名单\"\n",
    "    page.get(\"https://www.creditchina.gov.cn/xinyongfuwu/zdlycx/?tablename=credit_gjtjj_fr_tjsyzsxqy&gsName=%E7%BB%9F%E8%AE%A1%E4%B8%A5%E9%87%8D%E5%A4%B1%E4%BF%A1%E4%BC%81%E4%B8%9A%E5%90%8D%E5%8D%95\")  \n",
    "    # 输入公司名称并按回车键  \n",
    "    #@@name=row1@@class:cls\n",
    "    page.ele(\".searchBox\").ele(\"@placeholder=请输入主体名称或者统一社会信用代码\").input(f\"{company_name}\\n\")\n",
    "    time.sleep(0.3)\n",
    "    # 查找页面显示搜索信息页面的元素的大小，无内容为\"符合条件的有0条\"\n",
    "    ele1 = page.ele(\".no-data-message\")\n",
    "    while True:\n",
    "        if ele1.states.is_displayed:\n",
    "            break\n",
    "        else:\n",
    "            continue\n",
    "    #判断是否找到了失信惩戒对象，并打印相应的消息。\n",
    "    if ele1:\n",
    "        page.scroll.to_bottom()\n",
    "        save_screenshot_to_custom_path(f\"data/{company_name}/{company_name}_{url_name}.jpg\")\n",
    "        ad_to_df(company_name,url_name, \"否\", \"是\",\"\")\n",
    "    else:\n",
    "        ele_text = tab.ele(\".no-data-message\").text\n",
    "        ad_to_df( company_name, url_name, \"否\", \"是\",ele_text)\n",
    "        save_screenshot_to_custom_path(f\"data/{company_name}/{company_name}_{url_name}.jpg\")\n",
    "        #反之不是0，就是有搜索内容，搜索的内容保存到df表中。\n",
    "    page.close_other_tabs()\n",
    "    print(f\"【{company_name}】已经完成【{url_name}】的核查\")\n",
    "    \n",
    "    \n",
    "def 重大税收违法失信案件信息公布栏_main(company_name):\n",
    "    \"\"\"\n",
    "    company_name：输入的公司名称\n",
    "    \"\"\"\n",
    "    url_name=\"重大税收违法失信案件信息公布栏\"\n",
    "    page.get(\"https://zhejiang.chinatax.gov.cn/col/col24411/index.html\")  \n",
    "    # 输入公司名称并按回车键  \n",
    "    #@@name=row1@@class:cls\n",
    "    page.ele(\".input1\").input(f\"{company_name}\\n\")\n",
    "    page.ele(\".search-submit\").click(None)\n",
    "    time.sleep(0.3)\n",
    "    # 查找页面显示搜索信息页面的元素的大小，无内容为\"符合条件的有0条\"\n",
    "    ele1 = page.ele(\"很遗憾，没有检索到任何记录！\")\n",
    "    while True:\n",
    "        if ele1.states.is_displayed:\n",
    "            break\n",
    "        else:\n",
    "            continue\n",
    "    #判断是否找到了失信惩戒对象，并打印相应的消息。\n",
    "    if ele1:\n",
    "        #page.scroll.to_bottom()\n",
    "        save_screenshot_to_custom_path(f\"data/{company_name}/{company_name}_{url_name}.jpg\")\n",
    "        ad_to_df(company_name,url_name, \"否\", \"是\",\"\")\n",
    "    else:\n",
    "        ele_text = tab.ele(\".no-data-message\").text\n",
    "        ad_to_df( company_name, url_name, \"否\", \"是\",ele_text)\n",
    "        save_screenshot_to_custom_path(f\"data/{company_name}/{company_name}_{url_name}.jpg\")\n",
    "        #反之不是0，就是有搜索内容，搜索的内容保存到df表中。\n",
    "    page.close_other_tabs()\n",
    "    print(f\"【{company_name}】已经完成【{url_name}】的核查\")"
   ]
  },
  {
   "cell_type": "code",
   "execution_count": 5,
   "metadata": {},
   "outputs": [],
   "source": [
    "def 中国执行信息公开网_main(company_name):\n",
    "    \"\"\"\n",
    "    company_name：输入的公司名称\n",
    "    \"\"\"\n",
    "    while True:\n",
    "        url_name=\"中国执行信息公开网\"\n",
    "        page.get(\"http://zxgk.court.gov.cn/shixin/\")  \n",
    "        # 输入公司名称并按回车键  \n",
    "        page.ele(\"#pName\").input(company_name)\n",
    "        page(\"#yzm\").click(None)\n",
    "        time.sleep(0.5)\n",
    "        img = page(\"#captchaImg\")\n",
    "        src = img.get_src()  \n",
    "        # 保存采集的img图片  \n",
    "        img.save(\"img\",\"src.jpg\")  \n",
    "        # 识别验证码  \n",
    "        text_验证码 = dd_验证码识别_pt()  \n",
    "        # 寻找验证码输入文本框，并输入识别的text_验证码  \n",
    "        #page.click(\"#yzm\").type(text_验证码)\n",
    "        page(\"#yzm\").input(text_验证码)\n",
    "        # 点击搜索按钮 \n",
    "        page.ele(\".btn btn-zxgk btn-block \").click(None)\n",
    "        print(\"正在校验，内容是否详实\"+company_name)\n",
    "        time.sleep(2)\n",
    "        print(page(\"xpath://html/body/div[2]/div/div[2]/div[4]/div[1]/div/table/tbody/p\").text)\n",
    "        if page(\"xpath://html/body/div[2]/div/div[2]/div[4]/div[1]/div/table/tbody/p\").text == \"在全国范围内没有找到\"+company_name+\"相关的结果.\":\n",
    "            time.sleep(2)\n",
    "            save_screenshot_to_custom_path(f\"data/{company_name}/{company_name}_{url_name}.jpg\")\n",
    "            ad_to_df(company_name,url_name, \"否\", \"是\",\"\")\n",
    "            print(\"true，执行公开查询完成\")\n",
    "            break\n",
    "        elif page(\"xpath://html/body/div[2]/div/div[2]/div[4]/div[1]/div/table/tbody/p\").text == \"验证码错误或验证码已过期。\":\n",
    "            print(\"验证码错误，重新开始\"+company_name)\n",
    "            continue\n",
    "        else:\n",
    "            print(\"其他错误\")\n",
    "            print(page(\"xpath://html/body/div[2]/div/div[2]/div[4]/div[1]/div/table/tbody/p\").text)\n",
    "        #判断是否找到了失信惩戒对象，并打印相应的消息。\n",
    "        page.close_other_tabs()\n",
    "        print(f\"【{company_name}】已经完成【{url_name}】的核查\")"
   ]
  },
  {
   "cell_type": "code",
   "execution_count": 6,
   "metadata": {},
   "outputs": [],
   "source": [
    "def 证券期货市场失信记录查询平台_main(company_name):\n",
    "    \"\"\"\n",
    "    company_name：输入的公司名称\n",
    "    \"\"\"\n",
    "    url_name=\"证券期货市场失信记录查询平台\"\n",
    "    page.get(\"https://neris.csrc.gov.cn/shixinchaxun/\")  \n",
    "    # 输入公司名称并按回车键  \n",
    "    page.ele(\"@placeholder=必须填写姓名或名称，至少两个以上汉字\").input(f\"{company_name}\\n\")\n",
    "    page(\"搜索\").click(None)\n",
    "    time.sleep(1)\n",
    "    #验证码模块\n",
    "    big_pic_path=r\"img/big_pic.png\"\n",
    "    time.sleep(3)\n",
    "    page(\"css:#app > div > div > div.mask > div > div.verifybox-bottom > div > div.verify-img-out > div > img\").save(None,big_pic_path)\n",
    "    small_pic_path = r\"img/small_pic.png\"\n",
    "    page(\"css:#app > div > div > div.mask > div > div.verifybox-bottom > div > div.verify-bar-area > div > div > div > img\").save(None,small_pic_path)\n",
    "    res=ddddocr_滑块(big_pic_path,small_pic_path)\n",
    "    ac = ActionChains(page)\n",
    "    ele=(\"css:#app > div > div > div.mask > div > div.verifybox-bottom > div > div.verify-bar-area > div > div\")\n",
    "    ac.hold(ele).right(int(res))\n",
    "    time.sleep(0.5)\n",
    "    ac.left(25)\n",
    "    time.sleep(0.3)\n",
    "    ac.release()\n",
    "    time.sleep(10)\n",
    "    page.to_tab(page.latest_tab)\n",
    "    save_screenshot_to_custom_path(f\"data/{company_name}/{company_name}_{url_name}.jpg\")\n",
    "    ad_to_df(company_name,url_name, \"否\", \"是\",\"\")\n",
    "    page.close_other_tabs()\n",
    "    print(f\"【{company_name}】已经完成【{url_name}】的核查\")"
   ]
  },
  {
   "cell_type": "code",
   "execution_count": 7,
   "metadata": {},
   "outputs": [],
   "source": [
    "def 全国行业信用公共服务平台_main(company_name):\n",
    "    \"\"\"\n",
    "    company_name：输入的公司名称\n",
    "    \"\"\"\n",
    "    url_name=\"全国行业信用公共服务平台\"\n",
    "    page.get(\"http://www.bcp12312.org.cn/\")\n",
    "    page.ele(\"@name=kd\").input(f\"{company_name}\\n\")\n",
    "    #验证码模块\n",
    "    page(\"#licenceImg\").save(\"img\",\"src.jpg\")\n",
    "    page(\"#validatecode\").input(dd_验证码识别_pt()+\"\\n\")\n",
    "    a=page.handle_alert(timeout=1)\n",
    "    time.sleep(1)        \n",
    "    if  a == False:\n",
    "        save_screenshot_to_custom_path(f\"data/{company_name}/{company_name}_{url_name}.jpg\")\n",
    "        ad_to_df(company_name,url_name, \"否\", \"是\",\"\")"
   ]
  },
  {
   "cell_type": "code",
   "execution_count": 8,
   "metadata": {},
   "outputs": [],
   "source": [
    "def 慧眼大数据风险监测系统_main(company_name):\n",
    "    \"\"\"\n",
    "    company_name：输入的公司名称\n",
    "    \"\"\"\n",
    "    url_name=\"慧眼大数据风险监测系统\"\n",
    "    page.get(\"http://222.73.4.143:8088/index\")\n",
    "    if page.url == \"http://222.73.4.143:8088/loginPage\":\n",
    "        page.ele(\"@placeholder=用户名/手机号\").input(\"htbond01\")\n",
    "        page.ele(\"@placeholder=密码\").input(\"htbond01\")\n",
    "        page.ele(\".loginButton\").click(None)\n",
    "    page.ele(\"查诚信\").click(None)\n",
    "    page.ele(\"@placeholder=输入公司或者证券\").input(company_name)\n",
    "    time.sleep(1)\n",
    "    page.ele(\"@placeholder=输入公司或者证券\").input(\"\\n\")\n",
    "    time.sleep(1)\n",
    "    page.ele(\"@placeholder=输入公司或者证券\").input(\"\\n\")\n",
    "    page.ele(\"@class=banbutt\").click(None)\n",
    "    time.sleep(5)\n",
    "    # 查找页面显示搜索信息页面的元素的大小，无内容为\"符合条件的有0条\"\n",
    "    ele1 = page.ele(\"沪深上市\")\n",
    "    while True:\n",
    "        if ele1.states.is_displayed:\n",
    "            break\n",
    "        else:\n",
    "            time.sleep(0.1)\n",
    "            continue\n",
    "    #判断是否找到了失信惩戒对象，并打印相应的消息。\n",
    "    time.sleep(1)\n",
    "    if page.ele(\"@class=grid-container\").text == \"\":\n",
    "        page.scroll.to_bottom()\n",
    "        save_screenshot_to_custom_path(f\"data/{company_name}/{company_name}_{url_name}.jpg\")\n",
    "        ad_to_df(company_name,url_name, \"否\", \"是\",\"\")\n",
    "    else:\n",
    "        ele_text = page.ele(\"@class=grid-container\").text\n",
    "        ad_to_df( company_name, url_name, \"否\", \"是\",ele_text)\n",
    "        save_screenshot_to_custom_path(f\"data/{company_name}/{company_name}_{url_name}.jpg\")\n",
    "        #反之不是0，就是有搜索内容，搜索的内容保存到df表中。\n",
    "    page.close_other_tabs()\n",
    "    print(f\"【{company_name}】已经完成【{url_name}】的核查\")"
   ]
  },
  {
   "cell_type": "code",
   "execution_count": 18,
   "metadata": {},
   "outputs": [],
   "source": [
    "def 中国海关企业进出口信用信息公示平台_main(company_name):  \n",
    "    \"\"\"\n",
    "    company_name：输入的公司名称\n",
    "    \"\"\"\n",
    "    while True:\n",
    "        url_name=\"中国海关企业进出口信用信息公示平台\"\n",
    "        page.get(\"http://credit.customs.gov.cn/\")\n",
    "        page.ele(\"@value=企业名称或统一社会信用代码\").input(f\"{company_name}\\n\")\n",
    "        #验证码模块\n",
    "        img = page(\"#verifyCode\")  \n",
    "        src = img.get_src()\n",
    "        img.save('img',\"src.gif\")\n",
    "        text_验证码 = dd_验证码识别_gif(\"img/src.gif\")  \n",
    "        # 寻找验证码输入文本框，并输入识别的text_验证码  \n",
    "        page(\"#checkCode\").input(text_验证码)\n",
    "        for i in range(5):\n",
    "            try:\n",
    "                time.sleep(3)\n",
    "                page(\"xpath://html/body/div/div[3]/div[1]/div[1]/button\").click()\n",
    "                break\n",
    "            except ElementNotFoundError:\n",
    "                time.sleep(3)\n",
    "                page(\"xpath://html/body/div/div[3]/div[1]/div[1]/button\").click()\n",
    "        print(\"正在校验，内容是否详实\")\n",
    "            # 查找提示文本框，校验内容为“无符合条件的数据”或“验证码错误”。\n",
    "        if page.ele(\"xpath://html/body/div[3]/div[2]\",timeout=5):\n",
    "            if page('xpath://html/body/div[3]/div[2]').text == \"无符合条件的数据\":  \n",
    "                save_screenshot_to_custom_path(f\"data/{company_name}/{company_name}_{url_name}.jpg\")\n",
    "                ad_to_df(company_name,url_name, \"否\", \"是\",\"\")\n",
    "                print(\"海关完成true\")\n",
    "                break  \n",
    "            elif page('xpath://html/body/div[3]/div[2]').text == \"请输入正确的验证码\":  \n",
    "                print(\"验证码错误，重新开始运行\")\n",
    "                continue  # 当出现验证码错误时，重新开始循环  \n",
    "            else:  \n",
    "                print(company_name+\"出现其他问题\") \n",
    "                #continue\n",
    "                continue\n",
    "        else:\n",
    "            page.refresh()\n",
    "            time.sleep(1)\n",
    "            continue"
   ]
  },
  {
   "cell_type": "code",
   "execution_count": 59,
   "metadata": {},
   "outputs": [],
   "source": [
    "def 国家企业信用信息公示系统_main(company_name):  \n",
    "    \"\"\"\n",
    "    company_name：输入的公司名称\n",
    "    \"\"\"\n",
    "    url_name=\"国家企业信用信息公示系统\"\n",
    "    #page.get(\"http://www.gsxt.gov.cn\")\n",
    "    page.get(\"https://shiming.gsxt.gov.cn/\")\n",
    "    page.ele(\"@placeholder=请输入企业名称、统一社会信用代码或注册号\",timeout=100).input(f\"{company_name}\\n\")\n",
    "    #验证码模块（等待用户输入）\n",
    "    if \"查询到0条信息\" in page.ele(\"查询\",timeout=10000).text:\n",
    "        save_screenshot_to_custom_path(f\"data/{company_name}/{company_name}_{url_name}.jpg\")\n",
    "        ad_to_df(company_name,url_name, \"否\", \"是\",\"\")\n",
    "    else:\n",
    "        page.ele(company_name).click(None)\n",
    "        page.wait.new_tab()\n",
    "        page.to_tab(page.latest_tab)\n",
    "        page.ele(\".menu\").ele(\"基础信息\").click(None)\n",
    "        save_screenshot_to_custom_path(f\"data/{company_name}/{company_name}_{url_name}.jpg\")\n",
    "        ad_to_df(company_name,url_name, \"否\", \"是\",\"\")\n",
    "        国家企业信用信息公示系统_items(company_name, url_name)\n",
    "        \n",
    "\n",
    "def 国家企业信用信息公示系统_items(company_name, url_name):\n",
    "    \n",
    "    \"\"\"  \n",
    "    处理多个菜单项的函数。  \n",
    "  \n",
    "    参数:  \n",
    "    - company_name: 字符串，公司名称，用于构造截图和数据框的保存路径。  \n",
    "    - url_name: 字符串，URL名称或标识符，同样用于构造截图和数据框的保存路径。\n",
    "    内部参数:\n",
    "    - menu_items: 列表，包含多个元组，每个元组表示一个菜单项的信息。  \n",
    "                 每个元组包含三个元素：  \n",
    "                 1. - menu_name: 菜单名称（字符串），用于定位并点击页面上的菜单项。  \n",
    "                 2. - menu_id: 元素ID（字符串），用于定位页面上用于获取信息的元素。\n",
    "                 3. - menu_Lnub: 元素文本的长度（数字），用于判断是否加载完成 \n",
    "  \n",
    "    返回值:  \n",
    "    - None: 此函数不返回任何值，但会执行一系列操作，包括点击菜单项、打印信息、保存截图和添加到数据框。  \n",
    "    \"\"\"\n",
    "    \n",
    "    menu_items = [(\"行政许可信息\",\"nLictb\",39),\n",
    "                (\"行政处罚信息\",\"needPaging_punish\",44),\n",
    "                (\"列入经营异常名录信息\",\"needPaging_abnormal\",56),\n",
    "                (\"列入严重违法失信名单（黑名单）信息\",\"needPaging_illegal\",73),\n",
    "                (\"公告信息\", \"stopBusi_table\",22)]\n",
    "    for menu_item in menu_items:  \n",
    "        menu_name, menu_id, menu_Lnub = menu_item  \n",
    "\n",
    "        # 点击菜单项  \n",
    "        page.ele(\".menu\").ele(menu_name).click(None)  \n",
    "\n",
    "        # 获取并打印相关信息  \n",
    "        while True:\n",
    "            info_text = page.ele(f\"#{menu_id}\").text \n",
    "            if len(info_text) != menu_Lnub:\n",
    "                #print(info_text)  \n",
    "                # 保存截图  \n",
    "                screenshot_path = f\"data/{company_name}/{company_name}_{url_name}_{menu_name}.jpg\"    \n",
    "                save_screenshot_to_custom_path(screenshot_path)\n",
    "                # 添加到数据框  \n",
    "                ad_to_df(company_name, url_name, \"否\", \"是\", info_text)\n",
    "                break\n",
    "            else:\n",
    "                time.sleep(0.3)\n",
    "                continue"
   ]
  },
  {
   "cell_type": "code",
   "execution_count": 69,
   "metadata": {},
   "outputs": [],
   "source": [
    "def 中国裁判文书网_main(company_name):  \n",
    "    \"\"\"\n",
    "    company_name：输入的公司名称\n",
    "    \"\"\"\n",
    "    url_name=\"中国裁判文书网\"\n",
    "    page.get(\"https://wenshu.court.gov.cn/\")\n",
    "    page.ele(\"欢迎您\")\n",
    "    page.ele(\"@placeholder=输入案由、关键词、法院、当事人、律师\",timeout=100).input(f\"{company_name}\\n\")\n",
    "    #验证码模块（等待用户输入）\n",
    "    ele1 = page.ele(\"共检索到\",timeout=10000)\n",
    "    if \"共检索到0篇文书\" in ele1.text:\n",
    "        save_screenshot_to_custom_path(f\"data/{company_name}/{company_name}_{url_name}.jpg\")\n",
    "        ad_to_df(company_name,url_name, \"否\", \"是\",\"\")\n",
    "    else:\n",
    "        save_screenshot_to_custom_path(f\"data/{company_name}/{company_name}_{url_name}.jpg\")\n",
    "        ad_to_df(company_name,url_name, \"否\", \"是\",ele1.text)"
   ]
  },
  {
   "cell_type": "code",
   "execution_count": 10,
   "metadata": {},
   "outputs": [],
   "source": [
    "def 核查意见_ad_是否适用_hc(company_name,url_name):\n",
    "    try:\n",
    "        a = df[(df['公司名称'] == company_name) & (df['网址名称'] == url_name)]['核查意见'].values[0]\n",
    "        b = df[(df['公司名称'] == company_name) & (df['网址名称'] == url_name)]['是否适用'].values[0]\n",
    "    except IndexError:\n",
    "        a = \"否\"\n",
    "        b = \"是\"\n",
    "    return a,b"
   ]
  },
  {
   "cell_type": "code",
   "execution_count": 67,
   "metadata": {},
   "outputs": [
    {
     "name": "stdout",
     "output_type": "stream",
     "text": [
      "文件夹已存在: 财通证券（香港）有限公司\n",
      "文件夹已存在: 财通证券资产管理有限公司\n",
      "文件夹已存在: 财通证券股份有限公司\n",
      "文件夹已存在: 财通国际资产管理有限公司\n",
      "文件夹已存在: 财通国际证券有限责任公司\n"
     ]
    }
   ],
   "source": [
    "company_name_list=[\"财通证券（香港）有限公司\",\n",
    "\"财通证券资产管理有限公司\",\n",
    "\"财通证券股份有限公司\",\n",
    "\"财通国际资产管理有限公司\",\n",
    "\"财通国际证券有限责任公司\"]\n",
    "文件创建(company_name_list)"
   ]
  },
  {
   "cell_type": "code",
   "execution_count": 12,
   "metadata": {},
   "outputs": [],
   "source": [
    "#df.to_excel('data.xlsx', index=False)"
   ]
  },
  {
   "cell_type": "code",
   "execution_count": 18,
   "metadata": {},
   "outputs": [
    {
     "name": "stderr",
     "output_type": "stream",
     "text": [
      "Exception in thread Thread-150:\n",
      "Traceback (most recent call last):\n",
      "  File \"d:\\program files\\python\\lib\\threading.py\", line 932, in _bootstrap_inner\n",
      "    self.run()\n",
      "  File \"d:\\program files\\python\\lib\\threading.py\", line 870, in run\n",
      "    self._target(*self._args, **self._kwargs)\n",
      "  File \"d:\\program files\\python\\lib\\site-packages\\DrissionPage\\chromium_driver.py\", line 123, in _recv_loop\n",
      "    message = loads(message_json)\n",
      "  File \"d:\\program files\\python\\lib\\json\\__init__.py\", line 357, in loads\n",
      "    return _default_decoder.decode(s)\n",
      "  File \"d:\\program files\\python\\lib\\json\\decoder.py\", line 337, in decode\n",
      "    obj, end = self.raw_decode(s, idx=_w(s, 0).end())\n",
      "  File \"d:\\program files\\python\\lib\\json\\decoder.py\", line 355, in raw_decode\n",
      "    raise JSONDecodeError(\"Expecting value\", s, err.value) from None\n",
      "json.decoder.JSONDecodeError: Expecting value: line 1 column 1 (char 0)\n"
     ]
    },
    {
     "name": "stdout",
     "output_type": "stream",
     "text": [
      "【财通证券股份有限公司】已经完成【中华人民共和国国家发展和改革委员会网站】的核查\n"
     ]
    },
    {
     "name": "stderr",
     "output_type": "stream",
     "text": [
      "Exception in thread Thread-154:\n",
      "Traceback (most recent call last):\n",
      "  File \"d:\\program files\\python\\lib\\threading.py\", line 932, in _bootstrap_inner\n",
      "    self.run()\n",
      "  File \"d:\\program files\\python\\lib\\threading.py\", line 870, in run\n",
      "    self._target(*self._args, **self._kwargs)\n",
      "  File \"d:\\program files\\python\\lib\\site-packages\\DrissionPage\\chromium_driver.py\", line 123, in _recv_loop\n",
      "    message = loads(message_json)\n",
      "  File \"d:\\program files\\python\\lib\\json\\__init__.py\", line 357, in loads\n",
      "    return _default_decoder.decode(s)\n",
      "  File \"d:\\program files\\python\\lib\\json\\decoder.py\", line 337, in decode\n",
      "    obj, end = self.raw_decode(s, idx=_w(s, 0).end())\n",
      "  File \"d:\\program files\\python\\lib\\json\\decoder.py\", line 355, in raw_decode\n",
      "    raise JSONDecodeError(\"Expecting value\", s, err.value) from None\n",
      "json.decoder.JSONDecodeError: Expecting value: line 1 column 1 (char 0)\n"
     ]
    },
    {
     "name": "stdout",
     "output_type": "stream",
     "text": [
      "【财通证券股份有限公司】已经完成【中华人民共和国应急管理部网站】的核查\n"
     ]
    },
    {
     "name": "stderr",
     "output_type": "stream",
     "text": [
      "Exception in thread Thread-156:\n",
      "Traceback (most recent call last):\n",
      "  File \"d:\\program files\\python\\lib\\threading.py\", line 932, in _bootstrap_inner\n",
      "    self.run()\n",
      "  File \"d:\\program files\\python\\lib\\threading.py\", line 870, in run\n",
      "    self._target(*self._args, **self._kwargs)\n",
      "  File \"d:\\program files\\python\\lib\\site-packages\\DrissionPage\\chromium_driver.py\", line 123, in _recv_loop\n",
      "    message = loads(message_json)\n",
      "  File \"d:\\program files\\python\\lib\\json\\__init__.py\", line 357, in loads\n",
      "    return _default_decoder.decode(s)\n",
      "  File \"d:\\program files\\python\\lib\\json\\decoder.py\", line 337, in decode\n",
      "    obj, end = self.raw_decode(s, idx=_w(s, 0).end())\n",
      "  File \"d:\\program files\\python\\lib\\json\\decoder.py\", line 355, in raw_decode\n",
      "    raise JSONDecodeError(\"Expecting value\", s, err.value) from None\n",
      "json.decoder.JSONDecodeError: Expecting value: line 1 column 1 (char 0)\n"
     ]
    },
    {
     "name": "stdout",
     "output_type": "stream",
     "text": [
      "【财通证券股份有限公司】已经完成【中华人民共和国生态环境部网站】的核查\n"
     ]
    },
    {
     "name": "stderr",
     "output_type": "stream",
     "text": [
      "Exception in thread Thread-158:\n",
      "Traceback (most recent call last):\n",
      "  File \"d:\\program files\\python\\lib\\threading.py\", line 932, in _bootstrap_inner\n",
      "    self.run()\n",
      "  File \"d:\\program files\\python\\lib\\threading.py\", line 870, in run\n",
      "    self._target(*self._args, **self._kwargs)\n",
      "  File \"d:\\program files\\python\\lib\\site-packages\\DrissionPage\\chromium_driver.py\", line 123, in _recv_loop\n",
      "    message = loads(message_json)\n",
      "  File \"d:\\program files\\python\\lib\\json\\__init__.py\", line 357, in loads\n",
      "    return _default_decoder.decode(s)\n",
      "  File \"d:\\program files\\python\\lib\\json\\decoder.py\", line 337, in decode\n",
      "    obj, end = self.raw_decode(s, idx=_w(s, 0).end())\n",
      "  File \"d:\\program files\\python\\lib\\json\\decoder.py\", line 355, in raw_decode\n",
      "    raise JSONDecodeError(\"Expecting value\", s, err.value) from None\n",
      "json.decoder.JSONDecodeError: Expecting value: line 1 column 1 (char 0)\n"
     ]
    },
    {
     "name": "stdout",
     "output_type": "stream",
     "text": [
      "【财通证券股份有限公司】已经完成【中华人民共和国工业和信息化部网站】的核查\n"
     ]
    },
    {
     "name": "stderr",
     "output_type": "stream",
     "text": [
      "Exception in thread Thread-160:\n",
      "Traceback (most recent call last):\n",
      "  File \"d:\\program files\\python\\lib\\threading.py\", line 932, in _bootstrap_inner\n",
      "    self.run()\n",
      "  File \"d:\\program files\\python\\lib\\threading.py\", line 870, in run\n",
      "    self._target(*self._args, **self._kwargs)\n",
      "  File \"d:\\program files\\python\\lib\\site-packages\\DrissionPage\\chromium_driver.py\", line 123, in _recv_loop\n",
      "    message = loads(message_json)\n",
      "  File \"d:\\program files\\python\\lib\\json\\__init__.py\", line 357, in loads\n",
      "    return _default_decoder.decode(s)\n",
      "  File \"d:\\program files\\python\\lib\\json\\decoder.py\", line 337, in decode\n",
      "    obj, end = self.raw_decode(s, idx=_w(s, 0).end())\n",
      "  File \"d:\\program files\\python\\lib\\json\\decoder.py\", line 355, in raw_decode\n",
      "    raise JSONDecodeError(\"Expecting value\", s, err.value) from None\n",
      "json.decoder.JSONDecodeError: Expecting value: line 1 column 1 (char 0)\n"
     ]
    },
    {
     "name": "stdout",
     "output_type": "stream",
     "text": [
      "【财通证券股份有限公司】已经完成【中华人民共和国商务部网站】的核查\n"
     ]
    },
    {
     "name": "stderr",
     "output_type": "stream",
     "text": [
      "Exception in thread Thread-162:\n",
      "Traceback (most recent call last):\n",
      "  File \"d:\\program files\\python\\lib\\threading.py\", line 932, in _bootstrap_inner\n",
      "    self.run()\n",
      "  File \"d:\\program files\\python\\lib\\threading.py\", line 870, in run\n",
      "    self._target(*self._args, **self._kwargs)\n",
      "  File \"d:\\program files\\python\\lib\\site-packages\\DrissionPage\\chromium_driver.py\", line 123, in _recv_loop\n",
      "    message = loads(message_json)\n",
      "  File \"d:\\program files\\python\\lib\\json\\__init__.py\", line 357, in loads\n",
      "    return _default_decoder.decode(s)\n",
      "  File \"d:\\program files\\python\\lib\\json\\decoder.py\", line 337, in decode\n",
      "    obj, end = self.raw_decode(s, idx=_w(s, 0).end())\n",
      "  File \"d:\\program files\\python\\lib\\json\\decoder.py\", line 355, in raw_decode\n",
      "    raise JSONDecodeError(\"Expecting value\", s, err.value) from None\n",
      "json.decoder.JSONDecodeError: Expecting value: line 1 column 1 (char 0)\n"
     ]
    },
    {
     "name": "stdout",
     "output_type": "stream",
     "text": [
      "【财通证券股份有限公司】已经完成【中华人民共和国财政部网站】的核查\n"
     ]
    },
    {
     "name": "stderr",
     "output_type": "stream",
     "text": [
      "Exception in thread Thread-164:\n",
      "Traceback (most recent call last):\n",
      "  File \"d:\\program files\\python\\lib\\threading.py\", line 932, in _bootstrap_inner\n",
      "    self.run()\n",
      "  File \"d:\\program files\\python\\lib\\threading.py\", line 870, in run\n",
      "    self._target(*self._args, **self._kwargs)\n",
      "  File \"d:\\program files\\python\\lib\\site-packages\\DrissionPage\\chromium_driver.py\", line 123, in _recv_loop\n",
      "    message = loads(message_json)\n",
      "  File \"d:\\program files\\python\\lib\\json\\__init__.py\", line 357, in loads\n",
      "    return _default_decoder.decode(s)\n",
      "  File \"d:\\program files\\python\\lib\\json\\decoder.py\", line 337, in decode\n",
      "    obj, end = self.raw_decode(s, idx=_w(s, 0).end())\n",
      "  File \"d:\\program files\\python\\lib\\json\\decoder.py\", line 355, in raw_decode\n",
      "    raise JSONDecodeError(\"Expecting value\", s, err.value) from None\n",
      "json.decoder.JSONDecodeError: Expecting value: line 1 column 1 (char 0)\n"
     ]
    },
    {
     "name": "stdout",
     "output_type": "stream",
     "text": [
      "【财通证券股份有限公司】已经完成【中华人民共和国农业农村部网站】的核查\n"
     ]
    },
    {
     "name": "stderr",
     "output_type": "stream",
     "text": [
      "Exception in thread Thread-166:\n",
      "Traceback (most recent call last):\n",
      "  File \"d:\\program files\\python\\lib\\threading.py\", line 932, in _bootstrap_inner\n",
      "    self.run()\n",
      "  File \"d:\\program files\\python\\lib\\threading.py\", line 870, in run\n",
      "    self._target(*self._args, **self._kwargs)\n",
      "  File \"d:\\program files\\python\\lib\\site-packages\\DrissionPage\\chromium_driver.py\", line 123, in _recv_loop\n",
      "    message = loads(message_json)\n",
      "  File \"d:\\program files\\python\\lib\\json\\__init__.py\", line 357, in loads\n",
      "    return _default_decoder.decode(s)\n",
      "  File \"d:\\program files\\python\\lib\\json\\decoder.py\", line 337, in decode\n",
      "    obj, end = self.raw_decode(s, idx=_w(s, 0).end())\n",
      "  File \"d:\\program files\\python\\lib\\json\\decoder.py\", line 355, in raw_decode\n",
      "    raise JSONDecodeError(\"Expecting value\", s, err.value) from None\n",
      "json.decoder.JSONDecodeError: Expecting value: line 1 column 1 (char 0)\n"
     ]
    },
    {
     "name": "stdout",
     "output_type": "stream",
     "text": [
      "【财通证券股份有限公司】已经完成【中华人民共和国人力资源和社会保障部网站】的核查\n"
     ]
    },
    {
     "name": "stderr",
     "output_type": "stream",
     "text": [
      "Exception in thread Thread-168:\n",
      "Traceback (most recent call last):\n",
      "  File \"d:\\program files\\python\\lib\\threading.py\", line 932, in _bootstrap_inner\n",
      "    self.run()\n",
      "  File \"d:\\program files\\python\\lib\\threading.py\", line 870, in run\n",
      "    self._target(*self._args, **self._kwargs)\n",
      "  File \"d:\\program files\\python\\lib\\site-packages\\DrissionPage\\chromium_driver.py\", line 123, in _recv_loop\n",
      "    message = loads(message_json)\n",
      "  File \"d:\\program files\\python\\lib\\json\\__init__.py\", line 357, in loads\n",
      "    return _default_decoder.decode(s)\n",
      "  File \"d:\\program files\\python\\lib\\json\\decoder.py\", line 337, in decode\n",
      "    obj, end = self.raw_decode(s, idx=_w(s, 0).end())\n",
      "  File \"d:\\program files\\python\\lib\\json\\decoder.py\", line 355, in raw_decode\n",
      "    raise JSONDecodeError(\"Expecting value\", s, err.value) from None\n",
      "json.decoder.JSONDecodeError: Expecting value: line 1 column 1 (char 0)\n"
     ]
    },
    {
     "name": "stdout",
     "output_type": "stream",
     "text": [
      "11\n",
      "【财通证券股份有限公司】已经完成【中华人民共和国住房和城乡建设部】的核查\n"
     ]
    },
    {
     "name": "stderr",
     "output_type": "stream",
     "text": [
      "Exception in thread Thread-170:\n",
      "Traceback (most recent call last):\n",
      "  File \"d:\\program files\\python\\lib\\threading.py\", line 932, in _bootstrap_inner\n",
      "    self.run()\n",
      "  File \"d:\\program files\\python\\lib\\threading.py\", line 870, in run\n",
      "    self._target(*self._args, **self._kwargs)\n",
      "  File \"d:\\program files\\python\\lib\\site-packages\\DrissionPage\\chromium_driver.py\", line 123, in _recv_loop\n",
      "    message = loads(message_json)\n",
      "  File \"d:\\program files\\python\\lib\\json\\__init__.py\", line 357, in loads\n",
      "    return _default_decoder.decode(s)\n",
      "  File \"d:\\program files\\python\\lib\\json\\decoder.py\", line 337, in decode\n",
      "    obj, end = self.raw_decode(s, idx=_w(s, 0).end())\n",
      "  File \"d:\\program files\\python\\lib\\json\\decoder.py\", line 355, in raw_decode\n",
      "    raise JSONDecodeError(\"Expecting value\", s, err.value) from None\n",
      "json.decoder.JSONDecodeError: Expecting value: line 1 column 1 (char 0)\n"
     ]
    },
    {
     "name": "stdout",
     "output_type": "stream",
     "text": [
      "51\n",
      "【财通证券股份有限公司】已经完成【国家统计局网站】的核查\n"
     ]
    },
    {
     "name": "stderr",
     "output_type": "stream",
     "text": [
      "Exception in thread Thread-172:\n",
      "Traceback (most recent call last):\n",
      "  File \"d:\\program files\\python\\lib\\threading.py\", line 932, in _bootstrap_inner\n",
      "    self.run()\n",
      "  File \"d:\\program files\\python\\lib\\threading.py\", line 870, in run\n",
      "    self._target(*self._args, **self._kwargs)\n",
      "  File \"d:\\program files\\python\\lib\\site-packages\\DrissionPage\\chromium_driver.py\", line 123, in _recv_loop\n",
      "    message = loads(message_json)\n",
      "  File \"d:\\program files\\python\\lib\\json\\__init__.py\", line 357, in loads\n",
      "    return _default_decoder.decode(s)\n",
      "  File \"d:\\program files\\python\\lib\\json\\decoder.py\", line 337, in decode\n",
      "    obj, end = self.raw_decode(s, idx=_w(s, 0).end())\n",
      "  File \"d:\\program files\\python\\lib\\json\\decoder.py\", line 355, in raw_decode\n",
      "    raise JSONDecodeError(\"Expecting value\", s, err.value) from None\n",
      "json.decoder.JSONDecodeError: Expecting value: line 1 column 1 (char 0)\n"
     ]
    },
    {
     "name": "stdout",
     "output_type": "stream",
     "text": [
      "【财通证券股份有限公司】已经完成【国家市场监督管理总局网站】的核查\n"
     ]
    },
    {
     "name": "stderr",
     "output_type": "stream",
     "text": [
      "Exception in thread Thread-174:\n",
      "Traceback (most recent call last):\n",
      "  File \"d:\\program files\\python\\lib\\threading.py\", line 932, in _bootstrap_inner\n",
      "    self.run()\n",
      "  File \"d:\\program files\\python\\lib\\threading.py\", line 870, in run\n",
      "    self._target(*self._args, **self._kwargs)\n",
      "  File \"d:\\program files\\python\\lib\\site-packages\\DrissionPage\\chromium_driver.py\", line 123, in _recv_loop\n",
      "    message = loads(message_json)\n",
      "  File \"d:\\program files\\python\\lib\\json\\__init__.py\", line 357, in loads\n",
      "    return _default_decoder.decode(s)\n",
      "  File \"d:\\program files\\python\\lib\\json\\decoder.py\", line 337, in decode\n",
      "    obj, end = self.raw_decode(s, idx=_w(s, 0).end())\n",
      "  File \"d:\\program files\\python\\lib\\json\\decoder.py\", line 355, in raw_decode\n",
      "    raise JSONDecodeError(\"Expecting value\", s, err.value) from None\n",
      "json.decoder.JSONDecodeError: Expecting value: line 1 column 1 (char 0)\n"
     ]
    },
    {
     "name": "stdout",
     "output_type": "stream",
     "text": [
      "【财通证券股份有限公司】已经完成【国家药品监督管理局】的核查\n"
     ]
    },
    {
     "name": "stderr",
     "output_type": "stream",
     "text": [
      "Exception in thread Thread-176:\n",
      "Traceback (most recent call last):\n",
      "  File \"d:\\program files\\python\\lib\\threading.py\", line 932, in _bootstrap_inner\n",
      "    self.run()\n",
      "  File \"d:\\program files\\python\\lib\\threading.py\", line 870, in run\n",
      "    self._target(*self._args, **self._kwargs)\n",
      "  File \"d:\\program files\\python\\lib\\site-packages\\DrissionPage\\chromium_driver.py\", line 123, in _recv_loop\n",
      "    message = loads(message_json)\n",
      "  File \"d:\\program files\\python\\lib\\json\\__init__.py\", line 357, in loads\n",
      "    return _default_decoder.decode(s)\n",
      "  File \"d:\\program files\\python\\lib\\json\\decoder.py\", line 337, in decode\n",
      "    obj, end = self.raw_decode(s, idx=_w(s, 0).end())\n",
      "  File \"d:\\program files\\python\\lib\\json\\decoder.py\", line 355, in raw_decode\n",
      "    raise JSONDecodeError(\"Expecting value\", s, err.value) from None\n",
      "json.decoder.JSONDecodeError: Expecting value: line 1 column 1 (char 0)\n"
     ]
    },
    {
     "name": "stdout",
     "output_type": "stream",
     "text": [
      "【财通证券股份有限公司】已经完成【中国人民银行】的核查\n",
      "【财通证券股份有限公司】已经完成【国家金融监督管理总局】的核查\n",
      "【财通证券股份有限公司】已经完成【国家外汇管理局网站】的核查\n",
      "【财通证券股份有限公司】已经完成【政府采购网】的核查\n",
      "【财通证券股份有限公司】已经完成【信用能源】的核查\n",
      "【财通证券股份有限公司】已经完成【信用交通网】的核查\n",
      "【财通证券股份有限公司】已经完成【中国商务信用平台】的核查\n",
      "【财通证券股份有限公司】已经完成【信用盐业】的核查\n",
      "【财通证券股份有限公司】已经完成【信用电力】的核查\n",
      "【财通证券股份有限公司】已经完成【杭州市政府官方网站】的核查\n",
      "【财通证券股份有限公司】已经完成【信用中国网重点领域严重失信主体名单_严重失信主体名单查询】的核查\n",
      "【财通证券股份有限公司】已经完成【信用中国网重点领域严重失信主体名单_经营异常名录信息查询】的核查\n",
      "【财通证券股份有限公司】已经完成【政府采购严重违法失信行为记录名单】的核查\n",
      "【财通证券股份有限公司】已经完成【信用中国网重点领域严重失信主体名单_拖欠农民工工资失信联合惩戒对象名单】的核查\n",
      "【财通证券股份有限公司】已经完成【信用中国网重点领域严重失信主体名单_重大税收违法失信主体】的核查\n",
      "【财通证券股份有限公司】已经完成【信用中国网重点领域严重失信主体名单_统计严重失信企业名单】的核查\n"
     ]
    },
    {
     "name": "stderr",
     "output_type": "stream",
     "text": [
      "Exception in thread Thread-178:\n",
      "Traceback (most recent call last):\n",
      "  File \"d:\\program files\\python\\lib\\threading.py\", line 932, in _bootstrap_inner\n",
      "    self.run()\n",
      "  File \"d:\\program files\\python\\lib\\threading.py\", line 870, in run\n",
      "    self._target(*self._args, **self._kwargs)\n",
      "  File \"d:\\program files\\python\\lib\\site-packages\\DrissionPage\\chromium_driver.py\", line 123, in _recv_loop\n",
      "    message = loads(message_json)\n",
      "  File \"d:\\program files\\python\\lib\\json\\__init__.py\", line 357, in loads\n",
      "    return _default_decoder.decode(s)\n",
      "  File \"d:\\program files\\python\\lib\\json\\decoder.py\", line 337, in decode\n",
      "    obj, end = self.raw_decode(s, idx=_w(s, 0).end())\n",
      "  File \"d:\\program files\\python\\lib\\json\\decoder.py\", line 355, in raw_decode\n",
      "    raise JSONDecodeError(\"Expecting value\", s, err.value) from None\n",
      "json.decoder.JSONDecodeError: Expecting value: line 1 column 1 (char 0)\n"
     ]
    },
    {
     "name": "stdout",
     "output_type": "stream",
     "text": [
      "【财通国际资产管理有限公司】已经完成【中华人民共和国国家发展和改革委员会网站】的核查\n"
     ]
    },
    {
     "name": "stderr",
     "output_type": "stream",
     "text": [
      "Exception in thread Thread-186:\n",
      "Traceback (most recent call last):\n",
      "  File \"d:\\program files\\python\\lib\\threading.py\", line 932, in _bootstrap_inner\n",
      "    self.run()\n",
      "  File \"d:\\program files\\python\\lib\\threading.py\", line 870, in run\n",
      "    self._target(*self._args, **self._kwargs)\n",
      "  File \"d:\\program files\\python\\lib\\site-packages\\DrissionPage\\chromium_driver.py\", line 123, in _recv_loop\n",
      "    message = loads(message_json)\n",
      "  File \"d:\\program files\\python\\lib\\json\\__init__.py\", line 357, in loads\n",
      "    return _default_decoder.decode(s)\n",
      "  File \"d:\\program files\\python\\lib\\json\\decoder.py\", line 337, in decode\n",
      "    obj, end = self.raw_decode(s, idx=_w(s, 0).end())\n",
      "  File \"d:\\program files\\python\\lib\\json\\decoder.py\", line 355, in raw_decode\n",
      "    raise JSONDecodeError(\"Expecting value\", s, err.value) from None\n",
      "json.decoder.JSONDecodeError: Expecting value: line 1 column 1 (char 0)\n"
     ]
    },
    {
     "name": "stdout",
     "output_type": "stream",
     "text": [
      "【财通国际资产管理有限公司】已经完成【中华人民共和国应急管理部网站】的核查\n"
     ]
    },
    {
     "name": "stderr",
     "output_type": "stream",
     "text": [
      "Exception in thread Thread-188:\n",
      "Traceback (most recent call last):\n",
      "  File \"d:\\program files\\python\\lib\\threading.py\", line 932, in _bootstrap_inner\n",
      "    self.run()\n",
      "  File \"d:\\program files\\python\\lib\\threading.py\", line 870, in run\n",
      "    self._target(*self._args, **self._kwargs)\n",
      "  File \"d:\\program files\\python\\lib\\site-packages\\DrissionPage\\chromium_driver.py\", line 123, in _recv_loop\n",
      "    message = loads(message_json)\n",
      "  File \"d:\\program files\\python\\lib\\json\\__init__.py\", line 357, in loads\n",
      "    return _default_decoder.decode(s)\n",
      "  File \"d:\\program files\\python\\lib\\json\\decoder.py\", line 337, in decode\n",
      "    obj, end = self.raw_decode(s, idx=_w(s, 0).end())\n",
      "  File \"d:\\program files\\python\\lib\\json\\decoder.py\", line 355, in raw_decode\n",
      "    raise JSONDecodeError(\"Expecting value\", s, err.value) from None\n",
      "json.decoder.JSONDecodeError: Expecting value: line 1 column 1 (char 0)\n"
     ]
    },
    {
     "name": "stdout",
     "output_type": "stream",
     "text": [
      "【财通国际资产管理有限公司】已经完成【中华人民共和国生态环境部网站】的核查\n"
     ]
    },
    {
     "name": "stderr",
     "output_type": "stream",
     "text": [
      "Exception in thread Thread-190:\n",
      "Traceback (most recent call last):\n",
      "  File \"d:\\program files\\python\\lib\\threading.py\", line 932, in _bootstrap_inner\n",
      "    self.run()\n",
      "  File \"d:\\program files\\python\\lib\\threading.py\", line 870, in run\n",
      "    self._target(*self._args, **self._kwargs)\n",
      "  File \"d:\\program files\\python\\lib\\site-packages\\DrissionPage\\chromium_driver.py\", line 123, in _recv_loop\n",
      "    message = loads(message_json)\n",
      "  File \"d:\\program files\\python\\lib\\json\\__init__.py\", line 357, in loads\n",
      "    return _default_decoder.decode(s)\n",
      "  File \"d:\\program files\\python\\lib\\json\\decoder.py\", line 337, in decode\n",
      "    obj, end = self.raw_decode(s, idx=_w(s, 0).end())\n",
      "  File \"d:\\program files\\python\\lib\\json\\decoder.py\", line 355, in raw_decode\n",
      "    raise JSONDecodeError(\"Expecting value\", s, err.value) from None\n",
      "json.decoder.JSONDecodeError: Expecting value: line 1 column 1 (char 0)\n"
     ]
    },
    {
     "name": "stdout",
     "output_type": "stream",
     "text": [
      "【财通国际资产管理有限公司】已经完成【中华人民共和国工业和信息化部网站】的核查\n"
     ]
    },
    {
     "name": "stderr",
     "output_type": "stream",
     "text": [
      "Exception in thread Thread-192:\n",
      "Traceback (most recent call last):\n",
      "  File \"d:\\program files\\python\\lib\\threading.py\", line 932, in _bootstrap_inner\n",
      "    self.run()\n",
      "  File \"d:\\program files\\python\\lib\\threading.py\", line 870, in run\n",
      "    self._target(*self._args, **self._kwargs)\n",
      "  File \"d:\\program files\\python\\lib\\site-packages\\DrissionPage\\chromium_driver.py\", line 123, in _recv_loop\n",
      "    message = loads(message_json)\n",
      "  File \"d:\\program files\\python\\lib\\json\\__init__.py\", line 357, in loads\n",
      "    return _default_decoder.decode(s)\n",
      "  File \"d:\\program files\\python\\lib\\json\\decoder.py\", line 337, in decode\n",
      "    obj, end = self.raw_decode(s, idx=_w(s, 0).end())\n",
      "  File \"d:\\program files\\python\\lib\\json\\decoder.py\", line 355, in raw_decode\n",
      "    raise JSONDecodeError(\"Expecting value\", s, err.value) from None\n",
      "json.decoder.JSONDecodeError: Expecting value: line 1 column 1 (char 0)\n"
     ]
    },
    {
     "name": "stdout",
     "output_type": "stream",
     "text": [
      "【财通国际资产管理有限公司】已经完成【中华人民共和国商务部网站】的核查\n"
     ]
    },
    {
     "name": "stderr",
     "output_type": "stream",
     "text": [
      "Exception in thread Thread-194:\n",
      "Traceback (most recent call last):\n",
      "  File \"d:\\program files\\python\\lib\\threading.py\", line 932, in _bootstrap_inner\n",
      "    self.run()\n",
      "  File \"d:\\program files\\python\\lib\\threading.py\", line 870, in run\n",
      "    self._target(*self._args, **self._kwargs)\n",
      "  File \"d:\\program files\\python\\lib\\site-packages\\DrissionPage\\chromium_driver.py\", line 123, in _recv_loop\n",
      "    message = loads(message_json)\n",
      "  File \"d:\\program files\\python\\lib\\json\\__init__.py\", line 357, in loads\n",
      "    return _default_decoder.decode(s)\n",
      "  File \"d:\\program files\\python\\lib\\json\\decoder.py\", line 337, in decode\n",
      "    obj, end = self.raw_decode(s, idx=_w(s, 0).end())\n",
      "  File \"d:\\program files\\python\\lib\\json\\decoder.py\", line 355, in raw_decode\n",
      "    raise JSONDecodeError(\"Expecting value\", s, err.value) from None\n",
      "json.decoder.JSONDecodeError: Expecting value: line 1 column 1 (char 0)\n"
     ]
    },
    {
     "name": "stdout",
     "output_type": "stream",
     "text": [
      "【财通国际资产管理有限公司】已经完成【中华人民共和国财政部网站】的核查\n"
     ]
    },
    {
     "name": "stderr",
     "output_type": "stream",
     "text": [
      "Exception in thread Thread-196:\n",
      "Traceback (most recent call last):\n",
      "  File \"d:\\program files\\python\\lib\\threading.py\", line 932, in _bootstrap_inner\n",
      "    self.run()\n",
      "  File \"d:\\program files\\python\\lib\\threading.py\", line 870, in run\n",
      "    self._target(*self._args, **self._kwargs)\n",
      "  File \"d:\\program files\\python\\lib\\site-packages\\DrissionPage\\chromium_driver.py\", line 123, in _recv_loop\n",
      "    message = loads(message_json)\n",
      "  File \"d:\\program files\\python\\lib\\json\\__init__.py\", line 357, in loads\n",
      "    return _default_decoder.decode(s)\n",
      "  File \"d:\\program files\\python\\lib\\json\\decoder.py\", line 337, in decode\n",
      "    obj, end = self.raw_decode(s, idx=_w(s, 0).end())\n",
      "  File \"d:\\program files\\python\\lib\\json\\decoder.py\", line 355, in raw_decode\n",
      "    raise JSONDecodeError(\"Expecting value\", s, err.value) from None\n",
      "json.decoder.JSONDecodeError: Expecting value: line 1 column 1 (char 0)\n"
     ]
    },
    {
     "name": "stdout",
     "output_type": "stream",
     "text": [
      "【财通国际资产管理有限公司】已经完成【中华人民共和国农业农村部网站】的核查\n"
     ]
    },
    {
     "name": "stderr",
     "output_type": "stream",
     "text": [
      "Exception in thread Thread-198:\n",
      "Traceback (most recent call last):\n",
      "  File \"d:\\program files\\python\\lib\\threading.py\", line 932, in _bootstrap_inner\n",
      "    self.run()\n",
      "  File \"d:\\program files\\python\\lib\\threading.py\", line 870, in run\n",
      "    self._target(*self._args, **self._kwargs)\n",
      "  File \"d:\\program files\\python\\lib\\site-packages\\DrissionPage\\chromium_driver.py\", line 123, in _recv_loop\n",
      "    message = loads(message_json)\n",
      "  File \"d:\\program files\\python\\lib\\json\\__init__.py\", line 357, in loads\n",
      "    return _default_decoder.decode(s)\n",
      "  File \"d:\\program files\\python\\lib\\json\\decoder.py\", line 337, in decode\n",
      "    obj, end = self.raw_decode(s, idx=_w(s, 0).end())\n",
      "  File \"d:\\program files\\python\\lib\\json\\decoder.py\", line 355, in raw_decode\n",
      "    raise JSONDecodeError(\"Expecting value\", s, err.value) from None\n",
      "json.decoder.JSONDecodeError: Expecting value: line 1 column 1 (char 0)\n"
     ]
    },
    {
     "name": "stdout",
     "output_type": "stream",
     "text": [
      "【财通国际资产管理有限公司】已经完成【中华人民共和国人力资源和社会保障部网站】的核查\n"
     ]
    },
    {
     "name": "stderr",
     "output_type": "stream",
     "text": [
      "Exception in thread Thread-200:\n",
      "Traceback (most recent call last):\n",
      "  File \"d:\\program files\\python\\lib\\threading.py\", line 932, in _bootstrap_inner\n",
      "    self.run()\n",
      "  File \"d:\\program files\\python\\lib\\threading.py\", line 870, in run\n",
      "    self._target(*self._args, **self._kwargs)\n",
      "  File \"d:\\program files\\python\\lib\\site-packages\\DrissionPage\\chromium_driver.py\", line 123, in _recv_loop\n",
      "    message = loads(message_json)\n",
      "  File \"d:\\program files\\python\\lib\\json\\__init__.py\", line 357, in loads\n",
      "    return _default_decoder.decode(s)\n",
      "  File \"d:\\program files\\python\\lib\\json\\decoder.py\", line 337, in decode\n",
      "    obj, end = self.raw_decode(s, idx=_w(s, 0).end())\n",
      "  File \"d:\\program files\\python\\lib\\json\\decoder.py\", line 355, in raw_decode\n",
      "    raise JSONDecodeError(\"Expecting value\", s, err.value) from None\n",
      "json.decoder.JSONDecodeError: Expecting value: line 1 column 1 (char 0)\n"
     ]
    },
    {
     "name": "stdout",
     "output_type": "stream",
     "text": [
      "11\n",
      "【财通国际资产管理有限公司】已经完成【中华人民共和国住房和城乡建设部】的核查\n"
     ]
    },
    {
     "name": "stderr",
     "output_type": "stream",
     "text": [
      "Exception in thread Thread-202:\n",
      "Traceback (most recent call last):\n",
      "  File \"d:\\program files\\python\\lib\\threading.py\", line 932, in _bootstrap_inner\n",
      "    self.run()\n",
      "  File \"d:\\program files\\python\\lib\\threading.py\", line 870, in run\n",
      "    self._target(*self._args, **self._kwargs)\n",
      "  File \"d:\\program files\\python\\lib\\site-packages\\DrissionPage\\chromium_driver.py\", line 123, in _recv_loop\n",
      "    message = loads(message_json)\n",
      "  File \"d:\\program files\\python\\lib\\json\\__init__.py\", line 357, in loads\n",
      "    return _default_decoder.decode(s)\n",
      "  File \"d:\\program files\\python\\lib\\json\\decoder.py\", line 337, in decode\n",
      "    obj, end = self.raw_decode(s, idx=_w(s, 0).end())\n",
      "  File \"d:\\program files\\python\\lib\\json\\decoder.py\", line 355, in raw_decode\n",
      "    raise JSONDecodeError(\"Expecting value\", s, err.value) from None\n",
      "json.decoder.JSONDecodeError: Expecting value: line 1 column 1 (char 0)\n"
     ]
    },
    {
     "name": "stdout",
     "output_type": "stream",
     "text": [
      "51\n",
      "【财通国际资产管理有限公司】已经完成【国家统计局网站】的核查\n"
     ]
    },
    {
     "name": "stderr",
     "output_type": "stream",
     "text": [
      "Exception in thread Thread-204:\n",
      "Traceback (most recent call last):\n",
      "  File \"d:\\program files\\python\\lib\\threading.py\", line 932, in _bootstrap_inner\n",
      "    self.run()\n",
      "  File \"d:\\program files\\python\\lib\\threading.py\", line 870, in run\n",
      "    self._target(*self._args, **self._kwargs)\n",
      "  File \"d:\\program files\\python\\lib\\site-packages\\DrissionPage\\chromium_driver.py\", line 123, in _recv_loop\n",
      "    message = loads(message_json)\n",
      "  File \"d:\\program files\\python\\lib\\json\\__init__.py\", line 357, in loads\n",
      "    return _default_decoder.decode(s)\n",
      "  File \"d:\\program files\\python\\lib\\json\\decoder.py\", line 337, in decode\n",
      "    obj, end = self.raw_decode(s, idx=_w(s, 0).end())\n",
      "  File \"d:\\program files\\python\\lib\\json\\decoder.py\", line 355, in raw_decode\n",
      "    raise JSONDecodeError(\"Expecting value\", s, err.value) from None\n",
      "json.decoder.JSONDecodeError: Expecting value: line 1 column 1 (char 0)\n"
     ]
    },
    {
     "name": "stdout",
     "output_type": "stream",
     "text": [
      "【财通国际资产管理有限公司】已经完成【国家市场监督管理总局网站】的核查\n"
     ]
    },
    {
     "name": "stderr",
     "output_type": "stream",
     "text": [
      "Exception in thread Thread-206:\n",
      "Traceback (most recent call last):\n",
      "  File \"d:\\program files\\python\\lib\\threading.py\", line 932, in _bootstrap_inner\n",
      "    self.run()\n",
      "  File \"d:\\program files\\python\\lib\\threading.py\", line 870, in run\n",
      "    self._target(*self._args, **self._kwargs)\n",
      "  File \"d:\\program files\\python\\lib\\site-packages\\DrissionPage\\chromium_driver.py\", line 123, in _recv_loop\n",
      "    message = loads(message_json)\n",
      "  File \"d:\\program files\\python\\lib\\json\\__init__.py\", line 357, in loads\n",
      "    return _default_decoder.decode(s)\n",
      "  File \"d:\\program files\\python\\lib\\json\\decoder.py\", line 337, in decode\n",
      "    obj, end = self.raw_decode(s, idx=_w(s, 0).end())\n",
      "  File \"d:\\program files\\python\\lib\\json\\decoder.py\", line 355, in raw_decode\n",
      "    raise JSONDecodeError(\"Expecting value\", s, err.value) from None\n",
      "json.decoder.JSONDecodeError: Expecting value: line 1 column 1 (char 0)\n"
     ]
    },
    {
     "name": "stdout",
     "output_type": "stream",
     "text": [
      "【财通国际资产管理有限公司】已经完成【国家药品监督管理局】的核查\n"
     ]
    },
    {
     "name": "stderr",
     "output_type": "stream",
     "text": [
      "Exception in thread Thread-208:\n",
      "Traceback (most recent call last):\n",
      "  File \"d:\\program files\\python\\lib\\threading.py\", line 932, in _bootstrap_inner\n",
      "    self.run()\n",
      "  File \"d:\\program files\\python\\lib\\threading.py\", line 870, in run\n",
      "    self._target(*self._args, **self._kwargs)\n",
      "  File \"d:\\program files\\python\\lib\\site-packages\\DrissionPage\\chromium_driver.py\", line 123, in _recv_loop\n",
      "    message = loads(message_json)\n",
      "  File \"d:\\program files\\python\\lib\\json\\__init__.py\", line 357, in loads\n",
      "    return _default_decoder.decode(s)\n",
      "  File \"d:\\program files\\python\\lib\\json\\decoder.py\", line 337, in decode\n",
      "    obj, end = self.raw_decode(s, idx=_w(s, 0).end())\n",
      "  File \"d:\\program files\\python\\lib\\json\\decoder.py\", line 355, in raw_decode\n",
      "    raise JSONDecodeError(\"Expecting value\", s, err.value) from None\n",
      "json.decoder.JSONDecodeError: Expecting value: line 1 column 1 (char 0)\n"
     ]
    },
    {
     "name": "stdout",
     "output_type": "stream",
     "text": [
      "【财通国际资产管理有限公司】已经完成【中国人民银行】的核查\n",
      "【财通国际资产管理有限公司】已经完成【国家金融监督管理总局】的核查\n",
      "【财通国际资产管理有限公司】已经完成【国家外汇管理局网站】的核查\n",
      "【财通国际资产管理有限公司】已经完成【政府采购网】的核查\n",
      "【财通国际资产管理有限公司】已经完成【信用能源】的核查\n",
      "【财通国际资产管理有限公司】已经完成【信用交通网】的核查\n",
      "【财通国际资产管理有限公司】已经完成【中国商务信用平台】的核查\n",
      "【财通国际资产管理有限公司】已经完成【信用盐业】的核查\n",
      "【财通国际资产管理有限公司】已经完成【信用电力】的核查\n",
      "【财通国际资产管理有限公司】已经完成【杭州市政府官方网站】的核查\n",
      "【财通国际资产管理有限公司】已经完成【信用中国网重点领域严重失信主体名单_严重失信主体名单查询】的核查\n",
      "【财通国际资产管理有限公司】已经完成【信用中国网重点领域严重失信主体名单_经营异常名录信息查询】的核查\n",
      "【财通国际资产管理有限公司】已经完成【政府采购严重违法失信行为记录名单】的核查\n",
      "【财通国际资产管理有限公司】已经完成【信用中国网重点领域严重失信主体名单_拖欠农民工工资失信联合惩戒对象名单】的核查\n",
      "【财通国际资产管理有限公司】已经完成【信用中国网重点领域严重失信主体名单_重大税收违法失信主体】的核查\n",
      "【财通国际资产管理有限公司】已经完成【信用中国网重点领域严重失信主体名单_统计严重失信企业名单】的核查\n"
     ]
    },
    {
     "name": "stderr",
     "output_type": "stream",
     "text": [
      "Exception in thread Thread-210:\n",
      "Traceback (most recent call last):\n",
      "  File \"d:\\program files\\python\\lib\\threading.py\", line 932, in _bootstrap_inner\n",
      "    self.run()\n",
      "  File \"d:\\program files\\python\\lib\\threading.py\", line 870, in run\n",
      "    self._target(*self._args, **self._kwargs)\n",
      "  File \"d:\\program files\\python\\lib\\site-packages\\DrissionPage\\chromium_driver.py\", line 123, in _recv_loop\n",
      "    message = loads(message_json)\n",
      "  File \"d:\\program files\\python\\lib\\json\\__init__.py\", line 357, in loads\n",
      "    return _default_decoder.decode(s)\n",
      "  File \"d:\\program files\\python\\lib\\json\\decoder.py\", line 337, in decode\n",
      "    obj, end = self.raw_decode(s, idx=_w(s, 0).end())\n",
      "  File \"d:\\program files\\python\\lib\\json\\decoder.py\", line 355, in raw_decode\n",
      "    raise JSONDecodeError(\"Expecting value\", s, err.value) from None\n",
      "json.decoder.JSONDecodeError: Expecting value: line 1 column 1 (char 0)\n"
     ]
    },
    {
     "name": "stdout",
     "output_type": "stream",
     "text": [
      "【财通国际证券有限责任公司】已经完成【中华人民共和国国家发展和改革委员会网站】的核查\n"
     ]
    },
    {
     "name": "stderr",
     "output_type": "stream",
     "text": [
      "Exception in thread Thread-218:\n",
      "Traceback (most recent call last):\n",
      "  File \"d:\\program files\\python\\lib\\threading.py\", line 932, in _bootstrap_inner\n",
      "    self.run()\n",
      "  File \"d:\\program files\\python\\lib\\threading.py\", line 870, in run\n",
      "    self._target(*self._args, **self._kwargs)\n",
      "  File \"d:\\program files\\python\\lib\\site-packages\\DrissionPage\\chromium_driver.py\", line 123, in _recv_loop\n",
      "    message = loads(message_json)\n",
      "  File \"d:\\program files\\python\\lib\\json\\__init__.py\", line 357, in loads\n",
      "    return _default_decoder.decode(s)\n",
      "  File \"d:\\program files\\python\\lib\\json\\decoder.py\", line 337, in decode\n",
      "    obj, end = self.raw_decode(s, idx=_w(s, 0).end())\n",
      "  File \"d:\\program files\\python\\lib\\json\\decoder.py\", line 355, in raw_decode\n",
      "    raise JSONDecodeError(\"Expecting value\", s, err.value) from None\n",
      "json.decoder.JSONDecodeError: Expecting value: line 1 column 1 (char 0)\n"
     ]
    },
    {
     "name": "stdout",
     "output_type": "stream",
     "text": [
      "【财通国际证券有限责任公司】已经完成【中华人民共和国应急管理部网站】的核查\n"
     ]
    },
    {
     "name": "stderr",
     "output_type": "stream",
     "text": [
      "Exception in thread Thread-220:\n",
      "Traceback (most recent call last):\n",
      "  File \"d:\\program files\\python\\lib\\threading.py\", line 932, in _bootstrap_inner\n",
      "    self.run()\n",
      "  File \"d:\\program files\\python\\lib\\threading.py\", line 870, in run\n",
      "    self._target(*self._args, **self._kwargs)\n",
      "  File \"d:\\program files\\python\\lib\\site-packages\\DrissionPage\\chromium_driver.py\", line 123, in _recv_loop\n",
      "    message = loads(message_json)\n",
      "  File \"d:\\program files\\python\\lib\\json\\__init__.py\", line 357, in loads\n",
      "    return _default_decoder.decode(s)\n",
      "  File \"d:\\program files\\python\\lib\\json\\decoder.py\", line 337, in decode\n",
      "    obj, end = self.raw_decode(s, idx=_w(s, 0).end())\n",
      "  File \"d:\\program files\\python\\lib\\json\\decoder.py\", line 355, in raw_decode\n",
      "    raise JSONDecodeError(\"Expecting value\", s, err.value) from None\n",
      "json.decoder.JSONDecodeError: Expecting value: line 1 column 1 (char 0)\n"
     ]
    },
    {
     "name": "stdout",
     "output_type": "stream",
     "text": [
      "【财通国际证券有限责任公司】已经完成【中华人民共和国生态环境部网站】的核查\n"
     ]
    },
    {
     "name": "stderr",
     "output_type": "stream",
     "text": [
      "Exception in thread Thread-222:\n",
      "Traceback (most recent call last):\n",
      "  File \"d:\\program files\\python\\lib\\threading.py\", line 932, in _bootstrap_inner\n",
      "    self.run()\n",
      "  File \"d:\\program files\\python\\lib\\threading.py\", line 870, in run\n",
      "    self._target(*self._args, **self._kwargs)\n",
      "  File \"d:\\program files\\python\\lib\\site-packages\\DrissionPage\\chromium_driver.py\", line 123, in _recv_loop\n",
      "    message = loads(message_json)\n",
      "  File \"d:\\program files\\python\\lib\\json\\__init__.py\", line 357, in loads\n",
      "    return _default_decoder.decode(s)\n",
      "  File \"d:\\program files\\python\\lib\\json\\decoder.py\", line 337, in decode\n",
      "    obj, end = self.raw_decode(s, idx=_w(s, 0).end())\n",
      "  File \"d:\\program files\\python\\lib\\json\\decoder.py\", line 355, in raw_decode\n",
      "    raise JSONDecodeError(\"Expecting value\", s, err.value) from None\n",
      "json.decoder.JSONDecodeError: Expecting value: line 1 column 1 (char 0)\n"
     ]
    },
    {
     "name": "stdout",
     "output_type": "stream",
     "text": [
      "【财通国际证券有限责任公司】已经完成【中华人民共和国工业和信息化部网站】的核查\n"
     ]
    },
    {
     "name": "stderr",
     "output_type": "stream",
     "text": [
      "Exception in thread Thread-224:\n",
      "Traceback (most recent call last):\n",
      "  File \"d:\\program files\\python\\lib\\threading.py\", line 932, in _bootstrap_inner\n",
      "    self.run()\n",
      "  File \"d:\\program files\\python\\lib\\threading.py\", line 870, in run\n",
      "    self._target(*self._args, **self._kwargs)\n",
      "  File \"d:\\program files\\python\\lib\\site-packages\\DrissionPage\\chromium_driver.py\", line 123, in _recv_loop\n",
      "    message = loads(message_json)\n",
      "  File \"d:\\program files\\python\\lib\\json\\__init__.py\", line 357, in loads\n",
      "    return _default_decoder.decode(s)\n",
      "  File \"d:\\program files\\python\\lib\\json\\decoder.py\", line 337, in decode\n",
      "    obj, end = self.raw_decode(s, idx=_w(s, 0).end())\n",
      "  File \"d:\\program files\\python\\lib\\json\\decoder.py\", line 355, in raw_decode\n",
      "    raise JSONDecodeError(\"Expecting value\", s, err.value) from None\n",
      "json.decoder.JSONDecodeError: Expecting value: line 1 column 1 (char 0)\n"
     ]
    },
    {
     "name": "stdout",
     "output_type": "stream",
     "text": [
      "【财通国际证券有限责任公司】已经完成【中华人民共和国商务部网站】的核查\n"
     ]
    },
    {
     "name": "stderr",
     "output_type": "stream",
     "text": [
      "Exception in thread Thread-226:\n",
      "Traceback (most recent call last):\n",
      "  File \"d:\\program files\\python\\lib\\threading.py\", line 932, in _bootstrap_inner\n",
      "    self.run()\n",
      "  File \"d:\\program files\\python\\lib\\threading.py\", line 870, in run\n",
      "    self._target(*self._args, **self._kwargs)\n",
      "  File \"d:\\program files\\python\\lib\\site-packages\\DrissionPage\\chromium_driver.py\", line 123, in _recv_loop\n",
      "    message = loads(message_json)\n",
      "  File \"d:\\program files\\python\\lib\\json\\__init__.py\", line 357, in loads\n",
      "    return _default_decoder.decode(s)\n",
      "  File \"d:\\program files\\python\\lib\\json\\decoder.py\", line 337, in decode\n",
      "    obj, end = self.raw_decode(s, idx=_w(s, 0).end())\n",
      "  File \"d:\\program files\\python\\lib\\json\\decoder.py\", line 355, in raw_decode\n",
      "    raise JSONDecodeError(\"Expecting value\", s, err.value) from None\n",
      "json.decoder.JSONDecodeError: Expecting value: line 1 column 1 (char 0)\n"
     ]
    },
    {
     "name": "stdout",
     "output_type": "stream",
     "text": [
      "【财通国际证券有限责任公司】已经完成【中华人民共和国财政部网站】的核查\n"
     ]
    },
    {
     "name": "stderr",
     "output_type": "stream",
     "text": [
      "Exception in thread Thread-228:\n",
      "Traceback (most recent call last):\n",
      "  File \"d:\\program files\\python\\lib\\threading.py\", line 932, in _bootstrap_inner\n",
      "    self.run()\n",
      "  File \"d:\\program files\\python\\lib\\threading.py\", line 870, in run\n",
      "    self._target(*self._args, **self._kwargs)\n",
      "  File \"d:\\program files\\python\\lib\\site-packages\\DrissionPage\\chromium_driver.py\", line 123, in _recv_loop\n",
      "    message = loads(message_json)\n",
      "  File \"d:\\program files\\python\\lib\\json\\__init__.py\", line 357, in loads\n",
      "    return _default_decoder.decode(s)\n",
      "  File \"d:\\program files\\python\\lib\\json\\decoder.py\", line 337, in decode\n",
      "    obj, end = self.raw_decode(s, idx=_w(s, 0).end())\n",
      "  File \"d:\\program files\\python\\lib\\json\\decoder.py\", line 355, in raw_decode\n",
      "    raise JSONDecodeError(\"Expecting value\", s, err.value) from None\n",
      "json.decoder.JSONDecodeError: Expecting value: line 1 column 1 (char 0)\n"
     ]
    },
    {
     "name": "stdout",
     "output_type": "stream",
     "text": [
      "【财通国际证券有限责任公司】已经完成【中华人民共和国农业农村部网站】的核查\n"
     ]
    },
    {
     "name": "stderr",
     "output_type": "stream",
     "text": [
      "Exception in thread Thread-230:\n",
      "Traceback (most recent call last):\n",
      "  File \"d:\\program files\\python\\lib\\threading.py\", line 932, in _bootstrap_inner\n",
      "    self.run()\n",
      "  File \"d:\\program files\\python\\lib\\threading.py\", line 870, in run\n",
      "    self._target(*self._args, **self._kwargs)\n",
      "  File \"d:\\program files\\python\\lib\\site-packages\\DrissionPage\\chromium_driver.py\", line 123, in _recv_loop\n",
      "    message = loads(message_json)\n",
      "  File \"d:\\program files\\python\\lib\\json\\__init__.py\", line 357, in loads\n",
      "    return _default_decoder.decode(s)\n",
      "  File \"d:\\program files\\python\\lib\\json\\decoder.py\", line 337, in decode\n",
      "    obj, end = self.raw_decode(s, idx=_w(s, 0).end())\n",
      "  File \"d:\\program files\\python\\lib\\json\\decoder.py\", line 355, in raw_decode\n",
      "    raise JSONDecodeError(\"Expecting value\", s, err.value) from None\n",
      "json.decoder.JSONDecodeError: Expecting value: line 1 column 1 (char 0)\n"
     ]
    },
    {
     "name": "stdout",
     "output_type": "stream",
     "text": [
      "【财通国际证券有限责任公司】已经完成【中华人民共和国人力资源和社会保障部网站】的核查\n"
     ]
    },
    {
     "name": "stderr",
     "output_type": "stream",
     "text": [
      "Exception in thread Thread-232:\n",
      "Traceback (most recent call last):\n",
      "  File \"d:\\program files\\python\\lib\\threading.py\", line 932, in _bootstrap_inner\n",
      "    self.run()\n",
      "  File \"d:\\program files\\python\\lib\\threading.py\", line 870, in run\n",
      "    self._target(*self._args, **self._kwargs)\n",
      "  File \"d:\\program files\\python\\lib\\site-packages\\DrissionPage\\chromium_driver.py\", line 123, in _recv_loop\n",
      "    message = loads(message_json)\n",
      "  File \"d:\\program files\\python\\lib\\json\\__init__.py\", line 357, in loads\n",
      "    return _default_decoder.decode(s)\n",
      "  File \"d:\\program files\\python\\lib\\json\\decoder.py\", line 337, in decode\n",
      "    obj, end = self.raw_decode(s, idx=_w(s, 0).end())\n",
      "  File \"d:\\program files\\python\\lib\\json\\decoder.py\", line 355, in raw_decode\n",
      "    raise JSONDecodeError(\"Expecting value\", s, err.value) from None\n",
      "json.decoder.JSONDecodeError: Expecting value: line 1 column 1 (char 0)\n"
     ]
    },
    {
     "name": "stdout",
     "output_type": "stream",
     "text": [
      "0\n",
      "11\n",
      "【财通国际证券有限责任公司】已经完成【中华人民共和国住房和城乡建设部】的核查\n"
     ]
    },
    {
     "name": "stderr",
     "output_type": "stream",
     "text": [
      "Exception in thread Thread-234:\n",
      "Traceback (most recent call last):\n",
      "  File \"d:\\program files\\python\\lib\\threading.py\", line 932, in _bootstrap_inner\n",
      "    self.run()\n",
      "  File \"d:\\program files\\python\\lib\\threading.py\", line 870, in run\n",
      "    self._target(*self._args, **self._kwargs)\n",
      "  File \"d:\\program files\\python\\lib\\site-packages\\DrissionPage\\chromium_driver.py\", line 123, in _recv_loop\n",
      "    message = loads(message_json)\n",
      "  File \"d:\\program files\\python\\lib\\json\\__init__.py\", line 357, in loads\n",
      "    return _default_decoder.decode(s)\n",
      "  File \"d:\\program files\\python\\lib\\json\\decoder.py\", line 337, in decode\n",
      "    obj, end = self.raw_decode(s, idx=_w(s, 0).end())\n",
      "  File \"d:\\program files\\python\\lib\\json\\decoder.py\", line 355, in raw_decode\n",
      "    raise JSONDecodeError(\"Expecting value\", s, err.value) from None\n",
      "json.decoder.JSONDecodeError: Expecting value: line 1 column 1 (char 0)\n"
     ]
    },
    {
     "name": "stdout",
     "output_type": "stream",
     "text": [
      "51\n",
      "【财通国际证券有限责任公司】已经完成【国家统计局网站】的核查\n"
     ]
    },
    {
     "name": "stderr",
     "output_type": "stream",
     "text": [
      "Exception in thread Thread-236:\n",
      "Traceback (most recent call last):\n",
      "  File \"d:\\program files\\python\\lib\\threading.py\", line 932, in _bootstrap_inner\n",
      "    self.run()\n",
      "  File \"d:\\program files\\python\\lib\\threading.py\", line 870, in run\n",
      "    self._target(*self._args, **self._kwargs)\n",
      "  File \"d:\\program files\\python\\lib\\site-packages\\DrissionPage\\chromium_driver.py\", line 123, in _recv_loop\n",
      "    message = loads(message_json)\n",
      "  File \"d:\\program files\\python\\lib\\json\\__init__.py\", line 357, in loads\n",
      "    return _default_decoder.decode(s)\n",
      "  File \"d:\\program files\\python\\lib\\json\\decoder.py\", line 337, in decode\n",
      "    obj, end = self.raw_decode(s, idx=_w(s, 0).end())\n",
      "  File \"d:\\program files\\python\\lib\\json\\decoder.py\", line 355, in raw_decode\n",
      "    raise JSONDecodeError(\"Expecting value\", s, err.value) from None\n",
      "json.decoder.JSONDecodeError: Expecting value: line 1 column 1 (char 0)\n"
     ]
    },
    {
     "name": "stdout",
     "output_type": "stream",
     "text": [
      "【财通国际证券有限责任公司】已经完成【国家市场监督管理总局网站】的核查\n"
     ]
    },
    {
     "name": "stderr",
     "output_type": "stream",
     "text": [
      "Exception in thread Thread-238:\n",
      "Traceback (most recent call last):\n",
      "  File \"d:\\program files\\python\\lib\\threading.py\", line 932, in _bootstrap_inner\n",
      "    self.run()\n",
      "  File \"d:\\program files\\python\\lib\\threading.py\", line 870, in run\n",
      "    self._target(*self._args, **self._kwargs)\n",
      "  File \"d:\\program files\\python\\lib\\site-packages\\DrissionPage\\chromium_driver.py\", line 123, in _recv_loop\n",
      "    message = loads(message_json)\n",
      "  File \"d:\\program files\\python\\lib\\json\\__init__.py\", line 357, in loads\n",
      "    return _default_decoder.decode(s)\n",
      "  File \"d:\\program files\\python\\lib\\json\\decoder.py\", line 337, in decode\n",
      "    obj, end = self.raw_decode(s, idx=_w(s, 0).end())\n",
      "  File \"d:\\program files\\python\\lib\\json\\decoder.py\", line 355, in raw_decode\n",
      "    raise JSONDecodeError(\"Expecting value\", s, err.value) from None\n",
      "json.decoder.JSONDecodeError: Expecting value: line 1 column 1 (char 0)\n"
     ]
    },
    {
     "name": "stdout",
     "output_type": "stream",
     "text": [
      "【财通国际证券有限责任公司】已经完成【国家药品监督管理局】的核查\n"
     ]
    },
    {
     "name": "stderr",
     "output_type": "stream",
     "text": [
      "Exception in thread Thread-240:\n",
      "Traceback (most recent call last):\n",
      "  File \"d:\\program files\\python\\lib\\threading.py\", line 932, in _bootstrap_inner\n",
      "    self.run()\n",
      "  File \"d:\\program files\\python\\lib\\threading.py\", line 870, in run\n",
      "    self._target(*self._args, **self._kwargs)\n",
      "  File \"d:\\program files\\python\\lib\\site-packages\\DrissionPage\\chromium_driver.py\", line 123, in _recv_loop\n",
      "    message = loads(message_json)\n",
      "  File \"d:\\program files\\python\\lib\\json\\__init__.py\", line 357, in loads\n",
      "    return _default_decoder.decode(s)\n",
      "  File \"d:\\program files\\python\\lib\\json\\decoder.py\", line 337, in decode\n",
      "    obj, end = self.raw_decode(s, idx=_w(s, 0).end())\n",
      "  File \"d:\\program files\\python\\lib\\json\\decoder.py\", line 355, in raw_decode\n",
      "    raise JSONDecodeError(\"Expecting value\", s, err.value) from None\n",
      "json.decoder.JSONDecodeError: Expecting value: line 1 column 1 (char 0)\n"
     ]
    },
    {
     "name": "stdout",
     "output_type": "stream",
     "text": [
      "【财通国际证券有限责任公司】已经完成【中国人民银行】的核查\n",
      "【财通国际证券有限责任公司】已经完成【国家金融监督管理总局】的核查\n",
      "【财通国际证券有限责任公司】已经完成【国家外汇管理局网站】的核查\n",
      "【财通国际证券有限责任公司】已经完成【政府采购网】的核查\n",
      "【财通国际证券有限责任公司】已经完成【信用能源】的核查\n",
      "【财通国际证券有限责任公司】已经完成【信用交通网】的核查\n",
      "【财通国际证券有限责任公司】已经完成【中国商务信用平台】的核查\n",
      "【财通国际证券有限责任公司】已经完成【信用盐业】的核查\n",
      "【财通国际证券有限责任公司】已经完成【信用电力】的核查\n",
      "【财通国际证券有限责任公司】已经完成【杭州市政府官方网站】的核查\n",
      "【财通国际证券有限责任公司】已经完成【信用中国网重点领域严重失信主体名单_严重失信主体名单查询】的核查\n",
      "【财通国际证券有限责任公司】已经完成【信用中国网重点领域严重失信主体名单_经营异常名录信息查询】的核查\n",
      "【财通国际证券有限责任公司】已经完成【政府采购严重违法失信行为记录名单】的核查\n",
      "【财通国际证券有限责任公司】已经完成【信用中国网重点领域严重失信主体名单_拖欠农民工工资失信联合惩戒对象名单】的核查\n",
      "【财通国际证券有限责任公司】已经完成【信用中国网重点领域严重失信主体名单_重大税收违法失信主体】的核查\n",
      "【财通国际证券有限责任公司】已经完成【信用中国网重点领域严重失信主体名单_统计严重失信企业名单】的核查\n"
     ]
    },
    {
     "name": "stderr",
     "output_type": "stream",
     "text": [
      "Exception in thread Thread-242:\n",
      "Traceback (most recent call last):\n",
      "  File \"d:\\program files\\python\\lib\\threading.py\", line 932, in _bootstrap_inner\n",
      "    self.run()\n",
      "  File \"d:\\program files\\python\\lib\\threading.py\", line 870, in run\n",
      "    self._target(*self._args, **self._kwargs)\n",
      "  File \"d:\\program files\\python\\lib\\site-packages\\DrissionPage\\chromium_driver.py\", line 123, in _recv_loop\n",
      "    message = loads(message_json)\n",
      "  File \"d:\\program files\\python\\lib\\json\\__init__.py\", line 357, in loads\n",
      "    return _default_decoder.decode(s)\n",
      "  File \"d:\\program files\\python\\lib\\json\\decoder.py\", line 337, in decode\n",
      "    obj, end = self.raw_decode(s, idx=_w(s, 0).end())\n",
      "  File \"d:\\program files\\python\\lib\\json\\decoder.py\", line 355, in raw_decode\n",
      "    raise JSONDecodeError(\"Expecting value\", s, err.value) from None\n",
      "json.decoder.JSONDecodeError: Expecting value: line 1 column 1 (char 0)\n"
     ]
    },
    {
     "name": "stdout",
     "output_type": "stream",
     "text": [
      "【财通国际融资有限公司】已经完成【中华人民共和国国家发展和改革委员会网站】的核查\n"
     ]
    },
    {
     "name": "stderr",
     "output_type": "stream",
     "text": [
      "Exception in thread Thread-250:\n",
      "Traceback (most recent call last):\n",
      "  File \"d:\\program files\\python\\lib\\threading.py\", line 932, in _bootstrap_inner\n",
      "    self.run()\n",
      "  File \"d:\\program files\\python\\lib\\threading.py\", line 870, in run\n",
      "    self._target(*self._args, **self._kwargs)\n",
      "  File \"d:\\program files\\python\\lib\\site-packages\\DrissionPage\\chromium_driver.py\", line 123, in _recv_loop\n",
      "    message = loads(message_json)\n",
      "  File \"d:\\program files\\python\\lib\\json\\__init__.py\", line 357, in loads\n",
      "    return _default_decoder.decode(s)\n",
      "  File \"d:\\program files\\python\\lib\\json\\decoder.py\", line 337, in decode\n",
      "    obj, end = self.raw_decode(s, idx=_w(s, 0).end())\n",
      "  File \"d:\\program files\\python\\lib\\json\\decoder.py\", line 355, in raw_decode\n",
      "    raise JSONDecodeError(\"Expecting value\", s, err.value) from None\n",
      "json.decoder.JSONDecodeError: Expecting value: line 1 column 1 (char 0)\n"
     ]
    },
    {
     "name": "stdout",
     "output_type": "stream",
     "text": [
      "【财通国际融资有限公司】已经完成【中华人民共和国应急管理部网站】的核查\n"
     ]
    },
    {
     "name": "stderr",
     "output_type": "stream",
     "text": [
      "Exception in thread Thread-252:\n",
      "Traceback (most recent call last):\n",
      "  File \"d:\\program files\\python\\lib\\threading.py\", line 932, in _bootstrap_inner\n",
      "    self.run()\n",
      "  File \"d:\\program files\\python\\lib\\threading.py\", line 870, in run\n",
      "    self._target(*self._args, **self._kwargs)\n",
      "  File \"d:\\program files\\python\\lib\\site-packages\\DrissionPage\\chromium_driver.py\", line 123, in _recv_loop\n",
      "    message = loads(message_json)\n",
      "  File \"d:\\program files\\python\\lib\\json\\__init__.py\", line 357, in loads\n",
      "    return _default_decoder.decode(s)\n",
      "  File \"d:\\program files\\python\\lib\\json\\decoder.py\", line 337, in decode\n",
      "    obj, end = self.raw_decode(s, idx=_w(s, 0).end())\n",
      "  File \"d:\\program files\\python\\lib\\json\\decoder.py\", line 355, in raw_decode\n",
      "    raise JSONDecodeError(\"Expecting value\", s, err.value) from None\n",
      "json.decoder.JSONDecodeError: Expecting value: line 1 column 1 (char 0)\n"
     ]
    },
    {
     "name": "stdout",
     "output_type": "stream",
     "text": [
      "【财通国际融资有限公司】已经完成【中华人民共和国生态环境部网站】的核查\n"
     ]
    },
    {
     "name": "stderr",
     "output_type": "stream",
     "text": [
      "Exception in thread Thread-254:\n",
      "Traceback (most recent call last):\n",
      "  File \"d:\\program files\\python\\lib\\threading.py\", line 932, in _bootstrap_inner\n",
      "    self.run()\n",
      "  File \"d:\\program files\\python\\lib\\threading.py\", line 870, in run\n",
      "    self._target(*self._args, **self._kwargs)\n",
      "  File \"d:\\program files\\python\\lib\\site-packages\\DrissionPage\\chromium_driver.py\", line 123, in _recv_loop\n",
      "    message = loads(message_json)\n",
      "  File \"d:\\program files\\python\\lib\\json\\__init__.py\", line 357, in loads\n",
      "    return _default_decoder.decode(s)\n",
      "  File \"d:\\program files\\python\\lib\\json\\decoder.py\", line 337, in decode\n",
      "    obj, end = self.raw_decode(s, idx=_w(s, 0).end())\n",
      "  File \"d:\\program files\\python\\lib\\json\\decoder.py\", line 355, in raw_decode\n",
      "    raise JSONDecodeError(\"Expecting value\", s, err.value) from None\n",
      "json.decoder.JSONDecodeError: Expecting value: line 1 column 1 (char 0)\n"
     ]
    },
    {
     "name": "stdout",
     "output_type": "stream",
     "text": [
      "【财通国际融资有限公司】已经完成【中华人民共和国工业和信息化部网站】的核查\n"
     ]
    },
    {
     "name": "stderr",
     "output_type": "stream",
     "text": [
      "Exception in thread Thread-256:\n",
      "Traceback (most recent call last):\n",
      "  File \"d:\\program files\\python\\lib\\threading.py\", line 932, in _bootstrap_inner\n",
      "    self.run()\n",
      "  File \"d:\\program files\\python\\lib\\threading.py\", line 870, in run\n",
      "    self._target(*self._args, **self._kwargs)\n",
      "  File \"d:\\program files\\python\\lib\\site-packages\\DrissionPage\\chromium_driver.py\", line 123, in _recv_loop\n",
      "    message = loads(message_json)\n",
      "  File \"d:\\program files\\python\\lib\\json\\__init__.py\", line 357, in loads\n",
      "    return _default_decoder.decode(s)\n",
      "  File \"d:\\program files\\python\\lib\\json\\decoder.py\", line 337, in decode\n",
      "    obj, end = self.raw_decode(s, idx=_w(s, 0).end())\n",
      "  File \"d:\\program files\\python\\lib\\json\\decoder.py\", line 355, in raw_decode\n",
      "    raise JSONDecodeError(\"Expecting value\", s, err.value) from None\n",
      "json.decoder.JSONDecodeError: Expecting value: line 1 column 1 (char 0)\n"
     ]
    },
    {
     "name": "stdout",
     "output_type": "stream",
     "text": [
      "【财通国际融资有限公司】已经完成【中华人民共和国商务部网站】的核查\n"
     ]
    },
    {
     "name": "stderr",
     "output_type": "stream",
     "text": [
      "Exception in thread Thread-258:\n",
      "Traceback (most recent call last):\n",
      "  File \"d:\\program files\\python\\lib\\threading.py\", line 932, in _bootstrap_inner\n",
      "    self.run()\n",
      "  File \"d:\\program files\\python\\lib\\threading.py\", line 870, in run\n",
      "    self._target(*self._args, **self._kwargs)\n",
      "  File \"d:\\program files\\python\\lib\\site-packages\\DrissionPage\\chromium_driver.py\", line 123, in _recv_loop\n",
      "    message = loads(message_json)\n",
      "  File \"d:\\program files\\python\\lib\\json\\__init__.py\", line 357, in loads\n",
      "    return _default_decoder.decode(s)\n",
      "  File \"d:\\program files\\python\\lib\\json\\decoder.py\", line 337, in decode\n",
      "    obj, end = self.raw_decode(s, idx=_w(s, 0).end())\n",
      "  File \"d:\\program files\\python\\lib\\json\\decoder.py\", line 355, in raw_decode\n",
      "    raise JSONDecodeError(\"Expecting value\", s, err.value) from None\n",
      "json.decoder.JSONDecodeError: Expecting value: line 1 column 1 (char 0)\n"
     ]
    },
    {
     "name": "stdout",
     "output_type": "stream",
     "text": [
      "【财通国际融资有限公司】已经完成【中华人民共和国财政部网站】的核查\n"
     ]
    },
    {
     "name": "stderr",
     "output_type": "stream",
     "text": [
      "Exception in thread Thread-260:\n",
      "Traceback (most recent call last):\n",
      "  File \"d:\\program files\\python\\lib\\threading.py\", line 932, in _bootstrap_inner\n",
      "    self.run()\n",
      "  File \"d:\\program files\\python\\lib\\threading.py\", line 870, in run\n",
      "    self._target(*self._args, **self._kwargs)\n",
      "  File \"d:\\program files\\python\\lib\\site-packages\\DrissionPage\\chromium_driver.py\", line 123, in _recv_loop\n",
      "    message = loads(message_json)\n",
      "  File \"d:\\program files\\python\\lib\\json\\__init__.py\", line 357, in loads\n",
      "    return _default_decoder.decode(s)\n",
      "  File \"d:\\program files\\python\\lib\\json\\decoder.py\", line 337, in decode\n",
      "    obj, end = self.raw_decode(s, idx=_w(s, 0).end())\n",
      "  File \"d:\\program files\\python\\lib\\json\\decoder.py\", line 355, in raw_decode\n",
      "    raise JSONDecodeError(\"Expecting value\", s, err.value) from None\n",
      "json.decoder.JSONDecodeError: Expecting value: line 1 column 1 (char 0)\n"
     ]
    },
    {
     "name": "stdout",
     "output_type": "stream",
     "text": [
      "【财通国际融资有限公司】已经完成【中华人民共和国农业农村部网站】的核查\n"
     ]
    },
    {
     "name": "stderr",
     "output_type": "stream",
     "text": [
      "Exception in thread Thread-262:\n",
      "Traceback (most recent call last):\n",
      "  File \"d:\\program files\\python\\lib\\threading.py\", line 932, in _bootstrap_inner\n",
      "    self.run()\n",
      "  File \"d:\\program files\\python\\lib\\threading.py\", line 870, in run\n",
      "    self._target(*self._args, **self._kwargs)\n",
      "  File \"d:\\program files\\python\\lib\\site-packages\\DrissionPage\\chromium_driver.py\", line 123, in _recv_loop\n",
      "    message = loads(message_json)\n",
      "  File \"d:\\program files\\python\\lib\\json\\__init__.py\", line 357, in loads\n",
      "    return _default_decoder.decode(s)\n",
      "  File \"d:\\program files\\python\\lib\\json\\decoder.py\", line 337, in decode\n",
      "    obj, end = self.raw_decode(s, idx=_w(s, 0).end())\n",
      "  File \"d:\\program files\\python\\lib\\json\\decoder.py\", line 355, in raw_decode\n",
      "    raise JSONDecodeError(\"Expecting value\", s, err.value) from None\n",
      "json.decoder.JSONDecodeError: Expecting value: line 1 column 1 (char 0)\n"
     ]
    },
    {
     "name": "stdout",
     "output_type": "stream",
     "text": [
      "【财通国际融资有限公司】已经完成【中华人民共和国人力资源和社会保障部网站】的核查\n"
     ]
    },
    {
     "name": "stderr",
     "output_type": "stream",
     "text": [
      "Exception in thread Thread-264:\n",
      "Traceback (most recent call last):\n",
      "  File \"d:\\program files\\python\\lib\\threading.py\", line 932, in _bootstrap_inner\n",
      "    self.run()\n",
      "  File \"d:\\program files\\python\\lib\\threading.py\", line 870, in run\n",
      "    self._target(*self._args, **self._kwargs)\n",
      "  File \"d:\\program files\\python\\lib\\site-packages\\DrissionPage\\chromium_driver.py\", line 123, in _recv_loop\n",
      "    message = loads(message_json)\n",
      "  File \"d:\\program files\\python\\lib\\json\\__init__.py\", line 357, in loads\n",
      "    return _default_decoder.decode(s)\n",
      "  File \"d:\\program files\\python\\lib\\json\\decoder.py\", line 337, in decode\n",
      "    obj, end = self.raw_decode(s, idx=_w(s, 0).end())\n",
      "  File \"d:\\program files\\python\\lib\\json\\decoder.py\", line 355, in raw_decode\n",
      "    raise JSONDecodeError(\"Expecting value\", s, err.value) from None\n",
      "json.decoder.JSONDecodeError: Expecting value: line 1 column 1 (char 0)\n"
     ]
    },
    {
     "name": "stdout",
     "output_type": "stream",
     "text": [
      "0\n",
      "11\n",
      "【财通国际融资有限公司】已经完成【中华人民共和国住房和城乡建设部】的核查\n"
     ]
    },
    {
     "name": "stderr",
     "output_type": "stream",
     "text": [
      "Exception in thread Thread-266:\n",
      "Traceback (most recent call last):\n",
      "  File \"d:\\program files\\python\\lib\\threading.py\", line 932, in _bootstrap_inner\n",
      "    self.run()\n",
      "  File \"d:\\program files\\python\\lib\\threading.py\", line 870, in run\n",
      "    self._target(*self._args, **self._kwargs)\n",
      "  File \"d:\\program files\\python\\lib\\site-packages\\DrissionPage\\chromium_driver.py\", line 123, in _recv_loop\n",
      "    message = loads(message_json)\n",
      "  File \"d:\\program files\\python\\lib\\json\\__init__.py\", line 357, in loads\n",
      "    return _default_decoder.decode(s)\n",
      "  File \"d:\\program files\\python\\lib\\json\\decoder.py\", line 337, in decode\n",
      "    obj, end = self.raw_decode(s, idx=_w(s, 0).end())\n",
      "  File \"d:\\program files\\python\\lib\\json\\decoder.py\", line 355, in raw_decode\n",
      "    raise JSONDecodeError(\"Expecting value\", s, err.value) from None\n",
      "json.decoder.JSONDecodeError: Expecting value: line 1 column 1 (char 0)\n"
     ]
    },
    {
     "name": "stdout",
     "output_type": "stream",
     "text": [
      "51\n",
      "【财通国际融资有限公司】已经完成【国家统计局网站】的核查\n"
     ]
    },
    {
     "name": "stderr",
     "output_type": "stream",
     "text": [
      "Exception in thread Thread-268:\n",
      "Traceback (most recent call last):\n",
      "  File \"d:\\program files\\python\\lib\\threading.py\", line 932, in _bootstrap_inner\n",
      "    self.run()\n",
      "  File \"d:\\program files\\python\\lib\\threading.py\", line 870, in run\n",
      "    self._target(*self._args, **self._kwargs)\n",
      "  File \"d:\\program files\\python\\lib\\site-packages\\DrissionPage\\chromium_driver.py\", line 123, in _recv_loop\n",
      "    message = loads(message_json)\n",
      "  File \"d:\\program files\\python\\lib\\json\\__init__.py\", line 357, in loads\n",
      "    return _default_decoder.decode(s)\n",
      "  File \"d:\\program files\\python\\lib\\json\\decoder.py\", line 337, in decode\n",
      "    obj, end = self.raw_decode(s, idx=_w(s, 0).end())\n",
      "  File \"d:\\program files\\python\\lib\\json\\decoder.py\", line 355, in raw_decode\n",
      "    raise JSONDecodeError(\"Expecting value\", s, err.value) from None\n",
      "json.decoder.JSONDecodeError: Expecting value: line 1 column 1 (char 0)\n"
     ]
    },
    {
     "name": "stdout",
     "output_type": "stream",
     "text": [
      "【财通国际融资有限公司】已经完成【国家市场监督管理总局网站】的核查\n"
     ]
    },
    {
     "name": "stderr",
     "output_type": "stream",
     "text": [
      "Exception in thread Thread-270:\n",
      "Traceback (most recent call last):\n",
      "  File \"d:\\program files\\python\\lib\\threading.py\", line 932, in _bootstrap_inner\n",
      "    self.run()\n",
      "  File \"d:\\program files\\python\\lib\\threading.py\", line 870, in run\n",
      "    self._target(*self._args, **self._kwargs)\n",
      "  File \"d:\\program files\\python\\lib\\site-packages\\DrissionPage\\chromium_driver.py\", line 123, in _recv_loop\n",
      "    message = loads(message_json)\n",
      "  File \"d:\\program files\\python\\lib\\json\\__init__.py\", line 357, in loads\n",
      "    return _default_decoder.decode(s)\n",
      "  File \"d:\\program files\\python\\lib\\json\\decoder.py\", line 337, in decode\n",
      "    obj, end = self.raw_decode(s, idx=_w(s, 0).end())\n",
      "  File \"d:\\program files\\python\\lib\\json\\decoder.py\", line 355, in raw_decode\n",
      "    raise JSONDecodeError(\"Expecting value\", s, err.value) from None\n",
      "json.decoder.JSONDecodeError: Expecting value: line 1 column 1 (char 0)\n"
     ]
    },
    {
     "name": "stdout",
     "output_type": "stream",
     "text": [
      "【财通国际融资有限公司】已经完成【国家药品监督管理局】的核查\n"
     ]
    },
    {
     "name": "stderr",
     "output_type": "stream",
     "text": [
      "Exception in thread Thread-272:\n",
      "Traceback (most recent call last):\n",
      "  File \"d:\\program files\\python\\lib\\threading.py\", line 932, in _bootstrap_inner\n",
      "    self.run()\n",
      "  File \"d:\\program files\\python\\lib\\threading.py\", line 870, in run\n",
      "    self._target(*self._args, **self._kwargs)\n",
      "  File \"d:\\program files\\python\\lib\\site-packages\\DrissionPage\\chromium_driver.py\", line 123, in _recv_loop\n",
      "    message = loads(message_json)\n",
      "  File \"d:\\program files\\python\\lib\\json\\__init__.py\", line 357, in loads\n",
      "    return _default_decoder.decode(s)\n",
      "  File \"d:\\program files\\python\\lib\\json\\decoder.py\", line 337, in decode\n",
      "    obj, end = self.raw_decode(s, idx=_w(s, 0).end())\n",
      "  File \"d:\\program files\\python\\lib\\json\\decoder.py\", line 355, in raw_decode\n",
      "    raise JSONDecodeError(\"Expecting value\", s, err.value) from None\n",
      "json.decoder.JSONDecodeError: Expecting value: line 1 column 1 (char 0)\n"
     ]
    },
    {
     "name": "stdout",
     "output_type": "stream",
     "text": [
      "【财通国际融资有限公司】已经完成【中国人民银行】的核查\n",
      "【财通国际融资有限公司】已经完成【国家金融监督管理总局】的核查\n",
      "【财通国际融资有限公司】已经完成【国家外汇管理局网站】的核查\n",
      "【财通国际融资有限公司】已经完成【政府采购网】的核查\n",
      "【财通国际融资有限公司】已经完成【信用能源】的核查\n",
      "【财通国际融资有限公司】已经完成【信用交通网】的核查\n",
      "【财通国际融资有限公司】已经完成【中国商务信用平台】的核查\n",
      "【财通国际融资有限公司】已经完成【信用盐业】的核查\n",
      "【财通国际融资有限公司】已经完成【信用电力】的核查\n",
      "【财通国际融资有限公司】已经完成【杭州市政府官方网站】的核查\n",
      "【财通国际融资有限公司】已经完成【信用中国网重点领域严重失信主体名单_严重失信主体名单查询】的核查\n",
      "【财通国际融资有限公司】已经完成【信用中国网重点领域严重失信主体名单_经营异常名录信息查询】的核查\n",
      "【财通国际融资有限公司】已经完成【政府采购严重违法失信行为记录名单】的核查\n",
      "【财通国际融资有限公司】已经完成【信用中国网重点领域严重失信主体名单_拖欠农民工工资失信联合惩戒对象名单】的核查\n",
      "【财通国际融资有限公司】已经完成【信用中国网重点领域严重失信主体名单_重大税收违法失信主体】的核查\n",
      "【财通国际融资有限公司】已经完成【信用中国网重点领域严重失信主体名单_统计严重失信企业名单】的核查\n"
     ]
    },
    {
     "name": "stderr",
     "output_type": "stream",
     "text": [
      "Exception in thread Thread-274:\n",
      "Traceback (most recent call last):\n",
      "  File \"d:\\program files\\python\\lib\\threading.py\", line 932, in _bootstrap_inner\n",
      "    self.run()\n",
      "  File \"d:\\program files\\python\\lib\\threading.py\", line 870, in run\n",
      "    self._target(*self._args, **self._kwargs)\n",
      "  File \"d:\\program files\\python\\lib\\site-packages\\DrissionPage\\chromium_driver.py\", line 123, in _recv_loop\n",
      "    message = loads(message_json)\n",
      "  File \"d:\\program files\\python\\lib\\json\\__init__.py\", line 357, in loads\n",
      "    return _default_decoder.decode(s)\n",
      "  File \"d:\\program files\\python\\lib\\json\\decoder.py\", line 337, in decode\n",
      "    obj, end = self.raw_decode(s, idx=_w(s, 0).end())\n",
      "  File \"d:\\program files\\python\\lib\\json\\decoder.py\", line 355, in raw_decode\n",
      "    raise JSONDecodeError(\"Expecting value\", s, err.value) from None\n",
      "json.decoder.JSONDecodeError: Expecting value: line 1 column 1 (char 0)\n"
     ]
    },
    {
     "name": "stdout",
     "output_type": "stream",
     "text": [
      "【财通国际投资有限公司】已经完成【中华人民共和国国家发展和改革委员会网站】的核查\n"
     ]
    },
    {
     "name": "stderr",
     "output_type": "stream",
     "text": [
      "Exception in thread Thread-282:\n",
      "Traceback (most recent call last):\n",
      "  File \"d:\\program files\\python\\lib\\threading.py\", line 932, in _bootstrap_inner\n",
      "    self.run()\n",
      "  File \"d:\\program files\\python\\lib\\threading.py\", line 870, in run\n",
      "    self._target(*self._args, **self._kwargs)\n",
      "  File \"d:\\program files\\python\\lib\\site-packages\\DrissionPage\\chromium_driver.py\", line 123, in _recv_loop\n",
      "    message = loads(message_json)\n",
      "  File \"d:\\program files\\python\\lib\\json\\__init__.py\", line 357, in loads\n",
      "    return _default_decoder.decode(s)\n",
      "  File \"d:\\program files\\python\\lib\\json\\decoder.py\", line 337, in decode\n",
      "    obj, end = self.raw_decode(s, idx=_w(s, 0).end())\n",
      "  File \"d:\\program files\\python\\lib\\json\\decoder.py\", line 355, in raw_decode\n",
      "    raise JSONDecodeError(\"Expecting value\", s, err.value) from None\n",
      "json.decoder.JSONDecodeError: Expecting value: line 1 column 1 (char 0)\n"
     ]
    },
    {
     "name": "stdout",
     "output_type": "stream",
     "text": [
      "【财通国际投资有限公司】已经完成【中华人民共和国应急管理部网站】的核查\n"
     ]
    },
    {
     "name": "stderr",
     "output_type": "stream",
     "text": [
      "Exception in thread Thread-284:\n",
      "Traceback (most recent call last):\n",
      "  File \"d:\\program files\\python\\lib\\threading.py\", line 932, in _bootstrap_inner\n",
      "    self.run()\n",
      "  File \"d:\\program files\\python\\lib\\threading.py\", line 870, in run\n",
      "    self._target(*self._args, **self._kwargs)\n",
      "  File \"d:\\program files\\python\\lib\\site-packages\\DrissionPage\\chromium_driver.py\", line 123, in _recv_loop\n",
      "    message = loads(message_json)\n",
      "  File \"d:\\program files\\python\\lib\\json\\__init__.py\", line 357, in loads\n",
      "    return _default_decoder.decode(s)\n",
      "  File \"d:\\program files\\python\\lib\\json\\decoder.py\", line 337, in decode\n",
      "    obj, end = self.raw_decode(s, idx=_w(s, 0).end())\n",
      "  File \"d:\\program files\\python\\lib\\json\\decoder.py\", line 355, in raw_decode\n",
      "    raise JSONDecodeError(\"Expecting value\", s, err.value) from None\n",
      "json.decoder.JSONDecodeError: Expecting value: line 1 column 1 (char 0)\n"
     ]
    },
    {
     "name": "stdout",
     "output_type": "stream",
     "text": [
      "【财通国际投资有限公司】已经完成【中华人民共和国生态环境部网站】的核查\n"
     ]
    },
    {
     "name": "stderr",
     "output_type": "stream",
     "text": [
      "Exception in thread Thread-286:\n",
      "Traceback (most recent call last):\n",
      "  File \"d:\\program files\\python\\lib\\threading.py\", line 932, in _bootstrap_inner\n",
      "    self.run()\n",
      "  File \"d:\\program files\\python\\lib\\threading.py\", line 870, in run\n",
      "    self._target(*self._args, **self._kwargs)\n",
      "  File \"d:\\program files\\python\\lib\\site-packages\\DrissionPage\\chromium_driver.py\", line 123, in _recv_loop\n",
      "    message = loads(message_json)\n",
      "  File \"d:\\program files\\python\\lib\\json\\__init__.py\", line 357, in loads\n",
      "    return _default_decoder.decode(s)\n",
      "  File \"d:\\program files\\python\\lib\\json\\decoder.py\", line 337, in decode\n",
      "    obj, end = self.raw_decode(s, idx=_w(s, 0).end())\n",
      "  File \"d:\\program files\\python\\lib\\json\\decoder.py\", line 355, in raw_decode\n",
      "    raise JSONDecodeError(\"Expecting value\", s, err.value) from None\n",
      "json.decoder.JSONDecodeError: Expecting value: line 1 column 1 (char 0)\n"
     ]
    },
    {
     "name": "stdout",
     "output_type": "stream",
     "text": [
      "【财通国际投资有限公司】已经完成【中华人民共和国工业和信息化部网站】的核查\n"
     ]
    },
    {
     "name": "stderr",
     "output_type": "stream",
     "text": [
      "Exception in thread Thread-288:\n",
      "Traceback (most recent call last):\n",
      "  File \"d:\\program files\\python\\lib\\threading.py\", line 932, in _bootstrap_inner\n",
      "    self.run()\n",
      "  File \"d:\\program files\\python\\lib\\threading.py\", line 870, in run\n",
      "    self._target(*self._args, **self._kwargs)\n",
      "  File \"d:\\program files\\python\\lib\\site-packages\\DrissionPage\\chromium_driver.py\", line 123, in _recv_loop\n",
      "    message = loads(message_json)\n",
      "  File \"d:\\program files\\python\\lib\\json\\__init__.py\", line 357, in loads\n",
      "    return _default_decoder.decode(s)\n",
      "  File \"d:\\program files\\python\\lib\\json\\decoder.py\", line 337, in decode\n",
      "    obj, end = self.raw_decode(s, idx=_w(s, 0).end())\n",
      "  File \"d:\\program files\\python\\lib\\json\\decoder.py\", line 355, in raw_decode\n",
      "    raise JSONDecodeError(\"Expecting value\", s, err.value) from None\n",
      "json.decoder.JSONDecodeError: Expecting value: line 1 column 1 (char 0)\n"
     ]
    },
    {
     "name": "stdout",
     "output_type": "stream",
     "text": [
      "【财通国际投资有限公司】已经完成【中华人民共和国商务部网站】的核查\n"
     ]
    },
    {
     "name": "stderr",
     "output_type": "stream",
     "text": [
      "Exception in thread Thread-290:\n",
      "Traceback (most recent call last):\n",
      "  File \"d:\\program files\\python\\lib\\threading.py\", line 932, in _bootstrap_inner\n",
      "    self.run()\n",
      "  File \"d:\\program files\\python\\lib\\threading.py\", line 870, in run\n",
      "    self._target(*self._args, **self._kwargs)\n",
      "  File \"d:\\program files\\python\\lib\\site-packages\\DrissionPage\\chromium_driver.py\", line 123, in _recv_loop\n",
      "    message = loads(message_json)\n",
      "  File \"d:\\program files\\python\\lib\\json\\__init__.py\", line 357, in loads\n",
      "    return _default_decoder.decode(s)\n",
      "  File \"d:\\program files\\python\\lib\\json\\decoder.py\", line 337, in decode\n",
      "    obj, end = self.raw_decode(s, idx=_w(s, 0).end())\n",
      "  File \"d:\\program files\\python\\lib\\json\\decoder.py\", line 355, in raw_decode\n",
      "    raise JSONDecodeError(\"Expecting value\", s, err.value) from None\n",
      "json.decoder.JSONDecodeError: Expecting value: line 1 column 1 (char 0)\n"
     ]
    },
    {
     "name": "stdout",
     "output_type": "stream",
     "text": [
      "【财通国际投资有限公司】已经完成【中华人民共和国财政部网站】的核查\n"
     ]
    },
    {
     "name": "stderr",
     "output_type": "stream",
     "text": [
      "Exception in thread Thread-292:\n",
      "Traceback (most recent call last):\n",
      "  File \"d:\\program files\\python\\lib\\threading.py\", line 932, in _bootstrap_inner\n",
      "    self.run()\n",
      "  File \"d:\\program files\\python\\lib\\threading.py\", line 870, in run\n",
      "    self._target(*self._args, **self._kwargs)\n",
      "  File \"d:\\program files\\python\\lib\\site-packages\\DrissionPage\\chromium_driver.py\", line 123, in _recv_loop\n",
      "    message = loads(message_json)\n",
      "  File \"d:\\program files\\python\\lib\\json\\__init__.py\", line 357, in loads\n",
      "    return _default_decoder.decode(s)\n",
      "  File \"d:\\program files\\python\\lib\\json\\decoder.py\", line 337, in decode\n",
      "    obj, end = self.raw_decode(s, idx=_w(s, 0).end())\n",
      "  File \"d:\\program files\\python\\lib\\json\\decoder.py\", line 355, in raw_decode\n",
      "    raise JSONDecodeError(\"Expecting value\", s, err.value) from None\n",
      "json.decoder.JSONDecodeError: Expecting value: line 1 column 1 (char 0)\n"
     ]
    },
    {
     "name": "stdout",
     "output_type": "stream",
     "text": [
      "【财通国际投资有限公司】已经完成【中华人民共和国农业农村部网站】的核查\n"
     ]
    },
    {
     "name": "stderr",
     "output_type": "stream",
     "text": [
      "Exception in thread Thread-294:\n",
      "Traceback (most recent call last):\n",
      "  File \"d:\\program files\\python\\lib\\threading.py\", line 932, in _bootstrap_inner\n",
      "    self.run()\n",
      "  File \"d:\\program files\\python\\lib\\threading.py\", line 870, in run\n",
      "    self._target(*self._args, **self._kwargs)\n",
      "  File \"d:\\program files\\python\\lib\\site-packages\\DrissionPage\\chromium_driver.py\", line 123, in _recv_loop\n",
      "    message = loads(message_json)\n",
      "  File \"d:\\program files\\python\\lib\\json\\__init__.py\", line 357, in loads\n",
      "    return _default_decoder.decode(s)\n",
      "  File \"d:\\program files\\python\\lib\\json\\decoder.py\", line 337, in decode\n",
      "    obj, end = self.raw_decode(s, idx=_w(s, 0).end())\n",
      "  File \"d:\\program files\\python\\lib\\json\\decoder.py\", line 355, in raw_decode\n",
      "    raise JSONDecodeError(\"Expecting value\", s, err.value) from None\n",
      "json.decoder.JSONDecodeError: Expecting value: line 1 column 1 (char 0)\n"
     ]
    },
    {
     "name": "stdout",
     "output_type": "stream",
     "text": [
      "【财通国际投资有限公司】已经完成【中华人民共和国人力资源和社会保障部网站】的核查\n"
     ]
    },
    {
     "name": "stderr",
     "output_type": "stream",
     "text": [
      "Exception in thread Thread-296:\n",
      "Traceback (most recent call last):\n",
      "  File \"d:\\program files\\python\\lib\\threading.py\", line 932, in _bootstrap_inner\n",
      "    self.run()\n",
      "  File \"d:\\program files\\python\\lib\\threading.py\", line 870, in run\n",
      "    self._target(*self._args, **self._kwargs)\n",
      "  File \"d:\\program files\\python\\lib\\site-packages\\DrissionPage\\chromium_driver.py\", line 123, in _recv_loop\n",
      "    message = loads(message_json)\n",
      "  File \"d:\\program files\\python\\lib\\json\\__init__.py\", line 357, in loads\n",
      "    return _default_decoder.decode(s)\n",
      "  File \"d:\\program files\\python\\lib\\json\\decoder.py\", line 337, in decode\n",
      "    obj, end = self.raw_decode(s, idx=_w(s, 0).end())\n",
      "  File \"d:\\program files\\python\\lib\\json\\decoder.py\", line 355, in raw_decode\n",
      "    raise JSONDecodeError(\"Expecting value\", s, err.value) from None\n",
      "json.decoder.JSONDecodeError: Expecting value: line 1 column 1 (char 0)\n"
     ]
    },
    {
     "name": "stdout",
     "output_type": "stream",
     "text": [
      "0\n",
      "11\n",
      "【财通国际投资有限公司】已经完成【中华人民共和国住房和城乡建设部】的核查\n"
     ]
    },
    {
     "name": "stderr",
     "output_type": "stream",
     "text": [
      "Exception in thread Thread-298:\n",
      "Traceback (most recent call last):\n",
      "  File \"d:\\program files\\python\\lib\\threading.py\", line 932, in _bootstrap_inner\n",
      "    self.run()\n",
      "  File \"d:\\program files\\python\\lib\\threading.py\", line 870, in run\n",
      "    self._target(*self._args, **self._kwargs)\n",
      "  File \"d:\\program files\\python\\lib\\site-packages\\DrissionPage\\chromium_driver.py\", line 123, in _recv_loop\n",
      "    message = loads(message_json)\n",
      "  File \"d:\\program files\\python\\lib\\json\\__init__.py\", line 357, in loads\n",
      "    return _default_decoder.decode(s)\n",
      "  File \"d:\\program files\\python\\lib\\json\\decoder.py\", line 337, in decode\n",
      "    obj, end = self.raw_decode(s, idx=_w(s, 0).end())\n",
      "  File \"d:\\program files\\python\\lib\\json\\decoder.py\", line 355, in raw_decode\n",
      "    raise JSONDecodeError(\"Expecting value\", s, err.value) from None\n",
      "json.decoder.JSONDecodeError: Expecting value: line 1 column 1 (char 0)\n"
     ]
    },
    {
     "name": "stdout",
     "output_type": "stream",
     "text": [
      "51\n",
      "【财通国际投资有限公司】已经完成【国家统计局网站】的核查\n"
     ]
    },
    {
     "name": "stderr",
     "output_type": "stream",
     "text": [
      "Exception in thread Thread-300:\n",
      "Traceback (most recent call last):\n",
      "  File \"d:\\program files\\python\\lib\\threading.py\", line 932, in _bootstrap_inner\n",
      "    self.run()\n",
      "  File \"d:\\program files\\python\\lib\\threading.py\", line 870, in run\n",
      "    self._target(*self._args, **self._kwargs)\n",
      "  File \"d:\\program files\\python\\lib\\site-packages\\DrissionPage\\chromium_driver.py\", line 123, in _recv_loop\n",
      "    message = loads(message_json)\n",
      "  File \"d:\\program files\\python\\lib\\json\\__init__.py\", line 357, in loads\n",
      "    return _default_decoder.decode(s)\n",
      "  File \"d:\\program files\\python\\lib\\json\\decoder.py\", line 337, in decode\n",
      "    obj, end = self.raw_decode(s, idx=_w(s, 0).end())\n",
      "  File \"d:\\program files\\python\\lib\\json\\decoder.py\", line 355, in raw_decode\n",
      "    raise JSONDecodeError(\"Expecting value\", s, err.value) from None\n",
      "json.decoder.JSONDecodeError: Expecting value: line 1 column 1 (char 0)\n"
     ]
    },
    {
     "name": "stdout",
     "output_type": "stream",
     "text": [
      "【财通国际投资有限公司】已经完成【国家市场监督管理总局网站】的核查\n"
     ]
    },
    {
     "name": "stderr",
     "output_type": "stream",
     "text": [
      "Exception in thread Thread-302:\n",
      "Traceback (most recent call last):\n",
      "  File \"d:\\program files\\python\\lib\\threading.py\", line 932, in _bootstrap_inner\n",
      "    self.run()\n",
      "  File \"d:\\program files\\python\\lib\\threading.py\", line 870, in run\n",
      "    self._target(*self._args, **self._kwargs)\n",
      "  File \"d:\\program files\\python\\lib\\site-packages\\DrissionPage\\chromium_driver.py\", line 123, in _recv_loop\n",
      "    message = loads(message_json)\n",
      "  File \"d:\\program files\\python\\lib\\json\\__init__.py\", line 357, in loads\n",
      "    return _default_decoder.decode(s)\n",
      "  File \"d:\\program files\\python\\lib\\json\\decoder.py\", line 337, in decode\n",
      "    obj, end = self.raw_decode(s, idx=_w(s, 0).end())\n",
      "  File \"d:\\program files\\python\\lib\\json\\decoder.py\", line 355, in raw_decode\n",
      "    raise JSONDecodeError(\"Expecting value\", s, err.value) from None\n",
      "json.decoder.JSONDecodeError: Expecting value: line 1 column 1 (char 0)\n"
     ]
    },
    {
     "name": "stdout",
     "output_type": "stream",
     "text": [
      "【财通国际投资有限公司】已经完成【国家药品监督管理局】的核查\n"
     ]
    },
    {
     "name": "stderr",
     "output_type": "stream",
     "text": [
      "Exception in thread Thread-304:\n",
      "Traceback (most recent call last):\n",
      "  File \"d:\\program files\\python\\lib\\threading.py\", line 932, in _bootstrap_inner\n",
      "    self.run()\n",
      "  File \"d:\\program files\\python\\lib\\threading.py\", line 870, in run\n",
      "    self._target(*self._args, **self._kwargs)\n",
      "  File \"d:\\program files\\python\\lib\\site-packages\\DrissionPage\\chromium_driver.py\", line 123, in _recv_loop\n",
      "    message = loads(message_json)\n",
      "  File \"d:\\program files\\python\\lib\\json\\__init__.py\", line 357, in loads\n",
      "    return _default_decoder.decode(s)\n",
      "  File \"d:\\program files\\python\\lib\\json\\decoder.py\", line 337, in decode\n",
      "    obj, end = self.raw_decode(s, idx=_w(s, 0).end())\n",
      "  File \"d:\\program files\\python\\lib\\json\\decoder.py\", line 355, in raw_decode\n",
      "    raise JSONDecodeError(\"Expecting value\", s, err.value) from None\n",
      "json.decoder.JSONDecodeError: Expecting value: line 1 column 1 (char 0)\n"
     ]
    },
    {
     "name": "stdout",
     "output_type": "stream",
     "text": [
      "【财通国际投资有限公司】已经完成【中国人民银行】的核查\n",
      "【财通国际投资有限公司】已经完成【国家金融监督管理总局】的核查\n",
      "【财通国际投资有限公司】已经完成【国家外汇管理局网站】的核查\n",
      "【财通国际投资有限公司】已经完成【政府采购网】的核查\n",
      "【财通国际投资有限公司】已经完成【信用能源】的核查\n",
      "【财通国际投资有限公司】已经完成【信用交通网】的核查\n",
      "【财通国际投资有限公司】已经完成【中国商务信用平台】的核查\n",
      "【财通国际投资有限公司】已经完成【信用盐业】的核查\n",
      "【财通国际投资有限公司】已经完成【信用电力】的核查\n",
      "【财通国际投资有限公司】已经完成【杭州市政府官方网站】的核查\n",
      "【财通国际投资有限公司】已经完成【信用中国网重点领域严重失信主体名单_严重失信主体名单查询】的核查\n",
      "【财通国际投资有限公司】已经完成【信用中国网重点领域严重失信主体名单_经营异常名录信息查询】的核查\n",
      "【财通国际投资有限公司】已经完成【政府采购严重违法失信行为记录名单】的核查\n",
      "【财通国际投资有限公司】已经完成【信用中国网重点领域严重失信主体名单_拖欠农民工工资失信联合惩戒对象名单】的核查\n",
      "【财通国际投资有限公司】已经完成【信用中国网重点领域严重失信主体名单_重大税收违法失信主体】的核查\n",
      "【财通国际投资有限公司】已经完成【信用中国网重点领域严重失信主体名单_统计严重失信企业名单】的核查\n"
     ]
    },
    {
     "name": "stderr",
     "output_type": "stream",
     "text": [
      "Exception in thread Thread-306:\n",
      "Traceback (most recent call last):\n",
      "  File \"d:\\program files\\python\\lib\\threading.py\", line 932, in _bootstrap_inner\n",
      "    self.run()\n",
      "  File \"d:\\program files\\python\\lib\\threading.py\", line 870, in run\n",
      "    self._target(*self._args, **self._kwargs)\n",
      "  File \"d:\\program files\\python\\lib\\site-packages\\DrissionPage\\chromium_driver.py\", line 123, in _recv_loop\n",
      "    message = loads(message_json)\n",
      "  File \"d:\\program files\\python\\lib\\json\\__init__.py\", line 357, in loads\n",
      "    return _default_decoder.decode(s)\n",
      "  File \"d:\\program files\\python\\lib\\json\\decoder.py\", line 337, in decode\n",
      "    obj, end = self.raw_decode(s, idx=_w(s, 0).end())\n",
      "  File \"d:\\program files\\python\\lib\\json\\decoder.py\", line 355, in raw_decode\n",
      "    raise JSONDecodeError(\"Expecting value\", s, err.value) from None\n",
      "json.decoder.JSONDecodeError: Expecting value: line 1 column 1 (char 0)\n"
     ]
    },
    {
     "name": "stdout",
     "output_type": "stream",
     "text": [
      "【财通创新投资有限公司】已经完成【中华人民共和国国家发展和改革委员会网站】的核查\n"
     ]
    },
    {
     "name": "stderr",
     "output_type": "stream",
     "text": [
      "Exception in thread Thread-314:\n",
      "Traceback (most recent call last):\n",
      "  File \"d:\\program files\\python\\lib\\threading.py\", line 932, in _bootstrap_inner\n",
      "    self.run()\n",
      "  File \"d:\\program files\\python\\lib\\threading.py\", line 870, in run\n",
      "    self._target(*self._args, **self._kwargs)\n",
      "  File \"d:\\program files\\python\\lib\\site-packages\\DrissionPage\\chromium_driver.py\", line 123, in _recv_loop\n",
      "    message = loads(message_json)\n",
      "  File \"d:\\program files\\python\\lib\\json\\__init__.py\", line 357, in loads\n",
      "    return _default_decoder.decode(s)\n",
      "  File \"d:\\program files\\python\\lib\\json\\decoder.py\", line 337, in decode\n",
      "    obj, end = self.raw_decode(s, idx=_w(s, 0).end())\n",
      "  File \"d:\\program files\\python\\lib\\json\\decoder.py\", line 355, in raw_decode\n",
      "    raise JSONDecodeError(\"Expecting value\", s, err.value) from None\n",
      "json.decoder.JSONDecodeError: Expecting value: line 1 column 1 (char 0)\n"
     ]
    },
    {
     "name": "stdout",
     "output_type": "stream",
     "text": [
      "【财通创新投资有限公司】已经完成【中华人民共和国应急管理部网站】的核查\n"
     ]
    },
    {
     "name": "stderr",
     "output_type": "stream",
     "text": [
      "Exception in thread Thread-316:\n",
      "Traceback (most recent call last):\n",
      "  File \"d:\\program files\\python\\lib\\threading.py\", line 932, in _bootstrap_inner\n",
      "    self.run()\n",
      "  File \"d:\\program files\\python\\lib\\threading.py\", line 870, in run\n",
      "    self._target(*self._args, **self._kwargs)\n",
      "  File \"d:\\program files\\python\\lib\\site-packages\\DrissionPage\\chromium_driver.py\", line 123, in _recv_loop\n",
      "    message = loads(message_json)\n",
      "  File \"d:\\program files\\python\\lib\\json\\__init__.py\", line 357, in loads\n",
      "    return _default_decoder.decode(s)\n",
      "  File \"d:\\program files\\python\\lib\\json\\decoder.py\", line 337, in decode\n",
      "    obj, end = self.raw_decode(s, idx=_w(s, 0).end())\n",
      "  File \"d:\\program files\\python\\lib\\json\\decoder.py\", line 355, in raw_decode\n",
      "    raise JSONDecodeError(\"Expecting value\", s, err.value) from None\n",
      "json.decoder.JSONDecodeError: Expecting value: line 1 column 1 (char 0)\n"
     ]
    },
    {
     "name": "stdout",
     "output_type": "stream",
     "text": [
      "【财通创新投资有限公司】已经完成【中华人民共和国生态环境部网站】的核查\n"
     ]
    },
    {
     "name": "stderr",
     "output_type": "stream",
     "text": [
      "Exception in thread Thread-318:\n",
      "Traceback (most recent call last):\n",
      "  File \"d:\\program files\\python\\lib\\threading.py\", line 932, in _bootstrap_inner\n",
      "    self.run()\n",
      "  File \"d:\\program files\\python\\lib\\threading.py\", line 870, in run\n",
      "    self._target(*self._args, **self._kwargs)\n",
      "  File \"d:\\program files\\python\\lib\\site-packages\\DrissionPage\\chromium_driver.py\", line 123, in _recv_loop\n",
      "    message = loads(message_json)\n",
      "  File \"d:\\program files\\python\\lib\\json\\__init__.py\", line 357, in loads\n",
      "    return _default_decoder.decode(s)\n",
      "  File \"d:\\program files\\python\\lib\\json\\decoder.py\", line 337, in decode\n",
      "    obj, end = self.raw_decode(s, idx=_w(s, 0).end())\n",
      "  File \"d:\\program files\\python\\lib\\json\\decoder.py\", line 355, in raw_decode\n",
      "    raise JSONDecodeError(\"Expecting value\", s, err.value) from None\n",
      "json.decoder.JSONDecodeError: Expecting value: line 1 column 1 (char 0)\n"
     ]
    },
    {
     "name": "stdout",
     "output_type": "stream",
     "text": [
      "【财通创新投资有限公司】已经完成【中华人民共和国工业和信息化部网站】的核查\n"
     ]
    },
    {
     "name": "stderr",
     "output_type": "stream",
     "text": [
      "Exception in thread Thread-320:\n",
      "Traceback (most recent call last):\n",
      "  File \"d:\\program files\\python\\lib\\threading.py\", line 932, in _bootstrap_inner\n",
      "    self.run()\n",
      "  File \"d:\\program files\\python\\lib\\threading.py\", line 870, in run\n",
      "    self._target(*self._args, **self._kwargs)\n",
      "  File \"d:\\program files\\python\\lib\\site-packages\\DrissionPage\\chromium_driver.py\", line 123, in _recv_loop\n",
      "    message = loads(message_json)\n",
      "  File \"d:\\program files\\python\\lib\\json\\__init__.py\", line 357, in loads\n",
      "    return _default_decoder.decode(s)\n",
      "  File \"d:\\program files\\python\\lib\\json\\decoder.py\", line 337, in decode\n",
      "    obj, end = self.raw_decode(s, idx=_w(s, 0).end())\n",
      "  File \"d:\\program files\\python\\lib\\json\\decoder.py\", line 355, in raw_decode\n",
      "    raise JSONDecodeError(\"Expecting value\", s, err.value) from None\n",
      "json.decoder.JSONDecodeError: Expecting value: line 1 column 1 (char 0)\n"
     ]
    },
    {
     "name": "stdout",
     "output_type": "stream",
     "text": [
      "【财通创新投资有限公司】已经完成【中华人民共和国商务部网站】的核查\n"
     ]
    },
    {
     "name": "stderr",
     "output_type": "stream",
     "text": [
      "Exception in thread Thread-322:\n",
      "Traceback (most recent call last):\n",
      "  File \"d:\\program files\\python\\lib\\threading.py\", line 932, in _bootstrap_inner\n",
      "    self.run()\n",
      "  File \"d:\\program files\\python\\lib\\threading.py\", line 870, in run\n",
      "    self._target(*self._args, **self._kwargs)\n",
      "  File \"d:\\program files\\python\\lib\\site-packages\\DrissionPage\\chromium_driver.py\", line 123, in _recv_loop\n",
      "    message = loads(message_json)\n",
      "  File \"d:\\program files\\python\\lib\\json\\__init__.py\", line 357, in loads\n",
      "    return _default_decoder.decode(s)\n",
      "  File \"d:\\program files\\python\\lib\\json\\decoder.py\", line 337, in decode\n",
      "    obj, end = self.raw_decode(s, idx=_w(s, 0).end())\n",
      "  File \"d:\\program files\\python\\lib\\json\\decoder.py\", line 355, in raw_decode\n",
      "    raise JSONDecodeError(\"Expecting value\", s, err.value) from None\n",
      "json.decoder.JSONDecodeError: Expecting value: line 1 column 1 (char 0)\n"
     ]
    },
    {
     "name": "stdout",
     "output_type": "stream",
     "text": [
      "【财通创新投资有限公司】已经完成【中华人民共和国财政部网站】的核查\n"
     ]
    },
    {
     "name": "stderr",
     "output_type": "stream",
     "text": [
      "Exception in thread Thread-324:\n",
      "Traceback (most recent call last):\n",
      "  File \"d:\\program files\\python\\lib\\threading.py\", line 932, in _bootstrap_inner\n",
      "    self.run()\n",
      "  File \"d:\\program files\\python\\lib\\threading.py\", line 870, in run\n",
      "    self._target(*self._args, **self._kwargs)\n",
      "  File \"d:\\program files\\python\\lib\\site-packages\\DrissionPage\\chromium_driver.py\", line 123, in _recv_loop\n",
      "    message = loads(message_json)\n",
      "  File \"d:\\program files\\python\\lib\\json\\__init__.py\", line 357, in loads\n",
      "    return _default_decoder.decode(s)\n",
      "  File \"d:\\program files\\python\\lib\\json\\decoder.py\", line 337, in decode\n",
      "    obj, end = self.raw_decode(s, idx=_w(s, 0).end())\n",
      "  File \"d:\\program files\\python\\lib\\json\\decoder.py\", line 355, in raw_decode\n",
      "    raise JSONDecodeError(\"Expecting value\", s, err.value) from None\n",
      "json.decoder.JSONDecodeError: Expecting value: line 1 column 1 (char 0)\n"
     ]
    },
    {
     "name": "stdout",
     "output_type": "stream",
     "text": [
      "【财通创新投资有限公司】已经完成【中华人民共和国农业农村部网站】的核查\n"
     ]
    },
    {
     "name": "stderr",
     "output_type": "stream",
     "text": [
      "Exception in thread Thread-326:\n",
      "Traceback (most recent call last):\n",
      "  File \"d:\\program files\\python\\lib\\threading.py\", line 932, in _bootstrap_inner\n",
      "    self.run()\n",
      "  File \"d:\\program files\\python\\lib\\threading.py\", line 870, in run\n",
      "    self._target(*self._args, **self._kwargs)\n",
      "  File \"d:\\program files\\python\\lib\\site-packages\\DrissionPage\\chromium_driver.py\", line 123, in _recv_loop\n",
      "    message = loads(message_json)\n",
      "  File \"d:\\program files\\python\\lib\\json\\__init__.py\", line 357, in loads\n",
      "    return _default_decoder.decode(s)\n",
      "  File \"d:\\program files\\python\\lib\\json\\decoder.py\", line 337, in decode\n",
      "    obj, end = self.raw_decode(s, idx=_w(s, 0).end())\n",
      "  File \"d:\\program files\\python\\lib\\json\\decoder.py\", line 355, in raw_decode\n",
      "    raise JSONDecodeError(\"Expecting value\", s, err.value) from None\n",
      "json.decoder.JSONDecodeError: Expecting value: line 1 column 1 (char 0)\n"
     ]
    },
    {
     "name": "stdout",
     "output_type": "stream",
     "text": [
      "【财通创新投资有限公司】已经完成【中华人民共和国人力资源和社会保障部网站】的核查\n"
     ]
    },
    {
     "name": "stderr",
     "output_type": "stream",
     "text": [
      "Exception in thread Thread-328:\n",
      "Traceback (most recent call last):\n",
      "  File \"d:\\program files\\python\\lib\\threading.py\", line 932, in _bootstrap_inner\n",
      "    self.run()\n",
      "  File \"d:\\program files\\python\\lib\\threading.py\", line 870, in run\n",
      "    self._target(*self._args, **self._kwargs)\n",
      "  File \"d:\\program files\\python\\lib\\site-packages\\DrissionPage\\chromium_driver.py\", line 123, in _recv_loop\n",
      "    message = loads(message_json)\n",
      "  File \"d:\\program files\\python\\lib\\json\\__init__.py\", line 357, in loads\n",
      "    return _default_decoder.decode(s)\n",
      "  File \"d:\\program files\\python\\lib\\json\\decoder.py\", line 337, in decode\n",
      "    obj, end = self.raw_decode(s, idx=_w(s, 0).end())\n",
      "  File \"d:\\program files\\python\\lib\\json\\decoder.py\", line 355, in raw_decode\n",
      "    raise JSONDecodeError(\"Expecting value\", s, err.value) from None\n",
      "json.decoder.JSONDecodeError: Expecting value: line 1 column 1 (char 0)\n"
     ]
    },
    {
     "name": "stdout",
     "output_type": "stream",
     "text": [
      "0\n",
      "11\n",
      "【财通创新投资有限公司】已经完成【中华人民共和国住房和城乡建设部】的核查\n"
     ]
    },
    {
     "name": "stderr",
     "output_type": "stream",
     "text": [
      "Exception in thread Thread-330:\n",
      "Traceback (most recent call last):\n",
      "  File \"d:\\program files\\python\\lib\\threading.py\", line 932, in _bootstrap_inner\n",
      "    self.run()\n",
      "  File \"d:\\program files\\python\\lib\\threading.py\", line 870, in run\n",
      "    self._target(*self._args, **self._kwargs)\n",
      "  File \"d:\\program files\\python\\lib\\site-packages\\DrissionPage\\chromium_driver.py\", line 123, in _recv_loop\n",
      "    message = loads(message_json)\n",
      "  File \"d:\\program files\\python\\lib\\json\\__init__.py\", line 357, in loads\n",
      "    return _default_decoder.decode(s)\n",
      "  File \"d:\\program files\\python\\lib\\json\\decoder.py\", line 337, in decode\n",
      "    obj, end = self.raw_decode(s, idx=_w(s, 0).end())\n",
      "  File \"d:\\program files\\python\\lib\\json\\decoder.py\", line 355, in raw_decode\n",
      "    raise JSONDecodeError(\"Expecting value\", s, err.value) from None\n",
      "json.decoder.JSONDecodeError: Expecting value: line 1 column 1 (char 0)\n"
     ]
    },
    {
     "name": "stdout",
     "output_type": "stream",
     "text": [
      "51\n",
      "【财通创新投资有限公司】已经完成【国家统计局网站】的核查\n"
     ]
    },
    {
     "name": "stderr",
     "output_type": "stream",
     "text": [
      "Exception in thread Thread-332:\n",
      "Traceback (most recent call last):\n",
      "  File \"d:\\program files\\python\\lib\\threading.py\", line 932, in _bootstrap_inner\n",
      "    self.run()\n",
      "  File \"d:\\program files\\python\\lib\\threading.py\", line 870, in run\n",
      "    self._target(*self._args, **self._kwargs)\n",
      "  File \"d:\\program files\\python\\lib\\site-packages\\DrissionPage\\chromium_driver.py\", line 123, in _recv_loop\n",
      "    message = loads(message_json)\n",
      "  File \"d:\\program files\\python\\lib\\json\\__init__.py\", line 357, in loads\n",
      "    return _default_decoder.decode(s)\n",
      "  File \"d:\\program files\\python\\lib\\json\\decoder.py\", line 337, in decode\n",
      "    obj, end = self.raw_decode(s, idx=_w(s, 0).end())\n",
      "  File \"d:\\program files\\python\\lib\\json\\decoder.py\", line 355, in raw_decode\n",
      "    raise JSONDecodeError(\"Expecting value\", s, err.value) from None\n",
      "json.decoder.JSONDecodeError: Expecting value: line 1 column 1 (char 0)\n"
     ]
    },
    {
     "name": "stdout",
     "output_type": "stream",
     "text": [
      "【财通创新投资有限公司】已经完成【国家市场监督管理总局网站】的核查\n"
     ]
    },
    {
     "name": "stderr",
     "output_type": "stream",
     "text": [
      "Exception in thread Thread-334:\n",
      "Traceback (most recent call last):\n",
      "  File \"d:\\program files\\python\\lib\\threading.py\", line 932, in _bootstrap_inner\n",
      "    self.run()\n",
      "  File \"d:\\program files\\python\\lib\\threading.py\", line 870, in run\n",
      "    self._target(*self._args, **self._kwargs)\n",
      "  File \"d:\\program files\\python\\lib\\site-packages\\DrissionPage\\chromium_driver.py\", line 123, in _recv_loop\n",
      "    message = loads(message_json)\n",
      "  File \"d:\\program files\\python\\lib\\json\\__init__.py\", line 357, in loads\n",
      "    return _default_decoder.decode(s)\n",
      "  File \"d:\\program files\\python\\lib\\json\\decoder.py\", line 337, in decode\n",
      "    obj, end = self.raw_decode(s, idx=_w(s, 0).end())\n",
      "  File \"d:\\program files\\python\\lib\\json\\decoder.py\", line 355, in raw_decode\n",
      "    raise JSONDecodeError(\"Expecting value\", s, err.value) from None\n",
      "json.decoder.JSONDecodeError: Expecting value: line 1 column 1 (char 0)\n"
     ]
    },
    {
     "name": "stdout",
     "output_type": "stream",
     "text": [
      "【财通创新投资有限公司】已经完成【国家药品监督管理局】的核查\n",
      "【财通创新投资有限公司】已经完成【中国人民银行】的核查\n",
      "【财通创新投资有限公司】已经完成【国家金融监督管理总局】的核查\n",
      "【财通创新投资有限公司】已经完成【国家外汇管理局网站】的核查\n",
      "【财通创新投资有限公司】已经完成【政府采购网】的核查\n",
      "【财通创新投资有限公司】已经完成【信用能源】的核查\n",
      "【财通创新投资有限公司】已经完成【信用交通网】的核查\n",
      "【财通创新投资有限公司】已经完成【中国商务信用平台】的核查\n",
      "【财通创新投资有限公司】已经完成【信用盐业】的核查\n",
      "【财通创新投资有限公司】已经完成【信用电力】的核查\n",
      "【财通创新投资有限公司】已经完成【杭州市政府官方网站】的核查\n",
      "【财通创新投资有限公司】已经完成【信用中国网重点领域严重失信主体名单_严重失信主体名单查询】的核查\n",
      "【财通创新投资有限公司】已经完成【信用中国网重点领域严重失信主体名单_经营异常名录信息查询】的核查\n",
      "【财通创新投资有限公司】已经完成【政府采购严重违法失信行为记录名单】的核查\n",
      "【财通创新投资有限公司】已经完成【信用中国网重点领域严重失信主体名单_拖欠农民工工资失信联合惩戒对象名单】的核查\n",
      "【财通创新投资有限公司】已经完成【信用中国网重点领域严重失信主体名单_重大税收违法失信主体】的核查\n",
      "【财通创新投资有限公司】已经完成【信用中国网重点领域严重失信主体名单_统计严重失信企业名单】的核查\n"
     ]
    },
    {
     "name": "stderr",
     "output_type": "stream",
     "text": [
      "Exception in thread Thread-338:\n",
      "Traceback (most recent call last):\n",
      "  File \"d:\\program files\\python\\lib\\threading.py\", line 932, in _bootstrap_inner\n",
      "    self.run()\n",
      "  File \"d:\\program files\\python\\lib\\threading.py\", line 870, in run\n",
      "    self._target(*self._args, **self._kwargs)\n",
      "  File \"d:\\program files\\python\\lib\\site-packages\\DrissionPage\\chromium_driver.py\", line 123, in _recv_loop\n",
      "    message = loads(message_json)\n",
      "  File \"d:\\program files\\python\\lib\\json\\__init__.py\", line 357, in loads\n",
      "    return _default_decoder.decode(s)\n",
      "  File \"d:\\program files\\python\\lib\\json\\decoder.py\", line 337, in decode\n",
      "    obj, end = self.raw_decode(s, idx=_w(s, 0).end())\n",
      "  File \"d:\\program files\\python\\lib\\json\\decoder.py\", line 355, in raw_decode\n",
      "    raise JSONDecodeError(\"Expecting value\", s, err.value) from None\n",
      "json.decoder.JSONDecodeError: Expecting value: line 1 column 1 (char 0)\n"
     ]
    },
    {
     "name": "stdout",
     "output_type": "stream",
     "text": [
      "【财缘通（上海）商务咨询有限公司】已经完成【中华人民共和国国家发展和改革委员会网站】的核查\n"
     ]
    },
    {
     "name": "stderr",
     "output_type": "stream",
     "text": [
      "Exception in thread Thread-346:\n",
      "Traceback (most recent call last):\n",
      "  File \"d:\\program files\\python\\lib\\threading.py\", line 932, in _bootstrap_inner\n",
      "    self.run()\n",
      "  File \"d:\\program files\\python\\lib\\threading.py\", line 870, in run\n",
      "    self._target(*self._args, **self._kwargs)\n",
      "  File \"d:\\program files\\python\\lib\\site-packages\\DrissionPage\\chromium_driver.py\", line 123, in _recv_loop\n",
      "    message = loads(message_json)\n",
      "  File \"d:\\program files\\python\\lib\\json\\__init__.py\", line 357, in loads\n",
      "    return _default_decoder.decode(s)\n",
      "  File \"d:\\program files\\python\\lib\\json\\decoder.py\", line 337, in decode\n",
      "    obj, end = self.raw_decode(s, idx=_w(s, 0).end())\n",
      "  File \"d:\\program files\\python\\lib\\json\\decoder.py\", line 355, in raw_decode\n",
      "    raise JSONDecodeError(\"Expecting value\", s, err.value) from None\n",
      "json.decoder.JSONDecodeError: Expecting value: line 1 column 1 (char 0)\n"
     ]
    },
    {
     "name": "stdout",
     "output_type": "stream",
     "text": [
      "【财缘通（上海）商务咨询有限公司】已经完成【中华人民共和国应急管理部网站】的核查\n"
     ]
    },
    {
     "name": "stderr",
     "output_type": "stream",
     "text": [
      "Exception in thread Thread-348:\n",
      "Traceback (most recent call last):\n",
      "  File \"d:\\program files\\python\\lib\\threading.py\", line 932, in _bootstrap_inner\n",
      "    self.run()\n",
      "  File \"d:\\program files\\python\\lib\\threading.py\", line 870, in run\n",
      "    self._target(*self._args, **self._kwargs)\n",
      "  File \"d:\\program files\\python\\lib\\site-packages\\DrissionPage\\chromium_driver.py\", line 123, in _recv_loop\n",
      "    message = loads(message_json)\n",
      "  File \"d:\\program files\\python\\lib\\json\\__init__.py\", line 357, in loads\n",
      "    return _default_decoder.decode(s)\n",
      "  File \"d:\\program files\\python\\lib\\json\\decoder.py\", line 337, in decode\n",
      "    obj, end = self.raw_decode(s, idx=_w(s, 0).end())\n",
      "  File \"d:\\program files\\python\\lib\\json\\decoder.py\", line 355, in raw_decode\n",
      "    raise JSONDecodeError(\"Expecting value\", s, err.value) from None\n",
      "json.decoder.JSONDecodeError: Expecting value: line 1 column 1 (char 0)\n"
     ]
    },
    {
     "name": "stdout",
     "output_type": "stream",
     "text": [
      "【财缘通（上海）商务咨询有限公司】已经完成【中华人民共和国生态环境部网站】的核查\n"
     ]
    },
    {
     "name": "stderr",
     "output_type": "stream",
     "text": [
      "Exception in thread Thread-350:\n",
      "Traceback (most recent call last):\n",
      "  File \"d:\\program files\\python\\lib\\threading.py\", line 932, in _bootstrap_inner\n",
      "    self.run()\n",
      "  File \"d:\\program files\\python\\lib\\threading.py\", line 870, in run\n",
      "    self._target(*self._args, **self._kwargs)\n",
      "  File \"d:\\program files\\python\\lib\\site-packages\\DrissionPage\\chromium_driver.py\", line 123, in _recv_loop\n",
      "    message = loads(message_json)\n",
      "  File \"d:\\program files\\python\\lib\\json\\__init__.py\", line 357, in loads\n",
      "    return _default_decoder.decode(s)\n",
      "  File \"d:\\program files\\python\\lib\\json\\decoder.py\", line 337, in decode\n",
      "    obj, end = self.raw_decode(s, idx=_w(s, 0).end())\n",
      "  File \"d:\\program files\\python\\lib\\json\\decoder.py\", line 355, in raw_decode\n",
      "    raise JSONDecodeError(\"Expecting value\", s, err.value) from None\n",
      "json.decoder.JSONDecodeError: Expecting value: line 1 column 1 (char 0)\n"
     ]
    },
    {
     "name": "stdout",
     "output_type": "stream",
     "text": [
      "【财缘通（上海）商务咨询有限公司】已经完成【中华人民共和国工业和信息化部网站】的核查\n"
     ]
    },
    {
     "name": "stderr",
     "output_type": "stream",
     "text": [
      "Exception in thread Thread-352:\n",
      "Traceback (most recent call last):\n",
      "  File \"d:\\program files\\python\\lib\\threading.py\", line 932, in _bootstrap_inner\n",
      "    self.run()\n",
      "  File \"d:\\program files\\python\\lib\\threading.py\", line 870, in run\n",
      "    self._target(*self._args, **self._kwargs)\n",
      "  File \"d:\\program files\\python\\lib\\site-packages\\DrissionPage\\chromium_driver.py\", line 123, in _recv_loop\n",
      "    message = loads(message_json)\n",
      "  File \"d:\\program files\\python\\lib\\json\\__init__.py\", line 357, in loads\n",
      "    return _default_decoder.decode(s)\n",
      "  File \"d:\\program files\\python\\lib\\json\\decoder.py\", line 337, in decode\n",
      "    obj, end = self.raw_decode(s, idx=_w(s, 0).end())\n",
      "  File \"d:\\program files\\python\\lib\\json\\decoder.py\", line 355, in raw_decode\n",
      "    raise JSONDecodeError(\"Expecting value\", s, err.value) from None\n",
      "json.decoder.JSONDecodeError: Expecting value: line 1 column 1 (char 0)\n"
     ]
    },
    {
     "name": "stdout",
     "output_type": "stream",
     "text": [
      "【财缘通（上海）商务咨询有限公司】已经完成【中华人民共和国商务部网站】的核查\n"
     ]
    },
    {
     "name": "stderr",
     "output_type": "stream",
     "text": [
      "Exception in thread Thread-354:\n",
      "Traceback (most recent call last):\n",
      "  File \"d:\\program files\\python\\lib\\threading.py\", line 932, in _bootstrap_inner\n",
      "    self.run()\n",
      "  File \"d:\\program files\\python\\lib\\threading.py\", line 870, in run\n",
      "    self._target(*self._args, **self._kwargs)\n",
      "  File \"d:\\program files\\python\\lib\\site-packages\\DrissionPage\\chromium_driver.py\", line 123, in _recv_loop\n",
      "    message = loads(message_json)\n",
      "  File \"d:\\program files\\python\\lib\\json\\__init__.py\", line 357, in loads\n",
      "    return _default_decoder.decode(s)\n",
      "  File \"d:\\program files\\python\\lib\\json\\decoder.py\", line 337, in decode\n",
      "    obj, end = self.raw_decode(s, idx=_w(s, 0).end())\n",
      "  File \"d:\\program files\\python\\lib\\json\\decoder.py\", line 355, in raw_decode\n",
      "    raise JSONDecodeError(\"Expecting value\", s, err.value) from None\n",
      "json.decoder.JSONDecodeError: Expecting value: line 1 column 1 (char 0)\n"
     ]
    },
    {
     "name": "stdout",
     "output_type": "stream",
     "text": [
      "【财缘通（上海）商务咨询有限公司】已经完成【中华人民共和国财政部网站】的核查\n"
     ]
    },
    {
     "name": "stderr",
     "output_type": "stream",
     "text": [
      "Exception in thread Thread-356:\n",
      "Traceback (most recent call last):\n",
      "  File \"d:\\program files\\python\\lib\\threading.py\", line 932, in _bootstrap_inner\n",
      "    self.run()\n",
      "  File \"d:\\program files\\python\\lib\\threading.py\", line 870, in run\n",
      "    self._target(*self._args, **self._kwargs)\n",
      "  File \"d:\\program files\\python\\lib\\site-packages\\DrissionPage\\chromium_driver.py\", line 123, in _recv_loop\n",
      "    message = loads(message_json)\n",
      "  File \"d:\\program files\\python\\lib\\json\\__init__.py\", line 357, in loads\n",
      "    return _default_decoder.decode(s)\n",
      "  File \"d:\\program files\\python\\lib\\json\\decoder.py\", line 337, in decode\n",
      "    obj, end = self.raw_decode(s, idx=_w(s, 0).end())\n",
      "  File \"d:\\program files\\python\\lib\\json\\decoder.py\", line 355, in raw_decode\n",
      "    raise JSONDecodeError(\"Expecting value\", s, err.value) from None\n",
      "json.decoder.JSONDecodeError: Expecting value: line 1 column 1 (char 0)\n"
     ]
    },
    {
     "name": "stdout",
     "output_type": "stream",
     "text": [
      "【财缘通（上海）商务咨询有限公司】已经完成【中华人民共和国农业农村部网站】的核查\n"
     ]
    },
    {
     "name": "stderr",
     "output_type": "stream",
     "text": [
      "Exception in thread Thread-358:\n",
      "Traceback (most recent call last):\n",
      "  File \"d:\\program files\\python\\lib\\threading.py\", line 932, in _bootstrap_inner\n",
      "    self.run()\n",
      "  File \"d:\\program files\\python\\lib\\threading.py\", line 870, in run\n",
      "    self._target(*self._args, **self._kwargs)\n",
      "  File \"d:\\program files\\python\\lib\\site-packages\\DrissionPage\\chromium_driver.py\", line 123, in _recv_loop\n",
      "    message = loads(message_json)\n",
      "  File \"d:\\program files\\python\\lib\\json\\__init__.py\", line 357, in loads\n",
      "    return _default_decoder.decode(s)\n",
      "  File \"d:\\program files\\python\\lib\\json\\decoder.py\", line 337, in decode\n",
      "    obj, end = self.raw_decode(s, idx=_w(s, 0).end())\n",
      "  File \"d:\\program files\\python\\lib\\json\\decoder.py\", line 355, in raw_decode\n",
      "    raise JSONDecodeError(\"Expecting value\", s, err.value) from None\n",
      "json.decoder.JSONDecodeError: Expecting value: line 1 column 1 (char 0)\n"
     ]
    },
    {
     "name": "stdout",
     "output_type": "stream",
     "text": [
      "【财缘通（上海）商务咨询有限公司】已经完成【中华人民共和国人力资源和社会保障部网站】的核查\n"
     ]
    },
    {
     "name": "stderr",
     "output_type": "stream",
     "text": [
      "Exception in thread Thread-360:\n",
      "Traceback (most recent call last):\n",
      "  File \"d:\\program files\\python\\lib\\threading.py\", line 932, in _bootstrap_inner\n",
      "    self.run()\n",
      "  File \"d:\\program files\\python\\lib\\threading.py\", line 870, in run\n",
      "    self._target(*self._args, **self._kwargs)\n",
      "  File \"d:\\program files\\python\\lib\\site-packages\\DrissionPage\\chromium_driver.py\", line 123, in _recv_loop\n",
      "    message = loads(message_json)\n",
      "  File \"d:\\program files\\python\\lib\\json\\__init__.py\", line 357, in loads\n",
      "    return _default_decoder.decode(s)\n",
      "  File \"d:\\program files\\python\\lib\\json\\decoder.py\", line 337, in decode\n",
      "    obj, end = self.raw_decode(s, idx=_w(s, 0).end())\n",
      "  File \"d:\\program files\\python\\lib\\json\\decoder.py\", line 355, in raw_decode\n",
      "    raise JSONDecodeError(\"Expecting value\", s, err.value) from None\n",
      "json.decoder.JSONDecodeError: Expecting value: line 1 column 1 (char 0)\n"
     ]
    },
    {
     "name": "stdout",
     "output_type": "stream",
     "text": [
      "11\n",
      "【财缘通（上海）商务咨询有限公司】已经完成【中华人民共和国住房和城乡建设部】的核查\n"
     ]
    },
    {
     "name": "stderr",
     "output_type": "stream",
     "text": [
      "Exception in thread Thread-362:\n",
      "Traceback (most recent call last):\n",
      "  File \"d:\\program files\\python\\lib\\threading.py\", line 932, in _bootstrap_inner\n",
      "    self.run()\n",
      "  File \"d:\\program files\\python\\lib\\threading.py\", line 870, in run\n",
      "    self._target(*self._args, **self._kwargs)\n",
      "  File \"d:\\program files\\python\\lib\\site-packages\\DrissionPage\\chromium_driver.py\", line 123, in _recv_loop\n",
      "    message = loads(message_json)\n",
      "  File \"d:\\program files\\python\\lib\\json\\__init__.py\", line 357, in loads\n",
      "    return _default_decoder.decode(s)\n",
      "  File \"d:\\program files\\python\\lib\\json\\decoder.py\", line 337, in decode\n",
      "    obj, end = self.raw_decode(s, idx=_w(s, 0).end())\n",
      "  File \"d:\\program files\\python\\lib\\json\\decoder.py\", line 355, in raw_decode\n",
      "    raise JSONDecodeError(\"Expecting value\", s, err.value) from None\n",
      "json.decoder.JSONDecodeError: Expecting value: line 1 column 1 (char 0)\n"
     ]
    },
    {
     "name": "stdout",
     "output_type": "stream",
     "text": [
      "51\n",
      "【财缘通（上海）商务咨询有限公司】已经完成【国家统计局网站】的核查\n"
     ]
    },
    {
     "name": "stderr",
     "output_type": "stream",
     "text": [
      "Exception in thread Thread-364:\n",
      "Traceback (most recent call last):\n",
      "  File \"d:\\program files\\python\\lib\\threading.py\", line 932, in _bootstrap_inner\n",
      "    self.run()\n",
      "  File \"d:\\program files\\python\\lib\\threading.py\", line 870, in run\n",
      "    self._target(*self._args, **self._kwargs)\n",
      "  File \"d:\\program files\\python\\lib\\site-packages\\DrissionPage\\chromium_driver.py\", line 123, in _recv_loop\n",
      "    message = loads(message_json)\n",
      "  File \"d:\\program files\\python\\lib\\json\\__init__.py\", line 357, in loads\n",
      "    return _default_decoder.decode(s)\n",
      "  File \"d:\\program files\\python\\lib\\json\\decoder.py\", line 337, in decode\n",
      "    obj, end = self.raw_decode(s, idx=_w(s, 0).end())\n",
      "  File \"d:\\program files\\python\\lib\\json\\decoder.py\", line 355, in raw_decode\n",
      "    raise JSONDecodeError(\"Expecting value\", s, err.value) from None\n",
      "json.decoder.JSONDecodeError: Expecting value: line 1 column 1 (char 0)\n"
     ]
    },
    {
     "name": "stdout",
     "output_type": "stream",
     "text": [
      "【财缘通（上海）商务咨询有限公司】已经完成【国家市场监督管理总局网站】的核查\n"
     ]
    },
    {
     "name": "stderr",
     "output_type": "stream",
     "text": [
      "Exception in thread Thread-366:\n",
      "Traceback (most recent call last):\n",
      "  File \"d:\\program files\\python\\lib\\threading.py\", line 932, in _bootstrap_inner\n",
      "    self.run()\n",
      "  File \"d:\\program files\\python\\lib\\threading.py\", line 870, in run\n",
      "    self._target(*self._args, **self._kwargs)\n",
      "  File \"d:\\program files\\python\\lib\\site-packages\\DrissionPage\\chromium_driver.py\", line 123, in _recv_loop\n",
      "    message = loads(message_json)\n",
      "  File \"d:\\program files\\python\\lib\\json\\__init__.py\", line 357, in loads\n",
      "    return _default_decoder.decode(s)\n",
      "  File \"d:\\program files\\python\\lib\\json\\decoder.py\", line 337, in decode\n",
      "    obj, end = self.raw_decode(s, idx=_w(s, 0).end())\n",
      "  File \"d:\\program files\\python\\lib\\json\\decoder.py\", line 355, in raw_decode\n",
      "    raise JSONDecodeError(\"Expecting value\", s, err.value) from None\n",
      "json.decoder.JSONDecodeError: Expecting value: line 1 column 1 (char 0)\n"
     ]
    },
    {
     "name": "stdout",
     "output_type": "stream",
     "text": [
      "【财缘通（上海）商务咨询有限公司】已经完成【国家药品监督管理局】的核查\n",
      "【财缘通（上海）商务咨询有限公司】已经完成【中国人民银行】的核查\n",
      "【财缘通（上海）商务咨询有限公司】已经完成【国家金融监督管理总局】的核查\n",
      "【财缘通（上海）商务咨询有限公司】已经完成【国家外汇管理局网站】的核查\n",
      "【财缘通（上海）商务咨询有限公司】已经完成【政府采购网】的核查\n",
      "【财缘通（上海）商务咨询有限公司】已经完成【信用能源】的核查\n",
      "【财缘通（上海）商务咨询有限公司】已经完成【信用交通网】的核查\n",
      "【财缘通（上海）商务咨询有限公司】已经完成【中国商务信用平台】的核查\n",
      "【财缘通（上海）商务咨询有限公司】已经完成【信用盐业】的核查\n",
      "【财缘通（上海）商务咨询有限公司】已经完成【信用电力】的核查\n",
      "【财缘通（上海）商务咨询有限公司】已经完成【杭州市政府官方网站】的核查\n",
      "【财缘通（上海）商务咨询有限公司】已经完成【信用中国网重点领域严重失信主体名单_严重失信主体名单查询】的核查\n",
      "【财缘通（上海）商务咨询有限公司】已经完成【信用中国网重点领域严重失信主体名单_经营异常名录信息查询】的核查\n",
      "【财缘通（上海）商务咨询有限公司】已经完成【政府采购严重违法失信行为记录名单】的核查\n",
      "【财缘通（上海）商务咨询有限公司】已经完成【信用中国网重点领域严重失信主体名单_拖欠农民工工资失信联合惩戒对象名单】的核查\n",
      "【财缘通（上海）商务咨询有限公司】已经完成【信用中国网重点领域严重失信主体名单_重大税收违法失信主体】的核查\n",
      "【财缘通（上海）商务咨询有限公司】已经完成【信用中国网重点领域严重失信主体名单_统计严重失信企业名单】的核查\n"
     ]
    },
    {
     "name": "stderr",
     "output_type": "stream",
     "text": [
      "Exception in thread Thread-370:\n",
      "Traceback (most recent call last):\n",
      "  File \"d:\\program files\\python\\lib\\threading.py\", line 932, in _bootstrap_inner\n",
      "    self.run()\n",
      "  File \"d:\\program files\\python\\lib\\threading.py\", line 870, in run\n",
      "    self._target(*self._args, **self._kwargs)\n",
      "  File \"d:\\program files\\python\\lib\\site-packages\\DrissionPage\\chromium_driver.py\", line 123, in _recv_loop\n",
      "    message = loads(message_json)\n",
      "  File \"d:\\program files\\python\\lib\\json\\__init__.py\", line 357, in loads\n",
      "    return _default_decoder.decode(s)\n",
      "  File \"d:\\program files\\python\\lib\\json\\decoder.py\", line 337, in decode\n",
      "    obj, end = self.raw_decode(s, idx=_w(s, 0).end())\n",
      "  File \"d:\\program files\\python\\lib\\json\\decoder.py\", line 355, in raw_decode\n",
      "    raise JSONDecodeError(\"Expecting value\", s, err.value) from None\n",
      "json.decoder.JSONDecodeError: Expecting value: line 1 column 1 (char 0)\n"
     ]
    },
    {
     "name": "stdout",
     "output_type": "stream",
     "text": [
      "【浙江财通资本投资有限公司】已经完成【中华人民共和国国家发展和改革委员会网站】的核查\n"
     ]
    },
    {
     "name": "stderr",
     "output_type": "stream",
     "text": [
      "Exception in thread Thread-378:\n",
      "Traceback (most recent call last):\n",
      "  File \"d:\\program files\\python\\lib\\threading.py\", line 932, in _bootstrap_inner\n",
      "    self.run()\n",
      "  File \"d:\\program files\\python\\lib\\threading.py\", line 870, in run\n",
      "    self._target(*self._args, **self._kwargs)\n",
      "  File \"d:\\program files\\python\\lib\\site-packages\\DrissionPage\\chromium_driver.py\", line 123, in _recv_loop\n",
      "    message = loads(message_json)\n",
      "  File \"d:\\program files\\python\\lib\\json\\__init__.py\", line 357, in loads\n",
      "    return _default_decoder.decode(s)\n",
      "  File \"d:\\program files\\python\\lib\\json\\decoder.py\", line 337, in decode\n",
      "    obj, end = self.raw_decode(s, idx=_w(s, 0).end())\n",
      "  File \"d:\\program files\\python\\lib\\json\\decoder.py\", line 355, in raw_decode\n",
      "    raise JSONDecodeError(\"Expecting value\", s, err.value) from None\n",
      "json.decoder.JSONDecodeError: Expecting value: line 1 column 1 (char 0)\n"
     ]
    },
    {
     "name": "stdout",
     "output_type": "stream",
     "text": [
      "【浙江财通资本投资有限公司】已经完成【中华人民共和国应急管理部网站】的核查\n"
     ]
    },
    {
     "name": "stderr",
     "output_type": "stream",
     "text": [
      "Exception in thread Thread-380:\n",
      "Traceback (most recent call last):\n",
      "  File \"d:\\program files\\python\\lib\\threading.py\", line 932, in _bootstrap_inner\n",
      "    self.run()\n",
      "  File \"d:\\program files\\python\\lib\\threading.py\", line 870, in run\n",
      "    self._target(*self._args, **self._kwargs)\n",
      "  File \"d:\\program files\\python\\lib\\site-packages\\DrissionPage\\chromium_driver.py\", line 123, in _recv_loop\n",
      "    message = loads(message_json)\n",
      "  File \"d:\\program files\\python\\lib\\json\\__init__.py\", line 357, in loads\n",
      "    return _default_decoder.decode(s)\n",
      "  File \"d:\\program files\\python\\lib\\json\\decoder.py\", line 337, in decode\n",
      "    obj, end = self.raw_decode(s, idx=_w(s, 0).end())\n",
      "  File \"d:\\program files\\python\\lib\\json\\decoder.py\", line 355, in raw_decode\n",
      "    raise JSONDecodeError(\"Expecting value\", s, err.value) from None\n",
      "json.decoder.JSONDecodeError: Expecting value: line 1 column 1 (char 0)\n"
     ]
    },
    {
     "name": "stdout",
     "output_type": "stream",
     "text": [
      "【浙江财通资本投资有限公司】已经完成【中华人民共和国生态环境部网站】的核查\n"
     ]
    },
    {
     "name": "stderr",
     "output_type": "stream",
     "text": [
      "Exception in thread Thread-382:\n",
      "Traceback (most recent call last):\n",
      "  File \"d:\\program files\\python\\lib\\threading.py\", line 932, in _bootstrap_inner\n",
      "    self.run()\n",
      "  File \"d:\\program files\\python\\lib\\threading.py\", line 870, in run\n",
      "    self._target(*self._args, **self._kwargs)\n",
      "  File \"d:\\program files\\python\\lib\\site-packages\\DrissionPage\\chromium_driver.py\", line 123, in _recv_loop\n",
      "    message = loads(message_json)\n",
      "  File \"d:\\program files\\python\\lib\\json\\__init__.py\", line 357, in loads\n",
      "    return _default_decoder.decode(s)\n",
      "  File \"d:\\program files\\python\\lib\\json\\decoder.py\", line 337, in decode\n",
      "    obj, end = self.raw_decode(s, idx=_w(s, 0).end())\n",
      "  File \"d:\\program files\\python\\lib\\json\\decoder.py\", line 355, in raw_decode\n",
      "    raise JSONDecodeError(\"Expecting value\", s, err.value) from None\n",
      "json.decoder.JSONDecodeError: Expecting value: line 1 column 1 (char 0)\n"
     ]
    },
    {
     "name": "stdout",
     "output_type": "stream",
     "text": [
      "【浙江财通资本投资有限公司】已经完成【中华人民共和国工业和信息化部网站】的核查\n"
     ]
    },
    {
     "name": "stderr",
     "output_type": "stream",
     "text": [
      "Exception in thread Thread-384:\n",
      "Traceback (most recent call last):\n",
      "  File \"d:\\program files\\python\\lib\\threading.py\", line 932, in _bootstrap_inner\n",
      "    self.run()\n",
      "  File \"d:\\program files\\python\\lib\\threading.py\", line 870, in run\n",
      "    self._target(*self._args, **self._kwargs)\n",
      "  File \"d:\\program files\\python\\lib\\site-packages\\DrissionPage\\chromium_driver.py\", line 123, in _recv_loop\n",
      "    message = loads(message_json)\n",
      "  File \"d:\\program files\\python\\lib\\json\\__init__.py\", line 357, in loads\n",
      "    return _default_decoder.decode(s)\n",
      "  File \"d:\\program files\\python\\lib\\json\\decoder.py\", line 337, in decode\n",
      "    obj, end = self.raw_decode(s, idx=_w(s, 0).end())\n",
      "  File \"d:\\program files\\python\\lib\\json\\decoder.py\", line 355, in raw_decode\n",
      "    raise JSONDecodeError(\"Expecting value\", s, err.value) from None\n",
      "json.decoder.JSONDecodeError: Expecting value: line 1 column 1 (char 0)\n"
     ]
    },
    {
     "name": "stdout",
     "output_type": "stream",
     "text": [
      "【浙江财通资本投资有限公司】已经完成【中华人民共和国商务部网站】的核查\n"
     ]
    },
    {
     "name": "stderr",
     "output_type": "stream",
     "text": [
      "Exception in thread Thread-386:\n",
      "Traceback (most recent call last):\n",
      "  File \"d:\\program files\\python\\lib\\threading.py\", line 932, in _bootstrap_inner\n",
      "    self.run()\n",
      "  File \"d:\\program files\\python\\lib\\threading.py\", line 870, in run\n",
      "    self._target(*self._args, **self._kwargs)\n",
      "  File \"d:\\program files\\python\\lib\\site-packages\\DrissionPage\\chromium_driver.py\", line 123, in _recv_loop\n",
      "    message = loads(message_json)\n",
      "  File \"d:\\program files\\python\\lib\\json\\__init__.py\", line 357, in loads\n",
      "    return _default_decoder.decode(s)\n",
      "  File \"d:\\program files\\python\\lib\\json\\decoder.py\", line 337, in decode\n",
      "    obj, end = self.raw_decode(s, idx=_w(s, 0).end())\n",
      "  File \"d:\\program files\\python\\lib\\json\\decoder.py\", line 355, in raw_decode\n",
      "    raise JSONDecodeError(\"Expecting value\", s, err.value) from None\n",
      "json.decoder.JSONDecodeError: Expecting value: line 1 column 1 (char 0)\n"
     ]
    },
    {
     "name": "stdout",
     "output_type": "stream",
     "text": [
      "【浙江财通资本投资有限公司】已经完成【中华人民共和国财政部网站】的核查\n"
     ]
    },
    {
     "name": "stderr",
     "output_type": "stream",
     "text": [
      "Exception in thread Thread-388:\n",
      "Traceback (most recent call last):\n",
      "  File \"d:\\program files\\python\\lib\\threading.py\", line 932, in _bootstrap_inner\n",
      "    self.run()\n",
      "  File \"d:\\program files\\python\\lib\\threading.py\", line 870, in run\n",
      "    self._target(*self._args, **self._kwargs)\n",
      "  File \"d:\\program files\\python\\lib\\site-packages\\DrissionPage\\chromium_driver.py\", line 123, in _recv_loop\n",
      "    message = loads(message_json)\n",
      "  File \"d:\\program files\\python\\lib\\json\\__init__.py\", line 357, in loads\n",
      "    return _default_decoder.decode(s)\n",
      "  File \"d:\\program files\\python\\lib\\json\\decoder.py\", line 337, in decode\n",
      "    obj, end = self.raw_decode(s, idx=_w(s, 0).end())\n",
      "  File \"d:\\program files\\python\\lib\\json\\decoder.py\", line 355, in raw_decode\n",
      "    raise JSONDecodeError(\"Expecting value\", s, err.value) from None\n",
      "json.decoder.JSONDecodeError: Expecting value: line 1 column 1 (char 0)\n"
     ]
    },
    {
     "name": "stdout",
     "output_type": "stream",
     "text": [
      "【浙江财通资本投资有限公司】已经完成【中华人民共和国农业农村部网站】的核查\n"
     ]
    },
    {
     "name": "stderr",
     "output_type": "stream",
     "text": [
      "Exception in thread Thread-390:\n",
      "Traceback (most recent call last):\n",
      "  File \"d:\\program files\\python\\lib\\threading.py\", line 932, in _bootstrap_inner\n",
      "    self.run()\n",
      "  File \"d:\\program files\\python\\lib\\threading.py\", line 870, in run\n",
      "    self._target(*self._args, **self._kwargs)\n",
      "  File \"d:\\program files\\python\\lib\\site-packages\\DrissionPage\\chromium_driver.py\", line 123, in _recv_loop\n",
      "    message = loads(message_json)\n",
      "  File \"d:\\program files\\python\\lib\\json\\__init__.py\", line 357, in loads\n",
      "    return _default_decoder.decode(s)\n",
      "  File \"d:\\program files\\python\\lib\\json\\decoder.py\", line 337, in decode\n",
      "    obj, end = self.raw_decode(s, idx=_w(s, 0).end())\n",
      "  File \"d:\\program files\\python\\lib\\json\\decoder.py\", line 355, in raw_decode\n",
      "    raise JSONDecodeError(\"Expecting value\", s, err.value) from None\n",
      "json.decoder.JSONDecodeError: Expecting value: line 1 column 1 (char 0)\n"
     ]
    },
    {
     "name": "stdout",
     "output_type": "stream",
     "text": [
      "【浙江财通资本投资有限公司】已经完成【中华人民共和国人力资源和社会保障部网站】的核查\n"
     ]
    },
    {
     "name": "stderr",
     "output_type": "stream",
     "text": [
      "Exception in thread Thread-392:\n",
      "Traceback (most recent call last):\n",
      "  File \"d:\\program files\\python\\lib\\threading.py\", line 932, in _bootstrap_inner\n",
      "    self.run()\n",
      "  File \"d:\\program files\\python\\lib\\threading.py\", line 870, in run\n",
      "    self._target(*self._args, **self._kwargs)\n",
      "  File \"d:\\program files\\python\\lib\\site-packages\\DrissionPage\\chromium_driver.py\", line 123, in _recv_loop\n",
      "    message = loads(message_json)\n",
      "  File \"d:\\program files\\python\\lib\\json\\__init__.py\", line 357, in loads\n",
      "    return _default_decoder.decode(s)\n",
      "  File \"d:\\program files\\python\\lib\\json\\decoder.py\", line 337, in decode\n",
      "    obj, end = self.raw_decode(s, idx=_w(s, 0).end())\n",
      "  File \"d:\\program files\\python\\lib\\json\\decoder.py\", line 355, in raw_decode\n",
      "    raise JSONDecodeError(\"Expecting value\", s, err.value) from None\n",
      "json.decoder.JSONDecodeError: Expecting value: line 1 column 1 (char 0)\n"
     ]
    },
    {
     "name": "stdout",
     "output_type": "stream",
     "text": [
      "11\n",
      "【浙江财通资本投资有限公司】已经完成【中华人民共和国住房和城乡建设部】的核查\n"
     ]
    },
    {
     "name": "stderr",
     "output_type": "stream",
     "text": [
      "Exception in thread Thread-394:\n",
      "Traceback (most recent call last):\n",
      "  File \"d:\\program files\\python\\lib\\threading.py\", line 932, in _bootstrap_inner\n",
      "    self.run()\n",
      "  File \"d:\\program files\\python\\lib\\threading.py\", line 870, in run\n",
      "    self._target(*self._args, **self._kwargs)\n",
      "  File \"d:\\program files\\python\\lib\\site-packages\\DrissionPage\\chromium_driver.py\", line 123, in _recv_loop\n",
      "    message = loads(message_json)\n",
      "  File \"d:\\program files\\python\\lib\\json\\__init__.py\", line 357, in loads\n",
      "    return _default_decoder.decode(s)\n",
      "  File \"d:\\program files\\python\\lib\\json\\decoder.py\", line 337, in decode\n",
      "    obj, end = self.raw_decode(s, idx=_w(s, 0).end())\n",
      "  File \"d:\\program files\\python\\lib\\json\\decoder.py\", line 355, in raw_decode\n",
      "    raise JSONDecodeError(\"Expecting value\", s, err.value) from None\n",
      "json.decoder.JSONDecodeError: Expecting value: line 1 column 1 (char 0)\n"
     ]
    },
    {
     "name": "stdout",
     "output_type": "stream",
     "text": [
      "51\n",
      "【浙江财通资本投资有限公司】已经完成【国家统计局网站】的核查\n"
     ]
    },
    {
     "name": "stderr",
     "output_type": "stream",
     "text": [
      "Exception in thread Thread-396:\n",
      "Traceback (most recent call last):\n",
      "  File \"d:\\program files\\python\\lib\\threading.py\", line 932, in _bootstrap_inner\n",
      "    self.run()\n",
      "  File \"d:\\program files\\python\\lib\\threading.py\", line 870, in run\n",
      "    self._target(*self._args, **self._kwargs)\n",
      "  File \"d:\\program files\\python\\lib\\site-packages\\DrissionPage\\chromium_driver.py\", line 123, in _recv_loop\n",
      "    message = loads(message_json)\n",
      "  File \"d:\\program files\\python\\lib\\json\\__init__.py\", line 357, in loads\n",
      "    return _default_decoder.decode(s)\n",
      "  File \"d:\\program files\\python\\lib\\json\\decoder.py\", line 337, in decode\n",
      "    obj, end = self.raw_decode(s, idx=_w(s, 0).end())\n",
      "  File \"d:\\program files\\python\\lib\\json\\decoder.py\", line 355, in raw_decode\n",
      "    raise JSONDecodeError(\"Expecting value\", s, err.value) from None\n",
      "json.decoder.JSONDecodeError: Expecting value: line 1 column 1 (char 0)\n"
     ]
    },
    {
     "name": "stdout",
     "output_type": "stream",
     "text": [
      "【浙江财通资本投资有限公司】已经完成【国家市场监督管理总局网站】的核查\n"
     ]
    },
    {
     "name": "stderr",
     "output_type": "stream",
     "text": [
      "Exception in thread Thread-398:\n",
      "Traceback (most recent call last):\n",
      "  File \"d:\\program files\\python\\lib\\threading.py\", line 932, in _bootstrap_inner\n",
      "    self.run()\n",
      "  File \"d:\\program files\\python\\lib\\threading.py\", line 870, in run\n",
      "    self._target(*self._args, **self._kwargs)\n",
      "  File \"d:\\program files\\python\\lib\\site-packages\\DrissionPage\\chromium_driver.py\", line 123, in _recv_loop\n",
      "    message = loads(message_json)\n",
      "  File \"d:\\program files\\python\\lib\\json\\__init__.py\", line 357, in loads\n",
      "    return _default_decoder.decode(s)\n",
      "  File \"d:\\program files\\python\\lib\\json\\decoder.py\", line 337, in decode\n",
      "    obj, end = self.raw_decode(s, idx=_w(s, 0).end())\n",
      "  File \"d:\\program files\\python\\lib\\json\\decoder.py\", line 355, in raw_decode\n",
      "    raise JSONDecodeError(\"Expecting value\", s, err.value) from None\n",
      "json.decoder.JSONDecodeError: Expecting value: line 1 column 1 (char 0)\n"
     ]
    },
    {
     "name": "stdout",
     "output_type": "stream",
     "text": [
      "【浙江财通资本投资有限公司】已经完成【国家药品监督管理局】的核查\n"
     ]
    },
    {
     "name": "stderr",
     "output_type": "stream",
     "text": [
      "Exception in thread Thread-400:\n",
      "Traceback (most recent call last):\n",
      "  File \"d:\\program files\\python\\lib\\threading.py\", line 932, in _bootstrap_inner\n",
      "    self.run()\n",
      "  File \"d:\\program files\\python\\lib\\threading.py\", line 870, in run\n",
      "    self._target(*self._args, **self._kwargs)\n",
      "  File \"d:\\program files\\python\\lib\\site-packages\\DrissionPage\\chromium_driver.py\", line 123, in _recv_loop\n",
      "    message = loads(message_json)\n",
      "  File \"d:\\program files\\python\\lib\\json\\__init__.py\", line 357, in loads\n",
      "    return _default_decoder.decode(s)\n",
      "  File \"d:\\program files\\python\\lib\\json\\decoder.py\", line 337, in decode\n",
      "    obj, end = self.raw_decode(s, idx=_w(s, 0).end())\n",
      "  File \"d:\\program files\\python\\lib\\json\\decoder.py\", line 355, in raw_decode\n",
      "    raise JSONDecodeError(\"Expecting value\", s, err.value) from None\n",
      "json.decoder.JSONDecodeError: Expecting value: line 1 column 1 (char 0)\n"
     ]
    },
    {
     "name": "stdout",
     "output_type": "stream",
     "text": [
      "【浙江财通资本投资有限公司】已经完成【中国人民银行】的核查\n",
      "【浙江财通资本投资有限公司】已经完成【国家金融监督管理总局】的核查\n",
      "【浙江财通资本投资有限公司】已经完成【国家外汇管理局网站】的核查\n",
      "【浙江财通资本投资有限公司】已经完成【政府采购网】的核查\n",
      "【浙江财通资本投资有限公司】已经完成【信用能源】的核查\n",
      "【浙江财通资本投资有限公司】已经完成【信用交通网】的核查\n",
      "【浙江财通资本投资有限公司】已经完成【中国商务信用平台】的核查\n",
      "【浙江财通资本投资有限公司】已经完成【信用盐业】的核查\n",
      "【浙江财通资本投资有限公司】已经完成【信用电力】的核查\n",
      "【浙江财通资本投资有限公司】已经完成【杭州市政府官方网站】的核查\n",
      "【浙江财通资本投资有限公司】已经完成【信用中国网重点领域严重失信主体名单_严重失信主体名单查询】的核查\n",
      "【浙江财通资本投资有限公司】已经完成【信用中国网重点领域严重失信主体名单_经营异常名录信息查询】的核查\n",
      "【浙江财通资本投资有限公司】已经完成【政府采购严重违法失信行为记录名单】的核查\n",
      "【浙江财通资本投资有限公司】已经完成【信用中国网重点领域严重失信主体名单_拖欠农民工工资失信联合惩戒对象名单】的核查\n",
      "【浙江财通资本投资有限公司】已经完成【信用中国网重点领域严重失信主体名单_重大税收违法失信主体】的核查\n",
      "【浙江财通资本投资有限公司】已经完成【信用中国网重点领域严重失信主体名单_统计严重失信企业名单】的核查\n"
     ]
    },
    {
     "name": "stderr",
     "output_type": "stream",
     "text": [
      "Exception in thread Thread-402:\n",
      "Traceback (most recent call last):\n",
      "  File \"d:\\program files\\python\\lib\\threading.py\", line 932, in _bootstrap_inner\n",
      "    self.run()\n",
      "  File \"d:\\program files\\python\\lib\\threading.py\", line 870, in run\n",
      "    self._target(*self._args, **self._kwargs)\n",
      "  File \"d:\\program files\\python\\lib\\site-packages\\DrissionPage\\chromium_driver.py\", line 123, in _recv_loop\n",
      "    message = loads(message_json)\n",
      "  File \"d:\\program files\\python\\lib\\json\\__init__.py\", line 357, in loads\n",
      "    return _default_decoder.decode(s)\n",
      "  File \"d:\\program files\\python\\lib\\json\\decoder.py\", line 337, in decode\n",
      "    obj, end = self.raw_decode(s, idx=_w(s, 0).end())\n",
      "  File \"d:\\program files\\python\\lib\\json\\decoder.py\", line 355, in raw_decode\n",
      "    raise JSONDecodeError(\"Expecting value\", s, err.value) from None\n",
      "json.decoder.JSONDecodeError: Expecting value: line 1 column 1 (char 0)\n"
     ]
    },
    {
     "name": "stdout",
     "output_type": "stream",
     "text": [
      "【浙江财通海港投资管理有限公司】已经完成【中华人民共和国国家发展和改革委员会网站】的核查\n"
     ]
    },
    {
     "name": "stderr",
     "output_type": "stream",
     "text": [
      "Exception in thread Thread-410:\n",
      "Traceback (most recent call last):\n",
      "  File \"d:\\program files\\python\\lib\\threading.py\", line 932, in _bootstrap_inner\n",
      "    self.run()\n",
      "  File \"d:\\program files\\python\\lib\\threading.py\", line 870, in run\n",
      "    self._target(*self._args, **self._kwargs)\n",
      "  File \"d:\\program files\\python\\lib\\site-packages\\DrissionPage\\chromium_driver.py\", line 123, in _recv_loop\n",
      "    message = loads(message_json)\n",
      "  File \"d:\\program files\\python\\lib\\json\\__init__.py\", line 357, in loads\n",
      "    return _default_decoder.decode(s)\n",
      "  File \"d:\\program files\\python\\lib\\json\\decoder.py\", line 337, in decode\n",
      "    obj, end = self.raw_decode(s, idx=_w(s, 0).end())\n",
      "  File \"d:\\program files\\python\\lib\\json\\decoder.py\", line 355, in raw_decode\n",
      "    raise JSONDecodeError(\"Expecting value\", s, err.value) from None\n",
      "json.decoder.JSONDecodeError: Expecting value: line 1 column 1 (char 0)\n"
     ]
    },
    {
     "name": "stdout",
     "output_type": "stream",
     "text": [
      "【浙江财通海港投资管理有限公司】已经完成【中华人民共和国应急管理部网站】的核查\n"
     ]
    },
    {
     "name": "stderr",
     "output_type": "stream",
     "text": [
      "Exception in thread Thread-412:\n",
      "Traceback (most recent call last):\n",
      "  File \"d:\\program files\\python\\lib\\threading.py\", line 932, in _bootstrap_inner\n",
      "    self.run()\n",
      "  File \"d:\\program files\\python\\lib\\threading.py\", line 870, in run\n",
      "    self._target(*self._args, **self._kwargs)\n",
      "  File \"d:\\program files\\python\\lib\\site-packages\\DrissionPage\\chromium_driver.py\", line 123, in _recv_loop\n",
      "    message = loads(message_json)\n",
      "  File \"d:\\program files\\python\\lib\\json\\__init__.py\", line 357, in loads\n",
      "    return _default_decoder.decode(s)\n",
      "  File \"d:\\program files\\python\\lib\\json\\decoder.py\", line 337, in decode\n",
      "    obj, end = self.raw_decode(s, idx=_w(s, 0).end())\n",
      "  File \"d:\\program files\\python\\lib\\json\\decoder.py\", line 355, in raw_decode\n",
      "    raise JSONDecodeError(\"Expecting value\", s, err.value) from None\n",
      "json.decoder.JSONDecodeError: Expecting value: line 1 column 1 (char 0)\n"
     ]
    },
    {
     "name": "stdout",
     "output_type": "stream",
     "text": [
      "【浙江财通海港投资管理有限公司】已经完成【中华人民共和国生态环境部网站】的核查\n"
     ]
    },
    {
     "name": "stderr",
     "output_type": "stream",
     "text": [
      "Exception in thread Thread-414:\n",
      "Traceback (most recent call last):\n",
      "  File \"d:\\program files\\python\\lib\\threading.py\", line 932, in _bootstrap_inner\n",
      "    self.run()\n",
      "  File \"d:\\program files\\python\\lib\\threading.py\", line 870, in run\n",
      "    self._target(*self._args, **self._kwargs)\n",
      "  File \"d:\\program files\\python\\lib\\site-packages\\DrissionPage\\chromium_driver.py\", line 123, in _recv_loop\n",
      "    message = loads(message_json)\n",
      "  File \"d:\\program files\\python\\lib\\json\\__init__.py\", line 357, in loads\n",
      "    return _default_decoder.decode(s)\n",
      "  File \"d:\\program files\\python\\lib\\json\\decoder.py\", line 337, in decode\n",
      "    obj, end = self.raw_decode(s, idx=_w(s, 0).end())\n",
      "  File \"d:\\program files\\python\\lib\\json\\decoder.py\", line 355, in raw_decode\n",
      "    raise JSONDecodeError(\"Expecting value\", s, err.value) from None\n",
      "json.decoder.JSONDecodeError: Expecting value: line 1 column 1 (char 0)\n"
     ]
    },
    {
     "name": "stdout",
     "output_type": "stream",
     "text": [
      "【浙江财通海港投资管理有限公司】已经完成【中华人民共和国工业和信息化部网站】的核查\n"
     ]
    },
    {
     "name": "stderr",
     "output_type": "stream",
     "text": [
      "Exception in thread Thread-416:\n",
      "Traceback (most recent call last):\n",
      "  File \"d:\\program files\\python\\lib\\threading.py\", line 932, in _bootstrap_inner\n",
      "    self.run()\n",
      "  File \"d:\\program files\\python\\lib\\threading.py\", line 870, in run\n",
      "    self._target(*self._args, **self._kwargs)\n",
      "  File \"d:\\program files\\python\\lib\\site-packages\\DrissionPage\\chromium_driver.py\", line 123, in _recv_loop\n",
      "    message = loads(message_json)\n",
      "  File \"d:\\program files\\python\\lib\\json\\__init__.py\", line 357, in loads\n",
      "    return _default_decoder.decode(s)\n",
      "  File \"d:\\program files\\python\\lib\\json\\decoder.py\", line 337, in decode\n",
      "    obj, end = self.raw_decode(s, idx=_w(s, 0).end())\n",
      "  File \"d:\\program files\\python\\lib\\json\\decoder.py\", line 355, in raw_decode\n",
      "    raise JSONDecodeError(\"Expecting value\", s, err.value) from None\n",
      "json.decoder.JSONDecodeError: Expecting value: line 1 column 1 (char 0)\n"
     ]
    },
    {
     "name": "stdout",
     "output_type": "stream",
     "text": [
      "【浙江财通海港投资管理有限公司】已经完成【中华人民共和国商务部网站】的核查\n"
     ]
    },
    {
     "name": "stderr",
     "output_type": "stream",
     "text": [
      "Exception in thread Thread-418:\n",
      "Traceback (most recent call last):\n",
      "  File \"d:\\program files\\python\\lib\\threading.py\", line 932, in _bootstrap_inner\n",
      "    self.run()\n",
      "  File \"d:\\program files\\python\\lib\\threading.py\", line 870, in run\n",
      "    self._target(*self._args, **self._kwargs)\n",
      "  File \"d:\\program files\\python\\lib\\site-packages\\DrissionPage\\chromium_driver.py\", line 123, in _recv_loop\n",
      "    message = loads(message_json)\n",
      "  File \"d:\\program files\\python\\lib\\json\\__init__.py\", line 357, in loads\n",
      "    return _default_decoder.decode(s)\n",
      "  File \"d:\\program files\\python\\lib\\json\\decoder.py\", line 337, in decode\n",
      "    obj, end = self.raw_decode(s, idx=_w(s, 0).end())\n",
      "  File \"d:\\program files\\python\\lib\\json\\decoder.py\", line 355, in raw_decode\n",
      "    raise JSONDecodeError(\"Expecting value\", s, err.value) from None\n",
      "json.decoder.JSONDecodeError: Expecting value: line 1 column 1 (char 0)\n"
     ]
    },
    {
     "name": "stdout",
     "output_type": "stream",
     "text": [
      "【浙江财通海港投资管理有限公司】已经完成【中华人民共和国财政部网站】的核查\n"
     ]
    },
    {
     "name": "stderr",
     "output_type": "stream",
     "text": [
      "Exception in thread Thread-420:\n",
      "Traceback (most recent call last):\n",
      "  File \"d:\\program files\\python\\lib\\threading.py\", line 932, in _bootstrap_inner\n",
      "    self.run()\n",
      "  File \"d:\\program files\\python\\lib\\threading.py\", line 870, in run\n",
      "    self._target(*self._args, **self._kwargs)\n",
      "  File \"d:\\program files\\python\\lib\\site-packages\\DrissionPage\\chromium_driver.py\", line 123, in _recv_loop\n",
      "    message = loads(message_json)\n",
      "  File \"d:\\program files\\python\\lib\\json\\__init__.py\", line 357, in loads\n",
      "    return _default_decoder.decode(s)\n",
      "  File \"d:\\program files\\python\\lib\\json\\decoder.py\", line 337, in decode\n",
      "    obj, end = self.raw_decode(s, idx=_w(s, 0).end())\n",
      "  File \"d:\\program files\\python\\lib\\json\\decoder.py\", line 355, in raw_decode\n",
      "    raise JSONDecodeError(\"Expecting value\", s, err.value) from None\n",
      "json.decoder.JSONDecodeError: Expecting value: line 1 column 1 (char 0)\n"
     ]
    },
    {
     "name": "stdout",
     "output_type": "stream",
     "text": [
      "【浙江财通海港投资管理有限公司】已经完成【中华人民共和国农业农村部网站】的核查\n"
     ]
    },
    {
     "name": "stderr",
     "output_type": "stream",
     "text": [
      "Exception in thread Thread-422:\n",
      "Traceback (most recent call last):\n",
      "  File \"d:\\program files\\python\\lib\\threading.py\", line 932, in _bootstrap_inner\n",
      "    self.run()\n",
      "  File \"d:\\program files\\python\\lib\\threading.py\", line 870, in run\n",
      "    self._target(*self._args, **self._kwargs)\n",
      "  File \"d:\\program files\\python\\lib\\site-packages\\DrissionPage\\chromium_driver.py\", line 123, in _recv_loop\n",
      "    message = loads(message_json)\n",
      "  File \"d:\\program files\\python\\lib\\json\\__init__.py\", line 357, in loads\n",
      "    return _default_decoder.decode(s)\n",
      "  File \"d:\\program files\\python\\lib\\json\\decoder.py\", line 337, in decode\n",
      "    obj, end = self.raw_decode(s, idx=_w(s, 0).end())\n",
      "  File \"d:\\program files\\python\\lib\\json\\decoder.py\", line 355, in raw_decode\n",
      "    raise JSONDecodeError(\"Expecting value\", s, err.value) from None\n",
      "json.decoder.JSONDecodeError: Expecting value: line 1 column 1 (char 0)\n"
     ]
    },
    {
     "name": "stdout",
     "output_type": "stream",
     "text": [
      "【浙江财通海港投资管理有限公司】已经完成【中华人民共和国人力资源和社会保障部网站】的核查\n"
     ]
    },
    {
     "name": "stderr",
     "output_type": "stream",
     "text": [
      "Exception in thread Thread-424:\n",
      "Traceback (most recent call last):\n",
      "  File \"d:\\program files\\python\\lib\\threading.py\", line 932, in _bootstrap_inner\n",
      "    self.run()\n",
      "  File \"d:\\program files\\python\\lib\\threading.py\", line 870, in run\n",
      "    self._target(*self._args, **self._kwargs)\n",
      "  File \"d:\\program files\\python\\lib\\site-packages\\DrissionPage\\chromium_driver.py\", line 123, in _recv_loop\n",
      "    message = loads(message_json)\n",
      "  File \"d:\\program files\\python\\lib\\json\\__init__.py\", line 357, in loads\n",
      "    return _default_decoder.decode(s)\n",
      "  File \"d:\\program files\\python\\lib\\json\\decoder.py\", line 337, in decode\n",
      "    obj, end = self.raw_decode(s, idx=_w(s, 0).end())\n",
      "  File \"d:\\program files\\python\\lib\\json\\decoder.py\", line 355, in raw_decode\n",
      "    raise JSONDecodeError(\"Expecting value\", s, err.value) from None\n",
      "json.decoder.JSONDecodeError: Expecting value: line 1 column 1 (char 0)\n"
     ]
    },
    {
     "name": "stdout",
     "output_type": "stream",
     "text": [
      "11\n",
      "【浙江财通海港投资管理有限公司】已经完成【中华人民共和国住房和城乡建设部】的核查\n"
     ]
    },
    {
     "name": "stderr",
     "output_type": "stream",
     "text": [
      "Exception in thread Thread-426:\n",
      "Traceback (most recent call last):\n",
      "  File \"d:\\program files\\python\\lib\\threading.py\", line 932, in _bootstrap_inner\n",
      "    self.run()\n",
      "  File \"d:\\program files\\python\\lib\\threading.py\", line 870, in run\n",
      "    self._target(*self._args, **self._kwargs)\n",
      "  File \"d:\\program files\\python\\lib\\site-packages\\DrissionPage\\chromium_driver.py\", line 123, in _recv_loop\n",
      "    message = loads(message_json)\n",
      "  File \"d:\\program files\\python\\lib\\json\\__init__.py\", line 357, in loads\n",
      "    return _default_decoder.decode(s)\n",
      "  File \"d:\\program files\\python\\lib\\json\\decoder.py\", line 337, in decode\n",
      "    obj, end = self.raw_decode(s, idx=_w(s, 0).end())\n",
      "  File \"d:\\program files\\python\\lib\\json\\decoder.py\", line 355, in raw_decode\n",
      "    raise JSONDecodeError(\"Expecting value\", s, err.value) from None\n",
      "json.decoder.JSONDecodeError: Expecting value: line 1 column 1 (char 0)\n"
     ]
    },
    {
     "name": "stdout",
     "output_type": "stream",
     "text": [
      "51\n",
      "【浙江财通海港投资管理有限公司】已经完成【国家统计局网站】的核查\n"
     ]
    },
    {
     "name": "stderr",
     "output_type": "stream",
     "text": [
      "Exception in thread Thread-428:\n",
      "Traceback (most recent call last):\n",
      "  File \"d:\\program files\\python\\lib\\threading.py\", line 932, in _bootstrap_inner\n",
      "    self.run()\n",
      "  File \"d:\\program files\\python\\lib\\threading.py\", line 870, in run\n",
      "    self._target(*self._args, **self._kwargs)\n",
      "  File \"d:\\program files\\python\\lib\\site-packages\\DrissionPage\\chromium_driver.py\", line 123, in _recv_loop\n",
      "    message = loads(message_json)\n",
      "  File \"d:\\program files\\python\\lib\\json\\__init__.py\", line 357, in loads\n",
      "    return _default_decoder.decode(s)\n",
      "  File \"d:\\program files\\python\\lib\\json\\decoder.py\", line 337, in decode\n",
      "    obj, end = self.raw_decode(s, idx=_w(s, 0).end())\n",
      "  File \"d:\\program files\\python\\lib\\json\\decoder.py\", line 355, in raw_decode\n",
      "    raise JSONDecodeError(\"Expecting value\", s, err.value) from None\n",
      "json.decoder.JSONDecodeError: Expecting value: line 1 column 1 (char 0)\n"
     ]
    },
    {
     "name": "stdout",
     "output_type": "stream",
     "text": [
      "【浙江财通海港投资管理有限公司】已经完成【国家市场监督管理总局网站】的核查\n"
     ]
    },
    {
     "name": "stderr",
     "output_type": "stream",
     "text": [
      "Exception in thread Thread-430:\n",
      "Traceback (most recent call last):\n",
      "  File \"d:\\program files\\python\\lib\\threading.py\", line 932, in _bootstrap_inner\n",
      "    self.run()\n",
      "  File \"d:\\program files\\python\\lib\\threading.py\", line 870, in run\n",
      "    self._target(*self._args, **self._kwargs)\n",
      "  File \"d:\\program files\\python\\lib\\site-packages\\DrissionPage\\chromium_driver.py\", line 123, in _recv_loop\n",
      "    message = loads(message_json)\n",
      "  File \"d:\\program files\\python\\lib\\json\\__init__.py\", line 357, in loads\n",
      "    return _default_decoder.decode(s)\n",
      "  File \"d:\\program files\\python\\lib\\json\\decoder.py\", line 337, in decode\n",
      "    obj, end = self.raw_decode(s, idx=_w(s, 0).end())\n",
      "  File \"d:\\program files\\python\\lib\\json\\decoder.py\", line 355, in raw_decode\n",
      "    raise JSONDecodeError(\"Expecting value\", s, err.value) from None\n",
      "json.decoder.JSONDecodeError: Expecting value: line 1 column 1 (char 0)\n"
     ]
    },
    {
     "name": "stdout",
     "output_type": "stream",
     "text": [
      "【浙江财通海港投资管理有限公司】已经完成【国家药品监督管理局】的核查\n"
     ]
    },
    {
     "name": "stderr",
     "output_type": "stream",
     "text": [
      "Exception in thread Thread-432:\n",
      "Traceback (most recent call last):\n",
      "  File \"d:\\program files\\python\\lib\\threading.py\", line 932, in _bootstrap_inner\n",
      "    self.run()\n",
      "  File \"d:\\program files\\python\\lib\\threading.py\", line 870, in run\n",
      "    self._target(*self._args, **self._kwargs)\n",
      "  File \"d:\\program files\\python\\lib\\site-packages\\DrissionPage\\chromium_driver.py\", line 123, in _recv_loop\n",
      "    message = loads(message_json)\n",
      "  File \"d:\\program files\\python\\lib\\json\\__init__.py\", line 357, in loads\n",
      "    return _default_decoder.decode(s)\n",
      "  File \"d:\\program files\\python\\lib\\json\\decoder.py\", line 337, in decode\n",
      "    obj, end = self.raw_decode(s, idx=_w(s, 0).end())\n",
      "  File \"d:\\program files\\python\\lib\\json\\decoder.py\", line 355, in raw_decode\n",
      "    raise JSONDecodeError(\"Expecting value\", s, err.value) from None\n",
      "json.decoder.JSONDecodeError: Expecting value: line 1 column 1 (char 0)\n"
     ]
    },
    {
     "name": "stdout",
     "output_type": "stream",
     "text": [
      "【浙江财通海港投资管理有限公司】已经完成【中国人民银行】的核查\n",
      "【浙江财通海港投资管理有限公司】已经完成【国家金融监督管理总局】的核查\n",
      "【浙江财通海港投资管理有限公司】已经完成【国家外汇管理局网站】的核查\n",
      "【浙江财通海港投资管理有限公司】已经完成【政府采购网】的核查\n",
      "【浙江财通海港投资管理有限公司】已经完成【信用能源】的核查\n",
      "【浙江财通海港投资管理有限公司】已经完成【信用交通网】的核查\n",
      "【浙江财通海港投资管理有限公司】已经完成【中国商务信用平台】的核查\n",
      "【浙江财通海港投资管理有限公司】已经完成【信用盐业】的核查\n",
      "【浙江财通海港投资管理有限公司】已经完成【信用电力】的核查\n",
      "【浙江财通海港投资管理有限公司】已经完成【杭州市政府官方网站】的核查\n",
      "【浙江财通海港投资管理有限公司】已经完成【信用中国网重点领域严重失信主体名单_严重失信主体名单查询】的核查\n",
      "【浙江财通海港投资管理有限公司】已经完成【信用中国网重点领域严重失信主体名单_经营异常名录信息查询】的核查\n",
      "【浙江财通海港投资管理有限公司】已经完成【政府采购严重违法失信行为记录名单】的核查\n",
      "【浙江财通海港投资管理有限公司】已经完成【信用中国网重点领域严重失信主体名单_拖欠农民工工资失信联合惩戒对象名单】的核查\n",
      "【浙江财通海港投资管理有限公司】已经完成【信用中国网重点领域严重失信主体名单_重大税收违法失信主体】的核查\n",
      "【浙江财通海港投资管理有限公司】已经完成【信用中国网重点领域严重失信主体名单_统计严重失信企业名单】的核查\n"
     ]
    },
    {
     "name": "stderr",
     "output_type": "stream",
     "text": [
      "Exception in thread Thread-434:\n",
      "Traceback (most recent call last):\n",
      "  File \"d:\\program files\\python\\lib\\threading.py\", line 932, in _bootstrap_inner\n",
      "    self.run()\n",
      "  File \"d:\\program files\\python\\lib\\threading.py\", line 870, in run\n",
      "    self._target(*self._args, **self._kwargs)\n",
      "  File \"d:\\program files\\python\\lib\\site-packages\\DrissionPage\\chromium_driver.py\", line 123, in _recv_loop\n",
      "    message = loads(message_json)\n",
      "  File \"d:\\program files\\python\\lib\\json\\__init__.py\", line 357, in loads\n",
      "    return _default_decoder.decode(s)\n",
      "  File \"d:\\program files\\python\\lib\\json\\decoder.py\", line 337, in decode\n",
      "    obj, end = self.raw_decode(s, idx=_w(s, 0).end())\n",
      "  File \"d:\\program files\\python\\lib\\json\\decoder.py\", line 355, in raw_decode\n",
      "    raise JSONDecodeError(\"Expecting value\", s, err.value) from None\n",
      "json.decoder.JSONDecodeError: Expecting value: line 1 column 1 (char 0)\n"
     ]
    },
    {
     "name": "stdout",
     "output_type": "stream",
     "text": [
      "【财通基金管理有限公司】已经完成【中华人民共和国国家发展和改革委员会网站】的核查\n"
     ]
    },
    {
     "name": "stderr",
     "output_type": "stream",
     "text": [
      "Exception in thread Thread-442:\n",
      "Traceback (most recent call last):\n",
      "  File \"d:\\program files\\python\\lib\\threading.py\", line 932, in _bootstrap_inner\n",
      "    self.run()\n",
      "  File \"d:\\program files\\python\\lib\\threading.py\", line 870, in run\n",
      "    self._target(*self._args, **self._kwargs)\n",
      "  File \"d:\\program files\\python\\lib\\site-packages\\DrissionPage\\chromium_driver.py\", line 123, in _recv_loop\n",
      "    message = loads(message_json)\n",
      "  File \"d:\\program files\\python\\lib\\json\\__init__.py\", line 357, in loads\n",
      "    return _default_decoder.decode(s)\n",
      "  File \"d:\\program files\\python\\lib\\json\\decoder.py\", line 337, in decode\n",
      "    obj, end = self.raw_decode(s, idx=_w(s, 0).end())\n",
      "  File \"d:\\program files\\python\\lib\\json\\decoder.py\", line 355, in raw_decode\n",
      "    raise JSONDecodeError(\"Expecting value\", s, err.value) from None\n",
      "json.decoder.JSONDecodeError: Expecting value: line 1 column 1 (char 0)\n"
     ]
    },
    {
     "name": "stdout",
     "output_type": "stream",
     "text": [
      "【财通基金管理有限公司】已经完成【中华人民共和国应急管理部网站】的核查\n"
     ]
    },
    {
     "name": "stderr",
     "output_type": "stream",
     "text": [
      "Exception in thread Thread-444:\n",
      "Traceback (most recent call last):\n",
      "  File \"d:\\program files\\python\\lib\\threading.py\", line 932, in _bootstrap_inner\n",
      "    self.run()\n",
      "  File \"d:\\program files\\python\\lib\\threading.py\", line 870, in run\n",
      "    self._target(*self._args, **self._kwargs)\n",
      "  File \"d:\\program files\\python\\lib\\site-packages\\DrissionPage\\chromium_driver.py\", line 123, in _recv_loop\n",
      "    message = loads(message_json)\n",
      "  File \"d:\\program files\\python\\lib\\json\\__init__.py\", line 357, in loads\n",
      "    return _default_decoder.decode(s)\n",
      "  File \"d:\\program files\\python\\lib\\json\\decoder.py\", line 337, in decode\n",
      "    obj, end = self.raw_decode(s, idx=_w(s, 0).end())\n",
      "  File \"d:\\program files\\python\\lib\\json\\decoder.py\", line 355, in raw_decode\n",
      "    raise JSONDecodeError(\"Expecting value\", s, err.value) from None\n",
      "json.decoder.JSONDecodeError: Expecting value: line 1 column 1 (char 0)\n"
     ]
    },
    {
     "name": "stdout",
     "output_type": "stream",
     "text": [
      "【财通基金管理有限公司】已经完成【中华人民共和国生态环境部网站】的核查\n"
     ]
    },
    {
     "name": "stderr",
     "output_type": "stream",
     "text": [
      "Exception in thread Thread-446:\n",
      "Traceback (most recent call last):\n",
      "  File \"d:\\program files\\python\\lib\\threading.py\", line 932, in _bootstrap_inner\n",
      "    self.run()\n",
      "  File \"d:\\program files\\python\\lib\\threading.py\", line 870, in run\n",
      "    self._target(*self._args, **self._kwargs)\n",
      "  File \"d:\\program files\\python\\lib\\site-packages\\DrissionPage\\chromium_driver.py\", line 123, in _recv_loop\n",
      "    message = loads(message_json)\n",
      "  File \"d:\\program files\\python\\lib\\json\\__init__.py\", line 357, in loads\n",
      "    return _default_decoder.decode(s)\n",
      "  File \"d:\\program files\\python\\lib\\json\\decoder.py\", line 337, in decode\n",
      "    obj, end = self.raw_decode(s, idx=_w(s, 0).end())\n",
      "  File \"d:\\program files\\python\\lib\\json\\decoder.py\", line 355, in raw_decode\n",
      "    raise JSONDecodeError(\"Expecting value\", s, err.value) from None\n",
      "json.decoder.JSONDecodeError: Expecting value: line 1 column 1 (char 0)\n"
     ]
    },
    {
     "name": "stdout",
     "output_type": "stream",
     "text": [
      "【财通基金管理有限公司】已经完成【中华人民共和国工业和信息化部网站】的核查\n"
     ]
    },
    {
     "name": "stderr",
     "output_type": "stream",
     "text": [
      "Exception in thread Thread-448:\n",
      "Traceback (most recent call last):\n",
      "  File \"d:\\program files\\python\\lib\\threading.py\", line 932, in _bootstrap_inner\n",
      "    self.run()\n",
      "  File \"d:\\program files\\python\\lib\\threading.py\", line 870, in run\n",
      "    self._target(*self._args, **self._kwargs)\n",
      "  File \"d:\\program files\\python\\lib\\site-packages\\DrissionPage\\chromium_driver.py\", line 123, in _recv_loop\n",
      "    message = loads(message_json)\n",
      "  File \"d:\\program files\\python\\lib\\json\\__init__.py\", line 357, in loads\n",
      "    return _default_decoder.decode(s)\n",
      "  File \"d:\\program files\\python\\lib\\json\\decoder.py\", line 337, in decode\n",
      "    obj, end = self.raw_decode(s, idx=_w(s, 0).end())\n",
      "  File \"d:\\program files\\python\\lib\\json\\decoder.py\", line 355, in raw_decode\n",
      "    raise JSONDecodeError(\"Expecting value\", s, err.value) from None\n",
      "json.decoder.JSONDecodeError: Expecting value: line 1 column 1 (char 0)\n"
     ]
    },
    {
     "name": "stdout",
     "output_type": "stream",
     "text": [
      "【财通基金管理有限公司】已经完成【中华人民共和国商务部网站】的核查\n"
     ]
    },
    {
     "name": "stderr",
     "output_type": "stream",
     "text": [
      "Exception in thread Thread-450:\n",
      "Traceback (most recent call last):\n",
      "  File \"d:\\program files\\python\\lib\\threading.py\", line 932, in _bootstrap_inner\n",
      "    self.run()\n",
      "  File \"d:\\program files\\python\\lib\\threading.py\", line 870, in run\n",
      "    self._target(*self._args, **self._kwargs)\n",
      "  File \"d:\\program files\\python\\lib\\site-packages\\DrissionPage\\chromium_driver.py\", line 123, in _recv_loop\n",
      "    message = loads(message_json)\n",
      "  File \"d:\\program files\\python\\lib\\json\\__init__.py\", line 357, in loads\n",
      "    return _default_decoder.decode(s)\n",
      "  File \"d:\\program files\\python\\lib\\json\\decoder.py\", line 337, in decode\n",
      "    obj, end = self.raw_decode(s, idx=_w(s, 0).end())\n",
      "  File \"d:\\program files\\python\\lib\\json\\decoder.py\", line 355, in raw_decode\n",
      "    raise JSONDecodeError(\"Expecting value\", s, err.value) from None\n",
      "json.decoder.JSONDecodeError: Expecting value: line 1 column 1 (char 0)\n"
     ]
    },
    {
     "name": "stdout",
     "output_type": "stream",
     "text": [
      "【财通基金管理有限公司】已经完成【中华人民共和国财政部网站】的核查\n"
     ]
    },
    {
     "name": "stderr",
     "output_type": "stream",
     "text": [
      "Exception in thread Thread-452:\n",
      "Traceback (most recent call last):\n",
      "  File \"d:\\program files\\python\\lib\\threading.py\", line 932, in _bootstrap_inner\n",
      "    self.run()\n",
      "  File \"d:\\program files\\python\\lib\\threading.py\", line 870, in run\n",
      "    self._target(*self._args, **self._kwargs)\n",
      "  File \"d:\\program files\\python\\lib\\site-packages\\DrissionPage\\chromium_driver.py\", line 123, in _recv_loop\n",
      "    message = loads(message_json)\n",
      "  File \"d:\\program files\\python\\lib\\json\\__init__.py\", line 357, in loads\n",
      "    return _default_decoder.decode(s)\n",
      "  File \"d:\\program files\\python\\lib\\json\\decoder.py\", line 337, in decode\n",
      "    obj, end = self.raw_decode(s, idx=_w(s, 0).end())\n",
      "  File \"d:\\program files\\python\\lib\\json\\decoder.py\", line 355, in raw_decode\n",
      "    raise JSONDecodeError(\"Expecting value\", s, err.value) from None\n",
      "json.decoder.JSONDecodeError: Expecting value: line 1 column 1 (char 0)\n"
     ]
    },
    {
     "name": "stdout",
     "output_type": "stream",
     "text": [
      "【财通基金管理有限公司】已经完成【中华人民共和国农业农村部网站】的核查\n",
      "【财通基金管理有限公司】已经完成【中华人民共和国人力资源和社会保障部网站】的核查\n"
     ]
    },
    {
     "name": "stderr",
     "output_type": "stream",
     "text": [
      "Exception in thread Thread-456:\n",
      "Traceback (most recent call last):\n",
      "  File \"d:\\program files\\python\\lib\\threading.py\", line 932, in _bootstrap_inner\n",
      "    self.run()\n",
      "  File \"d:\\program files\\python\\lib\\threading.py\", line 870, in run\n",
      "    self._target(*self._args, **self._kwargs)\n",
      "  File \"d:\\program files\\python\\lib\\site-packages\\DrissionPage\\chromium_driver.py\", line 123, in _recv_loop\n",
      "    message = loads(message_json)\n",
      "  File \"d:\\program files\\python\\lib\\json\\__init__.py\", line 357, in loads\n",
      "    return _default_decoder.decode(s)\n",
      "  File \"d:\\program files\\python\\lib\\json\\decoder.py\", line 337, in decode\n",
      "    obj, end = self.raw_decode(s, idx=_w(s, 0).end())\n",
      "  File \"d:\\program files\\python\\lib\\json\\decoder.py\", line 355, in raw_decode\n",
      "    raise JSONDecodeError(\"Expecting value\", s, err.value) from None\n",
      "json.decoder.JSONDecodeError: Expecting value: line 1 column 1 (char 0)\n"
     ]
    },
    {
     "name": "stdout",
     "output_type": "stream",
     "text": [
      "11\n",
      "【财通基金管理有限公司】已经完成【中华人民共和国住房和城乡建设部】的核查\n"
     ]
    },
    {
     "name": "stderr",
     "output_type": "stream",
     "text": [
      "Exception in thread Thread-458:\n",
      "Traceback (most recent call last):\n",
      "  File \"d:\\program files\\python\\lib\\threading.py\", line 932, in _bootstrap_inner\n",
      "    self.run()\n",
      "  File \"d:\\program files\\python\\lib\\threading.py\", line 870, in run\n",
      "    self._target(*self._args, **self._kwargs)\n",
      "  File \"d:\\program files\\python\\lib\\site-packages\\DrissionPage\\chromium_driver.py\", line 123, in _recv_loop\n",
      "    message = loads(message_json)\n",
      "  File \"d:\\program files\\python\\lib\\json\\__init__.py\", line 357, in loads\n",
      "    return _default_decoder.decode(s)\n",
      "  File \"d:\\program files\\python\\lib\\json\\decoder.py\", line 337, in decode\n",
      "    obj, end = self.raw_decode(s, idx=_w(s, 0).end())\n",
      "  File \"d:\\program files\\python\\lib\\json\\decoder.py\", line 355, in raw_decode\n",
      "    raise JSONDecodeError(\"Expecting value\", s, err.value) from None\n",
      "json.decoder.JSONDecodeError: Expecting value: line 1 column 1 (char 0)\n"
     ]
    },
    {
     "name": "stdout",
     "output_type": "stream",
     "text": [
      "51\n",
      "【财通基金管理有限公司】已经完成【国家统计局网站】的核查\n"
     ]
    },
    {
     "name": "stderr",
     "output_type": "stream",
     "text": [
      "Exception in thread Thread-460:\n",
      "Traceback (most recent call last):\n",
      "  File \"d:\\program files\\python\\lib\\threading.py\", line 932, in _bootstrap_inner\n",
      "    self.run()\n",
      "  File \"d:\\program files\\python\\lib\\threading.py\", line 870, in run\n",
      "    self._target(*self._args, **self._kwargs)\n",
      "  File \"d:\\program files\\python\\lib\\site-packages\\DrissionPage\\chromium_driver.py\", line 123, in _recv_loop\n",
      "    message = loads(message_json)\n",
      "  File \"d:\\program files\\python\\lib\\json\\__init__.py\", line 357, in loads\n",
      "    return _default_decoder.decode(s)\n",
      "  File \"d:\\program files\\python\\lib\\json\\decoder.py\", line 337, in decode\n",
      "    obj, end = self.raw_decode(s, idx=_w(s, 0).end())\n",
      "  File \"d:\\program files\\python\\lib\\json\\decoder.py\", line 355, in raw_decode\n",
      "    raise JSONDecodeError(\"Expecting value\", s, err.value) from None\n",
      "json.decoder.JSONDecodeError: Expecting value: line 1 column 1 (char 0)\n"
     ]
    },
    {
     "name": "stdout",
     "output_type": "stream",
     "text": [
      "【财通基金管理有限公司】已经完成【国家市场监督管理总局网站】的核查\n"
     ]
    },
    {
     "name": "stderr",
     "output_type": "stream",
     "text": [
      "Exception in thread Thread-462:\n",
      "Traceback (most recent call last):\n",
      "  File \"d:\\program files\\python\\lib\\threading.py\", line 932, in _bootstrap_inner\n",
      "    self.run()\n",
      "  File \"d:\\program files\\python\\lib\\threading.py\", line 870, in run\n",
      "    self._target(*self._args, **self._kwargs)\n",
      "  File \"d:\\program files\\python\\lib\\site-packages\\DrissionPage\\chromium_driver.py\", line 123, in _recv_loop\n",
      "    message = loads(message_json)\n",
      "  File \"d:\\program files\\python\\lib\\json\\__init__.py\", line 357, in loads\n",
      "    return _default_decoder.decode(s)\n",
      "  File \"d:\\program files\\python\\lib\\json\\decoder.py\", line 337, in decode\n",
      "    obj, end = self.raw_decode(s, idx=_w(s, 0).end())\n",
      "  File \"d:\\program files\\python\\lib\\json\\decoder.py\", line 355, in raw_decode\n",
      "    raise JSONDecodeError(\"Expecting value\", s, err.value) from None\n",
      "json.decoder.JSONDecodeError: Expecting value: line 1 column 1 (char 0)\n"
     ]
    },
    {
     "name": "stdout",
     "output_type": "stream",
     "text": [
      "【财通基金管理有限公司】已经完成【国家药品监督管理局】的核查\n"
     ]
    },
    {
     "name": "stderr",
     "output_type": "stream",
     "text": [
      "Exception in thread Thread-464:\n",
      "Traceback (most recent call last):\n",
      "  File \"d:\\program files\\python\\lib\\threading.py\", line 932, in _bootstrap_inner\n",
      "    self.run()\n",
      "  File \"d:\\program files\\python\\lib\\threading.py\", line 870, in run\n",
      "    self._target(*self._args, **self._kwargs)\n",
      "  File \"d:\\program files\\python\\lib\\site-packages\\DrissionPage\\chromium_driver.py\", line 123, in _recv_loop\n",
      "    message = loads(message_json)\n",
      "  File \"d:\\program files\\python\\lib\\json\\__init__.py\", line 357, in loads\n",
      "    return _default_decoder.decode(s)\n",
      "  File \"d:\\program files\\python\\lib\\json\\decoder.py\", line 337, in decode\n",
      "    obj, end = self.raw_decode(s, idx=_w(s, 0).end())\n",
      "  File \"d:\\program files\\python\\lib\\json\\decoder.py\", line 355, in raw_decode\n",
      "    raise JSONDecodeError(\"Expecting value\", s, err.value) from None\n",
      "json.decoder.JSONDecodeError: Expecting value: line 1 column 1 (char 0)\n"
     ]
    },
    {
     "name": "stdout",
     "output_type": "stream",
     "text": [
      "【财通基金管理有限公司】已经完成【中国人民银行】的核查\n",
      "【财通基金管理有限公司】已经完成【国家金融监督管理总局】的核查\n",
      "【财通基金管理有限公司】已经完成【国家外汇管理局网站】的核查\n",
      "【财通基金管理有限公司】已经完成【政府采购网】的核查\n",
      "【财通基金管理有限公司】已经完成【信用能源】的核查\n",
      "【财通基金管理有限公司】已经完成【信用交通网】的核查\n",
      "【财通基金管理有限公司】已经完成【中国商务信用平台】的核查\n",
      "【财通基金管理有限公司】已经完成【信用盐业】的核查\n",
      "【财通基金管理有限公司】已经完成【信用电力】的核查\n",
      "【财通基金管理有限公司】已经完成【杭州市政府官方网站】的核查\n",
      "【财通基金管理有限公司】已经完成【信用中国网重点领域严重失信主体名单_严重失信主体名单查询】的核查\n",
      "【财通基金管理有限公司】已经完成【信用中国网重点领域严重失信主体名单_经营异常名录信息查询】的核查\n",
      "【财通基金管理有限公司】已经完成【政府采购严重违法失信行为记录名单】的核查\n",
      "【财通基金管理有限公司】已经完成【信用中国网重点领域严重失信主体名单_拖欠农民工工资失信联合惩戒对象名单】的核查\n",
      "【财通基金管理有限公司】已经完成【信用中国网重点领域严重失信主体名单_重大税收违法失信主体】的核查\n",
      "【财通基金管理有限公司】已经完成【信用中国网重点领域严重失信主体名单_统计严重失信企业名单】的核查\n"
     ]
    },
    {
     "name": "stderr",
     "output_type": "stream",
     "text": [
      "Exception in thread Thread-466:\n",
      "Traceback (most recent call last):\n",
      "  File \"d:\\program files\\python\\lib\\threading.py\", line 932, in _bootstrap_inner\n",
      "    self.run()\n",
      "  File \"d:\\program files\\python\\lib\\threading.py\", line 870, in run\n",
      "    self._target(*self._args, **self._kwargs)\n",
      "  File \"d:\\program files\\python\\lib\\site-packages\\DrissionPage\\chromium_driver.py\", line 123, in _recv_loop\n",
      "    message = loads(message_json)\n",
      "  File \"d:\\program files\\python\\lib\\json\\__init__.py\", line 357, in loads\n",
      "    return _default_decoder.decode(s)\n",
      "  File \"d:\\program files\\python\\lib\\json\\decoder.py\", line 337, in decode\n",
      "    obj, end = self.raw_decode(s, idx=_w(s, 0).end())\n",
      "  File \"d:\\program files\\python\\lib\\json\\decoder.py\", line 355, in raw_decode\n",
      "    raise JSONDecodeError(\"Expecting value\", s, err.value) from None\n",
      "json.decoder.JSONDecodeError: Expecting value: line 1 column 1 (char 0)\n"
     ]
    },
    {
     "name": "stdout",
     "output_type": "stream",
     "text": [
      "【永安期货股份有限公司】已经完成【中华人民共和国国家发展和改革委员会网站】的核查\n"
     ]
    },
    {
     "name": "stderr",
     "output_type": "stream",
     "text": [
      "Exception in thread Thread-474:\n",
      "Traceback (most recent call last):\n",
      "  File \"d:\\program files\\python\\lib\\threading.py\", line 932, in _bootstrap_inner\n",
      "    self.run()\n",
      "  File \"d:\\program files\\python\\lib\\threading.py\", line 870, in run\n",
      "    self._target(*self._args, **self._kwargs)\n",
      "  File \"d:\\program files\\python\\lib\\site-packages\\DrissionPage\\chromium_driver.py\", line 123, in _recv_loop\n",
      "    message = loads(message_json)\n",
      "  File \"d:\\program files\\python\\lib\\json\\__init__.py\", line 357, in loads\n",
      "    return _default_decoder.decode(s)\n",
      "  File \"d:\\program files\\python\\lib\\json\\decoder.py\", line 337, in decode\n",
      "    obj, end = self.raw_decode(s, idx=_w(s, 0).end())\n",
      "  File \"d:\\program files\\python\\lib\\json\\decoder.py\", line 355, in raw_decode\n",
      "    raise JSONDecodeError(\"Expecting value\", s, err.value) from None\n",
      "json.decoder.JSONDecodeError: Expecting value: line 1 column 1 (char 0)\n"
     ]
    },
    {
     "name": "stdout",
     "output_type": "stream",
     "text": [
      "【永安期货股份有限公司】已经完成【中华人民共和国应急管理部网站】的核查\n"
     ]
    },
    {
     "name": "stderr",
     "output_type": "stream",
     "text": [
      "Exception in thread Thread-476:\n",
      "Traceback (most recent call last):\n",
      "  File \"d:\\program files\\python\\lib\\threading.py\", line 932, in _bootstrap_inner\n",
      "    self.run()\n",
      "  File \"d:\\program files\\python\\lib\\threading.py\", line 870, in run\n",
      "    self._target(*self._args, **self._kwargs)\n",
      "  File \"d:\\program files\\python\\lib\\site-packages\\DrissionPage\\chromium_driver.py\", line 123, in _recv_loop\n",
      "    message = loads(message_json)\n",
      "  File \"d:\\program files\\python\\lib\\json\\__init__.py\", line 357, in loads\n",
      "    return _default_decoder.decode(s)\n",
      "  File \"d:\\program files\\python\\lib\\json\\decoder.py\", line 337, in decode\n",
      "    obj, end = self.raw_decode(s, idx=_w(s, 0).end())\n",
      "  File \"d:\\program files\\python\\lib\\json\\decoder.py\", line 355, in raw_decode\n",
      "    raise JSONDecodeError(\"Expecting value\", s, err.value) from None\n",
      "json.decoder.JSONDecodeError: Expecting value: line 1 column 1 (char 0)\n"
     ]
    },
    {
     "name": "stdout",
     "output_type": "stream",
     "text": [
      "【永安期货股份有限公司】已经完成【中华人民共和国生态环境部网站】的核查\n"
     ]
    },
    {
     "name": "stderr",
     "output_type": "stream",
     "text": [
      "Exception in thread Thread-478:\n",
      "Traceback (most recent call last):\n",
      "  File \"d:\\program files\\python\\lib\\threading.py\", line 932, in _bootstrap_inner\n",
      "    self.run()\n",
      "  File \"d:\\program files\\python\\lib\\threading.py\", line 870, in run\n",
      "    self._target(*self._args, **self._kwargs)\n",
      "  File \"d:\\program files\\python\\lib\\site-packages\\DrissionPage\\chromium_driver.py\", line 123, in _recv_loop\n",
      "    message = loads(message_json)\n",
      "  File \"d:\\program files\\python\\lib\\json\\__init__.py\", line 357, in loads\n",
      "    return _default_decoder.decode(s)\n",
      "  File \"d:\\program files\\python\\lib\\json\\decoder.py\", line 337, in decode\n",
      "    obj, end = self.raw_decode(s, idx=_w(s, 0).end())\n",
      "  File \"d:\\program files\\python\\lib\\json\\decoder.py\", line 355, in raw_decode\n",
      "    raise JSONDecodeError(\"Expecting value\", s, err.value) from None\n",
      "json.decoder.JSONDecodeError: Expecting value: line 1 column 1 (char 0)\n"
     ]
    },
    {
     "name": "stdout",
     "output_type": "stream",
     "text": [
      "【永安期货股份有限公司】已经完成【中华人民共和国工业和信息化部网站】的核查\n"
     ]
    },
    {
     "name": "stderr",
     "output_type": "stream",
     "text": [
      "Exception in thread Thread-480:\n",
      "Traceback (most recent call last):\n",
      "  File \"d:\\program files\\python\\lib\\threading.py\", line 932, in _bootstrap_inner\n",
      "    self.run()\n",
      "  File \"d:\\program files\\python\\lib\\threading.py\", line 870, in run\n",
      "    self._target(*self._args, **self._kwargs)\n",
      "  File \"d:\\program files\\python\\lib\\site-packages\\DrissionPage\\chromium_driver.py\", line 123, in _recv_loop\n",
      "    message = loads(message_json)\n",
      "  File \"d:\\program files\\python\\lib\\json\\__init__.py\", line 357, in loads\n",
      "    return _default_decoder.decode(s)\n",
      "  File \"d:\\program files\\python\\lib\\json\\decoder.py\", line 337, in decode\n",
      "    obj, end = self.raw_decode(s, idx=_w(s, 0).end())\n",
      "  File \"d:\\program files\\python\\lib\\json\\decoder.py\", line 355, in raw_decode\n",
      "    raise JSONDecodeError(\"Expecting value\", s, err.value) from None\n",
      "json.decoder.JSONDecodeError: Expecting value: line 1 column 1 (char 0)\n"
     ]
    },
    {
     "name": "stdout",
     "output_type": "stream",
     "text": [
      "【永安期货股份有限公司】已经完成【中华人民共和国商务部网站】的核查\n"
     ]
    },
    {
     "name": "stderr",
     "output_type": "stream",
     "text": [
      "Exception in thread Thread-482:\n",
      "Traceback (most recent call last):\n",
      "  File \"d:\\program files\\python\\lib\\threading.py\", line 932, in _bootstrap_inner\n",
      "    self.run()\n",
      "  File \"d:\\program files\\python\\lib\\threading.py\", line 870, in run\n",
      "    self._target(*self._args, **self._kwargs)\n",
      "  File \"d:\\program files\\python\\lib\\site-packages\\DrissionPage\\chromium_driver.py\", line 123, in _recv_loop\n",
      "    message = loads(message_json)\n",
      "  File \"d:\\program files\\python\\lib\\json\\__init__.py\", line 357, in loads\n",
      "    return _default_decoder.decode(s)\n",
      "  File \"d:\\program files\\python\\lib\\json\\decoder.py\", line 337, in decode\n",
      "    obj, end = self.raw_decode(s, idx=_w(s, 0).end())\n",
      "  File \"d:\\program files\\python\\lib\\json\\decoder.py\", line 355, in raw_decode\n",
      "    raise JSONDecodeError(\"Expecting value\", s, err.value) from None\n",
      "json.decoder.JSONDecodeError: Expecting value: line 1 column 1 (char 0)\n"
     ]
    },
    {
     "name": "stdout",
     "output_type": "stream",
     "text": [
      "【永安期货股份有限公司】已经完成【中华人民共和国财政部网站】的核查\n"
     ]
    },
    {
     "name": "stderr",
     "output_type": "stream",
     "text": [
      "Exception in thread Thread-484:\n",
      "Traceback (most recent call last):\n",
      "  File \"d:\\program files\\python\\lib\\threading.py\", line 932, in _bootstrap_inner\n",
      "    self.run()\n",
      "  File \"d:\\program files\\python\\lib\\threading.py\", line 870, in run\n",
      "    self._target(*self._args, **self._kwargs)\n",
      "  File \"d:\\program files\\python\\lib\\site-packages\\DrissionPage\\chromium_driver.py\", line 123, in _recv_loop\n",
      "    message = loads(message_json)\n",
      "  File \"d:\\program files\\python\\lib\\json\\__init__.py\", line 357, in loads\n",
      "    return _default_decoder.decode(s)\n",
      "  File \"d:\\program files\\python\\lib\\json\\decoder.py\", line 337, in decode\n",
      "    obj, end = self.raw_decode(s, idx=_w(s, 0).end())\n",
      "  File \"d:\\program files\\python\\lib\\json\\decoder.py\", line 355, in raw_decode\n",
      "    raise JSONDecodeError(\"Expecting value\", s, err.value) from None\n",
      "json.decoder.JSONDecodeError: Expecting value: line 1 column 1 (char 0)\n"
     ]
    },
    {
     "name": "stdout",
     "output_type": "stream",
     "text": [
      "【永安期货股份有限公司】已经完成【中华人民共和国农业农村部网站】的核查\n"
     ]
    },
    {
     "name": "stderr",
     "output_type": "stream",
     "text": [
      "Exception in thread Thread-486:\n",
      "Traceback (most recent call last):\n",
      "  File \"d:\\program files\\python\\lib\\threading.py\", line 932, in _bootstrap_inner\n",
      "    self.run()\n",
      "  File \"d:\\program files\\python\\lib\\threading.py\", line 870, in run\n",
      "    self._target(*self._args, **self._kwargs)\n",
      "  File \"d:\\program files\\python\\lib\\site-packages\\DrissionPage\\chromium_driver.py\", line 123, in _recv_loop\n",
      "    message = loads(message_json)\n",
      "  File \"d:\\program files\\python\\lib\\json\\__init__.py\", line 357, in loads\n",
      "    return _default_decoder.decode(s)\n",
      "  File \"d:\\program files\\python\\lib\\json\\decoder.py\", line 337, in decode\n",
      "    obj, end = self.raw_decode(s, idx=_w(s, 0).end())\n",
      "  File \"d:\\program files\\python\\lib\\json\\decoder.py\", line 355, in raw_decode\n",
      "    raise JSONDecodeError(\"Expecting value\", s, err.value) from None\n",
      "json.decoder.JSONDecodeError: Expecting value: line 1 column 1 (char 0)\n"
     ]
    },
    {
     "name": "stdout",
     "output_type": "stream",
     "text": [
      "【永安期货股份有限公司】已经完成【中华人民共和国人力资源和社会保障部网站】的核查\n"
     ]
    },
    {
     "name": "stderr",
     "output_type": "stream",
     "text": [
      "Exception in thread Thread-488:\n",
      "Traceback (most recent call last):\n",
      "  File \"d:\\program files\\python\\lib\\threading.py\", line 932, in _bootstrap_inner\n",
      "    self.run()\n",
      "  File \"d:\\program files\\python\\lib\\threading.py\", line 870, in run\n",
      "    self._target(*self._args, **self._kwargs)\n",
      "  File \"d:\\program files\\python\\lib\\site-packages\\DrissionPage\\chromium_driver.py\", line 123, in _recv_loop\n",
      "    message = loads(message_json)\n",
      "  File \"d:\\program files\\python\\lib\\json\\__init__.py\", line 357, in loads\n",
      "    return _default_decoder.decode(s)\n",
      "  File \"d:\\program files\\python\\lib\\json\\decoder.py\", line 337, in decode\n",
      "    obj, end = self.raw_decode(s, idx=_w(s, 0).end())\n",
      "  File \"d:\\program files\\python\\lib\\json\\decoder.py\", line 355, in raw_decode\n",
      "    raise JSONDecodeError(\"Expecting value\", s, err.value) from None\n",
      "json.decoder.JSONDecodeError: Expecting value: line 1 column 1 (char 0)\n"
     ]
    },
    {
     "name": "stdout",
     "output_type": "stream",
     "text": [
      "0\n",
      "11\n",
      "【永安期货股份有限公司】已经完成【中华人民共和国住房和城乡建设部】的核查\n"
     ]
    },
    {
     "name": "stderr",
     "output_type": "stream",
     "text": [
      "Exception in thread Thread-490:\n",
      "Traceback (most recent call last):\n",
      "  File \"d:\\program files\\python\\lib\\threading.py\", line 932, in _bootstrap_inner\n",
      "    self.run()\n",
      "  File \"d:\\program files\\python\\lib\\threading.py\", line 870, in run\n",
      "    self._target(*self._args, **self._kwargs)\n",
      "  File \"d:\\program files\\python\\lib\\site-packages\\DrissionPage\\chromium_driver.py\", line 123, in _recv_loop\n",
      "    message = loads(message_json)\n",
      "  File \"d:\\program files\\python\\lib\\json\\__init__.py\", line 357, in loads\n",
      "    return _default_decoder.decode(s)\n",
      "  File \"d:\\program files\\python\\lib\\json\\decoder.py\", line 337, in decode\n",
      "    obj, end = self.raw_decode(s, idx=_w(s, 0).end())\n",
      "  File \"d:\\program files\\python\\lib\\json\\decoder.py\", line 355, in raw_decode\n",
      "    raise JSONDecodeError(\"Expecting value\", s, err.value) from None\n",
      "json.decoder.JSONDecodeError: Expecting value: line 1 column 1 (char 0)\n"
     ]
    },
    {
     "name": "stdout",
     "output_type": "stream",
     "text": [
      "51\n",
      "【永安期货股份有限公司】已经完成【国家统计局网站】的核查\n"
     ]
    },
    {
     "name": "stderr",
     "output_type": "stream",
     "text": [
      "Exception in thread Thread-492:\n",
      "Traceback (most recent call last):\n",
      "  File \"d:\\program files\\python\\lib\\threading.py\", line 932, in _bootstrap_inner\n",
      "    self.run()\n",
      "  File \"d:\\program files\\python\\lib\\threading.py\", line 870, in run\n",
      "    self._target(*self._args, **self._kwargs)\n",
      "  File \"d:\\program files\\python\\lib\\site-packages\\DrissionPage\\chromium_driver.py\", line 123, in _recv_loop\n",
      "    message = loads(message_json)\n",
      "  File \"d:\\program files\\python\\lib\\json\\__init__.py\", line 357, in loads\n",
      "    return _default_decoder.decode(s)\n",
      "  File \"d:\\program files\\python\\lib\\json\\decoder.py\", line 337, in decode\n",
      "    obj, end = self.raw_decode(s, idx=_w(s, 0).end())\n",
      "  File \"d:\\program files\\python\\lib\\json\\decoder.py\", line 355, in raw_decode\n",
      "    raise JSONDecodeError(\"Expecting value\", s, err.value) from None\n",
      "json.decoder.JSONDecodeError: Expecting value: line 1 column 1 (char 0)\n"
     ]
    },
    {
     "name": "stdout",
     "output_type": "stream",
     "text": [
      "【永安期货股份有限公司】已经完成【国家市场监督管理总局网站】的核查\n"
     ]
    },
    {
     "name": "stderr",
     "output_type": "stream",
     "text": [
      "Exception in thread Thread-494:\n",
      "Traceback (most recent call last):\n",
      "  File \"d:\\program files\\python\\lib\\threading.py\", line 932, in _bootstrap_inner\n",
      "    self.run()\n",
      "  File \"d:\\program files\\python\\lib\\threading.py\", line 870, in run\n",
      "    self._target(*self._args, **self._kwargs)\n",
      "  File \"d:\\program files\\python\\lib\\site-packages\\DrissionPage\\chromium_driver.py\", line 123, in _recv_loop\n",
      "    message = loads(message_json)\n",
      "  File \"d:\\program files\\python\\lib\\json\\__init__.py\", line 357, in loads\n",
      "    return _default_decoder.decode(s)\n",
      "  File \"d:\\program files\\python\\lib\\json\\decoder.py\", line 337, in decode\n",
      "    obj, end = self.raw_decode(s, idx=_w(s, 0).end())\n",
      "  File \"d:\\program files\\python\\lib\\json\\decoder.py\", line 355, in raw_decode\n",
      "    raise JSONDecodeError(\"Expecting value\", s, err.value) from None\n",
      "json.decoder.JSONDecodeError: Expecting value: line 1 column 1 (char 0)\n"
     ]
    },
    {
     "name": "stdout",
     "output_type": "stream",
     "text": [
      "【永安期货股份有限公司】已经完成【国家药品监督管理局】的核查\n"
     ]
    },
    {
     "name": "stderr",
     "output_type": "stream",
     "text": [
      "Exception in thread Thread-496:\n",
      "Traceback (most recent call last):\n",
      "  File \"d:\\program files\\python\\lib\\threading.py\", line 932, in _bootstrap_inner\n",
      "    self.run()\n",
      "  File \"d:\\program files\\python\\lib\\threading.py\", line 870, in run\n",
      "    self._target(*self._args, **self._kwargs)\n",
      "  File \"d:\\program files\\python\\lib\\site-packages\\DrissionPage\\chromium_driver.py\", line 123, in _recv_loop\n",
      "    message = loads(message_json)\n",
      "  File \"d:\\program files\\python\\lib\\json\\__init__.py\", line 357, in loads\n",
      "    return _default_decoder.decode(s)\n",
      "  File \"d:\\program files\\python\\lib\\json\\decoder.py\", line 337, in decode\n",
      "    obj, end = self.raw_decode(s, idx=_w(s, 0).end())\n",
      "  File \"d:\\program files\\python\\lib\\json\\decoder.py\", line 355, in raw_decode\n",
      "    raise JSONDecodeError(\"Expecting value\", s, err.value) from None\n",
      "json.decoder.JSONDecodeError: Expecting value: line 1 column 1 (char 0)\n"
     ]
    },
    {
     "name": "stdout",
     "output_type": "stream",
     "text": [
      "【永安期货股份有限公司】已经完成【中国人民银行】的核查\n",
      "【永安期货股份有限公司】已经完成【国家金融监督管理总局】的核查\n",
      "【永安期货股份有限公司】已经完成【国家外汇管理局网站】的核查\n",
      "【永安期货股份有限公司】已经完成【政府采购网】的核查\n",
      "【永安期货股份有限公司】已经完成【信用能源】的核查\n",
      "【永安期货股份有限公司】已经完成【信用交通网】的核查\n",
      "【永安期货股份有限公司】已经完成【中国商务信用平台】的核查\n",
      "【永安期货股份有限公司】已经完成【信用盐业】的核查\n",
      "【永安期货股份有限公司】已经完成【信用电力】的核查\n",
      "【永安期货股份有限公司】已经完成【杭州市政府官方网站】的核查\n",
      "【永安期货股份有限公司】已经完成【信用中国网重点领域严重失信主体名单_严重失信主体名单查询】的核查\n",
      "【永安期货股份有限公司】已经完成【信用中国网重点领域严重失信主体名单_经营异常名录信息查询】的核查\n",
      "【永安期货股份有限公司】已经完成【政府采购严重违法失信行为记录名单】的核查\n",
      "【永安期货股份有限公司】已经完成【信用中国网重点领域严重失信主体名单_拖欠农民工工资失信联合惩戒对象名单】的核查\n",
      "【永安期货股份有限公司】已经完成【信用中国网重点领域严重失信主体名单_重大税收违法失信主体】的核查\n",
      "【永安期货股份有限公司】已经完成【信用中国网重点领域严重失信主体名单_统计严重失信企业名单】的核查\n"
     ]
    },
    {
     "name": "stderr",
     "output_type": "stream",
     "text": [
      "Exception in thread Thread-498:\n",
      "Traceback (most recent call last):\n",
      "  File \"d:\\program files\\python\\lib\\threading.py\", line 932, in _bootstrap_inner\n",
      "    self.run()\n",
      "  File \"d:\\program files\\python\\lib\\threading.py\", line 870, in run\n",
      "    self._target(*self._args, **self._kwargs)\n",
      "  File \"d:\\program files\\python\\lib\\site-packages\\DrissionPage\\chromium_driver.py\", line 123, in _recv_loop\n",
      "    message = loads(message_json)\n",
      "  File \"d:\\program files\\python\\lib\\json\\__init__.py\", line 357, in loads\n",
      "    return _default_decoder.decode(s)\n",
      "  File \"d:\\program files\\python\\lib\\json\\decoder.py\", line 337, in decode\n",
      "    obj, end = self.raw_decode(s, idx=_w(s, 0).end())\n",
      "  File \"d:\\program files\\python\\lib\\json\\decoder.py\", line 355, in raw_decode\n",
      "    raise JSONDecodeError(\"Expecting value\", s, err.value) from None\n",
      "json.decoder.JSONDecodeError: Expecting value: line 1 column 1 (char 0)\n"
     ]
    },
    {
     "name": "stdout",
     "output_type": "stream",
     "text": [
      "【浙江省浙商资产管理股份有限公司】已经完成【中华人民共和国国家发展和改革委员会网站】的核查\n"
     ]
    },
    {
     "name": "stderr",
     "output_type": "stream",
     "text": [
      "Exception in thread Thread-506:\n",
      "Traceback (most recent call last):\n",
      "  File \"d:\\program files\\python\\lib\\threading.py\", line 932, in _bootstrap_inner\n",
      "    self.run()\n",
      "  File \"d:\\program files\\python\\lib\\threading.py\", line 870, in run\n",
      "    self._target(*self._args, **self._kwargs)\n",
      "  File \"d:\\program files\\python\\lib\\site-packages\\DrissionPage\\chromium_driver.py\", line 123, in _recv_loop\n",
      "    message = loads(message_json)\n",
      "  File \"d:\\program files\\python\\lib\\json\\__init__.py\", line 357, in loads\n",
      "    return _default_decoder.decode(s)\n",
      "  File \"d:\\program files\\python\\lib\\json\\decoder.py\", line 337, in decode\n",
      "    obj, end = self.raw_decode(s, idx=_w(s, 0).end())\n",
      "  File \"d:\\program files\\python\\lib\\json\\decoder.py\", line 355, in raw_decode\n",
      "    raise JSONDecodeError(\"Expecting value\", s, err.value) from None\n",
      "json.decoder.JSONDecodeError: Expecting value: line 1 column 1 (char 0)\n"
     ]
    },
    {
     "name": "stdout",
     "output_type": "stream",
     "text": [
      "【浙江省浙商资产管理股份有限公司】已经完成【中华人民共和国应急管理部网站】的核查\n"
     ]
    },
    {
     "name": "stderr",
     "output_type": "stream",
     "text": [
      "Exception in thread Thread-508:\n",
      "Traceback (most recent call last):\n",
      "  File \"d:\\program files\\python\\lib\\threading.py\", line 932, in _bootstrap_inner\n",
      "    self.run()\n",
      "  File \"d:\\program files\\python\\lib\\threading.py\", line 870, in run\n",
      "    self._target(*self._args, **self._kwargs)\n",
      "  File \"d:\\program files\\python\\lib\\site-packages\\DrissionPage\\chromium_driver.py\", line 123, in _recv_loop\n",
      "    message = loads(message_json)\n",
      "  File \"d:\\program files\\python\\lib\\json\\__init__.py\", line 357, in loads\n",
      "    return _default_decoder.decode(s)\n",
      "  File \"d:\\program files\\python\\lib\\json\\decoder.py\", line 337, in decode\n",
      "    obj, end = self.raw_decode(s, idx=_w(s, 0).end())\n",
      "  File \"d:\\program files\\python\\lib\\json\\decoder.py\", line 355, in raw_decode\n",
      "    raise JSONDecodeError(\"Expecting value\", s, err.value) from None\n",
      "json.decoder.JSONDecodeError: Expecting value: line 1 column 1 (char 0)\n"
     ]
    },
    {
     "name": "stdout",
     "output_type": "stream",
     "text": [
      "【浙江省浙商资产管理股份有限公司】已经完成【中华人民共和国生态环境部网站】的核查\n"
     ]
    },
    {
     "name": "stderr",
     "output_type": "stream",
     "text": [
      "Exception in thread Thread-510:\n",
      "Traceback (most recent call last):\n",
      "  File \"d:\\program files\\python\\lib\\threading.py\", line 932, in _bootstrap_inner\n",
      "    self.run()\n",
      "  File \"d:\\program files\\python\\lib\\threading.py\", line 870, in run\n",
      "    self._target(*self._args, **self._kwargs)\n",
      "  File \"d:\\program files\\python\\lib\\site-packages\\DrissionPage\\chromium_driver.py\", line 123, in _recv_loop\n",
      "    message = loads(message_json)\n",
      "  File \"d:\\program files\\python\\lib\\json\\__init__.py\", line 357, in loads\n",
      "    return _default_decoder.decode(s)\n",
      "  File \"d:\\program files\\python\\lib\\json\\decoder.py\", line 337, in decode\n",
      "    obj, end = self.raw_decode(s, idx=_w(s, 0).end())\n",
      "  File \"d:\\program files\\python\\lib\\json\\decoder.py\", line 355, in raw_decode\n",
      "    raise JSONDecodeError(\"Expecting value\", s, err.value) from None\n",
      "json.decoder.JSONDecodeError: Expecting value: line 1 column 1 (char 0)\n"
     ]
    },
    {
     "name": "stdout",
     "output_type": "stream",
     "text": [
      "【浙江省浙商资产管理股份有限公司】已经完成【中华人民共和国工业和信息化部网站】的核查\n"
     ]
    },
    {
     "name": "stderr",
     "output_type": "stream",
     "text": [
      "Exception in thread Thread-512:\n",
      "Traceback (most recent call last):\n",
      "  File \"d:\\program files\\python\\lib\\threading.py\", line 932, in _bootstrap_inner\n",
      "    self.run()\n",
      "  File \"d:\\program files\\python\\lib\\threading.py\", line 870, in run\n",
      "    self._target(*self._args, **self._kwargs)\n",
      "  File \"d:\\program files\\python\\lib\\site-packages\\DrissionPage\\chromium_driver.py\", line 123, in _recv_loop\n",
      "    message = loads(message_json)\n",
      "  File \"d:\\program files\\python\\lib\\json\\__init__.py\", line 357, in loads\n",
      "    return _default_decoder.decode(s)\n",
      "  File \"d:\\program files\\python\\lib\\json\\decoder.py\", line 337, in decode\n",
      "    obj, end = self.raw_decode(s, idx=_w(s, 0).end())\n",
      "  File \"d:\\program files\\python\\lib\\json\\decoder.py\", line 355, in raw_decode\n",
      "    raise JSONDecodeError(\"Expecting value\", s, err.value) from None\n",
      "json.decoder.JSONDecodeError: Expecting value: line 1 column 1 (char 0)\n"
     ]
    },
    {
     "name": "stdout",
     "output_type": "stream",
     "text": [
      "【浙江省浙商资产管理股份有限公司】已经完成【中华人民共和国商务部网站】的核查\n"
     ]
    },
    {
     "name": "stderr",
     "output_type": "stream",
     "text": [
      "Exception in thread Thread-514:\n",
      "Traceback (most recent call last):\n",
      "  File \"d:\\program files\\python\\lib\\threading.py\", line 932, in _bootstrap_inner\n",
      "    self.run()\n",
      "  File \"d:\\program files\\python\\lib\\threading.py\", line 870, in run\n",
      "    self._target(*self._args, **self._kwargs)\n",
      "  File \"d:\\program files\\python\\lib\\site-packages\\DrissionPage\\chromium_driver.py\", line 123, in _recv_loop\n",
      "    message = loads(message_json)\n",
      "  File \"d:\\program files\\python\\lib\\json\\__init__.py\", line 357, in loads\n",
      "    return _default_decoder.decode(s)\n",
      "  File \"d:\\program files\\python\\lib\\json\\decoder.py\", line 337, in decode\n",
      "    obj, end = self.raw_decode(s, idx=_w(s, 0).end())\n",
      "  File \"d:\\program files\\python\\lib\\json\\decoder.py\", line 355, in raw_decode\n",
      "    raise JSONDecodeError(\"Expecting value\", s, err.value) from None\n",
      "json.decoder.JSONDecodeError: Expecting value: line 1 column 1 (char 0)\n"
     ]
    },
    {
     "name": "stdout",
     "output_type": "stream",
     "text": [
      "【浙江省浙商资产管理股份有限公司】已经完成【中华人民共和国财政部网站】的核查\n"
     ]
    },
    {
     "name": "stderr",
     "output_type": "stream",
     "text": [
      "Exception in thread Thread-516:\n",
      "Traceback (most recent call last):\n",
      "  File \"d:\\program files\\python\\lib\\threading.py\", line 932, in _bootstrap_inner\n",
      "    self.run()\n",
      "  File \"d:\\program files\\python\\lib\\threading.py\", line 870, in run\n",
      "    self._target(*self._args, **self._kwargs)\n",
      "  File \"d:\\program files\\python\\lib\\site-packages\\DrissionPage\\chromium_driver.py\", line 123, in _recv_loop\n",
      "    message = loads(message_json)\n",
      "  File \"d:\\program files\\python\\lib\\json\\__init__.py\", line 357, in loads\n",
      "    return _default_decoder.decode(s)\n",
      "  File \"d:\\program files\\python\\lib\\json\\decoder.py\", line 337, in decode\n",
      "    obj, end = self.raw_decode(s, idx=_w(s, 0).end())\n",
      "  File \"d:\\program files\\python\\lib\\json\\decoder.py\", line 355, in raw_decode\n",
      "    raise JSONDecodeError(\"Expecting value\", s, err.value) from None\n",
      "json.decoder.JSONDecodeError: Expecting value: line 1 column 1 (char 0)\n"
     ]
    },
    {
     "name": "stdout",
     "output_type": "stream",
     "text": [
      "【浙江省浙商资产管理股份有限公司】已经完成【中华人民共和国农业农村部网站】的核查\n"
     ]
    },
    {
     "name": "stderr",
     "output_type": "stream",
     "text": [
      "Exception in thread Thread-518:\n",
      "Traceback (most recent call last):\n",
      "  File \"d:\\program files\\python\\lib\\threading.py\", line 932, in _bootstrap_inner\n",
      "    self.run()\n",
      "  File \"d:\\program files\\python\\lib\\threading.py\", line 870, in run\n",
      "    self._target(*self._args, **self._kwargs)\n",
      "  File \"d:\\program files\\python\\lib\\site-packages\\DrissionPage\\chromium_driver.py\", line 123, in _recv_loop\n",
      "    message = loads(message_json)\n",
      "  File \"d:\\program files\\python\\lib\\json\\__init__.py\", line 357, in loads\n",
      "    return _default_decoder.decode(s)\n",
      "  File \"d:\\program files\\python\\lib\\json\\decoder.py\", line 337, in decode\n",
      "    obj, end = self.raw_decode(s, idx=_w(s, 0).end())\n",
      "  File \"d:\\program files\\python\\lib\\json\\decoder.py\", line 355, in raw_decode\n",
      "    raise JSONDecodeError(\"Expecting value\", s, err.value) from None\n",
      "json.decoder.JSONDecodeError: Expecting value: line 1 column 1 (char 0)\n"
     ]
    },
    {
     "name": "stdout",
     "output_type": "stream",
     "text": [
      "【浙江省浙商资产管理股份有限公司】已经完成【中华人民共和国人力资源和社会保障部网站】的核查\n"
     ]
    },
    {
     "name": "stderr",
     "output_type": "stream",
     "text": [
      "Exception in thread Thread-520:\n",
      "Traceback (most recent call last):\n",
      "  File \"d:\\program files\\python\\lib\\threading.py\", line 932, in _bootstrap_inner\n",
      "    self.run()\n",
      "  File \"d:\\program files\\python\\lib\\threading.py\", line 870, in run\n",
      "    self._target(*self._args, **self._kwargs)\n",
      "  File \"d:\\program files\\python\\lib\\site-packages\\DrissionPage\\chromium_driver.py\", line 123, in _recv_loop\n",
      "    message = loads(message_json)\n",
      "  File \"d:\\program files\\python\\lib\\json\\__init__.py\", line 357, in loads\n",
      "    return _default_decoder.decode(s)\n",
      "  File \"d:\\program files\\python\\lib\\json\\decoder.py\", line 337, in decode\n",
      "    obj, end = self.raw_decode(s, idx=_w(s, 0).end())\n",
      "  File \"d:\\program files\\python\\lib\\json\\decoder.py\", line 355, in raw_decode\n",
      "    raise JSONDecodeError(\"Expecting value\", s, err.value) from None\n",
      "json.decoder.JSONDecodeError: Expecting value: line 1 column 1 (char 0)\n"
     ]
    },
    {
     "name": "stdout",
     "output_type": "stream",
     "text": [
      "11\n",
      "【浙江省浙商资产管理股份有限公司】已经完成【中华人民共和国住房和城乡建设部】的核查\n"
     ]
    },
    {
     "name": "stderr",
     "output_type": "stream",
     "text": [
      "Exception in thread Thread-522:\n",
      "Traceback (most recent call last):\n",
      "  File \"d:\\program files\\python\\lib\\threading.py\", line 932, in _bootstrap_inner\n",
      "    self.run()\n",
      "  File \"d:\\program files\\python\\lib\\threading.py\", line 870, in run\n",
      "    self._target(*self._args, **self._kwargs)\n",
      "  File \"d:\\program files\\python\\lib\\site-packages\\DrissionPage\\chromium_driver.py\", line 123, in _recv_loop\n",
      "    message = loads(message_json)\n",
      "  File \"d:\\program files\\python\\lib\\json\\__init__.py\", line 357, in loads\n",
      "    return _default_decoder.decode(s)\n",
      "  File \"d:\\program files\\python\\lib\\json\\decoder.py\", line 337, in decode\n",
      "    obj, end = self.raw_decode(s, idx=_w(s, 0).end())\n",
      "  File \"d:\\program files\\python\\lib\\json\\decoder.py\", line 355, in raw_decode\n",
      "    raise JSONDecodeError(\"Expecting value\", s, err.value) from None\n",
      "json.decoder.JSONDecodeError: Expecting value: line 1 column 1 (char 0)\n"
     ]
    },
    {
     "name": "stdout",
     "output_type": "stream",
     "text": [
      "51\n",
      "【浙江省浙商资产管理股份有限公司】已经完成【国家统计局网站】的核查\n"
     ]
    },
    {
     "name": "stderr",
     "output_type": "stream",
     "text": [
      "Exception in thread Thread-524:\n",
      "Traceback (most recent call last):\n",
      "  File \"d:\\program files\\python\\lib\\threading.py\", line 932, in _bootstrap_inner\n",
      "    self.run()\n",
      "  File \"d:\\program files\\python\\lib\\threading.py\", line 870, in run\n",
      "    self._target(*self._args, **self._kwargs)\n",
      "  File \"d:\\program files\\python\\lib\\site-packages\\DrissionPage\\chromium_driver.py\", line 123, in _recv_loop\n",
      "    message = loads(message_json)\n",
      "  File \"d:\\program files\\python\\lib\\json\\__init__.py\", line 357, in loads\n",
      "    return _default_decoder.decode(s)\n",
      "  File \"d:\\program files\\python\\lib\\json\\decoder.py\", line 337, in decode\n",
      "    obj, end = self.raw_decode(s, idx=_w(s, 0).end())\n",
      "  File \"d:\\program files\\python\\lib\\json\\decoder.py\", line 355, in raw_decode\n",
      "    raise JSONDecodeError(\"Expecting value\", s, err.value) from None\n",
      "json.decoder.JSONDecodeError: Expecting value: line 1 column 1 (char 0)\n"
     ]
    },
    {
     "name": "stdout",
     "output_type": "stream",
     "text": [
      "【浙江省浙商资产管理股份有限公司】已经完成【国家市场监督管理总局网站】的核查\n"
     ]
    },
    {
     "name": "stderr",
     "output_type": "stream",
     "text": [
      "Exception in thread Thread-526:\n",
      "Traceback (most recent call last):\n",
      "  File \"d:\\program files\\python\\lib\\threading.py\", line 932, in _bootstrap_inner\n",
      "    self.run()\n",
      "  File \"d:\\program files\\python\\lib\\threading.py\", line 870, in run\n",
      "    self._target(*self._args, **self._kwargs)\n",
      "  File \"d:\\program files\\python\\lib\\site-packages\\DrissionPage\\chromium_driver.py\", line 123, in _recv_loop\n",
      "    message = loads(message_json)\n",
      "  File \"d:\\program files\\python\\lib\\json\\__init__.py\", line 357, in loads\n",
      "    return _default_decoder.decode(s)\n",
      "  File \"d:\\program files\\python\\lib\\json\\decoder.py\", line 337, in decode\n",
      "    obj, end = self.raw_decode(s, idx=_w(s, 0).end())\n",
      "  File \"d:\\program files\\python\\lib\\json\\decoder.py\", line 355, in raw_decode\n",
      "    raise JSONDecodeError(\"Expecting value\", s, err.value) from None\n",
      "json.decoder.JSONDecodeError: Expecting value: line 1 column 1 (char 0)\n"
     ]
    },
    {
     "name": "stdout",
     "output_type": "stream",
     "text": [
      "【浙江省浙商资产管理股份有限公司】已经完成【国家药品监督管理局】的核查\n",
      "【浙江省浙商资产管理股份有限公司】已经完成【中国人民银行】的核查\n",
      "【浙江省浙商资产管理股份有限公司】已经完成【国家金融监督管理总局】的核查\n",
      "【浙江省浙商资产管理股份有限公司】已经完成【国家外汇管理局网站】的核查\n",
      "【浙江省浙商资产管理股份有限公司】已经完成【政府采购网】的核查\n",
      "【浙江省浙商资产管理股份有限公司】已经完成【信用能源】的核查\n",
      "【浙江省浙商资产管理股份有限公司】已经完成【信用交通网】的核查\n",
      "【浙江省浙商资产管理股份有限公司】已经完成【中国商务信用平台】的核查\n",
      "【浙江省浙商资产管理股份有限公司】已经完成【信用盐业】的核查\n",
      "【浙江省浙商资产管理股份有限公司】已经完成【信用电力】的核查\n",
      "【浙江省浙商资产管理股份有限公司】已经完成【杭州市政府官方网站】的核查\n",
      "【浙江省浙商资产管理股份有限公司】已经完成【信用中国网重点领域严重失信主体名单_严重失信主体名单查询】的核查\n",
      "【浙江省浙商资产管理股份有限公司】已经完成【信用中国网重点领域严重失信主体名单_经营异常名录信息查询】的核查\n",
      "【浙江省浙商资产管理股份有限公司】已经完成【政府采购严重违法失信行为记录名单】的核查\n",
      "【浙江省浙商资产管理股份有限公司】已经完成【信用中国网重点领域严重失信主体名单_拖欠农民工工资失信联合惩戒对象名单】的核查\n",
      "【浙江省浙商资产管理股份有限公司】已经完成【信用中国网重点领域严重失信主体名单_重大税收违法失信主体】的核查\n",
      "【浙江省浙商资产管理股份有限公司】已经完成【信用中国网重点领域严重失信主体名单_统计严重失信企业名单】的核查\n"
     ]
    },
    {
     "name": "stderr",
     "output_type": "stream",
     "text": [
      "Exception in thread Thread-530:\n",
      "Traceback (most recent call last):\n",
      "  File \"d:\\program files\\python\\lib\\threading.py\", line 932, in _bootstrap_inner\n",
      "    self.run()\n",
      "  File \"d:\\program files\\python\\lib\\threading.py\", line 870, in run\n",
      "    self._target(*self._args, **self._kwargs)\n",
      "  File \"d:\\program files\\python\\lib\\site-packages\\DrissionPage\\chromium_driver.py\", line 123, in _recv_loop\n",
      "    message = loads(message_json)\n",
      "  File \"d:\\program files\\python\\lib\\json\\__init__.py\", line 357, in loads\n",
      "    return _default_decoder.decode(s)\n",
      "  File \"d:\\program files\\python\\lib\\json\\decoder.py\", line 337, in decode\n",
      "    obj, end = self.raw_decode(s, idx=_w(s, 0).end())\n",
      "  File \"d:\\program files\\python\\lib\\json\\decoder.py\", line 355, in raw_decode\n",
      "    raise JSONDecodeError(\"Expecting value\", s, err.value) from None\n",
      "json.decoder.JSONDecodeError: Expecting value: line 1 column 1 (char 0)\n"
     ]
    },
    {
     "name": "stdout",
     "output_type": "stream",
     "text": [
      "【浙江股权服务集团有限公司】已经完成【中华人民共和国国家发展和改革委员会网站】的核查\n"
     ]
    },
    {
     "name": "stderr",
     "output_type": "stream",
     "text": [
      "Exception in thread Thread-538:\n",
      "Traceback (most recent call last):\n",
      "  File \"d:\\program files\\python\\lib\\threading.py\", line 932, in _bootstrap_inner\n",
      "    self.run()\n",
      "  File \"d:\\program files\\python\\lib\\threading.py\", line 870, in run\n",
      "    self._target(*self._args, **self._kwargs)\n",
      "  File \"d:\\program files\\python\\lib\\site-packages\\DrissionPage\\chromium_driver.py\", line 123, in _recv_loop\n",
      "    message = loads(message_json)\n",
      "  File \"d:\\program files\\python\\lib\\json\\__init__.py\", line 357, in loads\n",
      "    return _default_decoder.decode(s)\n",
      "  File \"d:\\program files\\python\\lib\\json\\decoder.py\", line 337, in decode\n",
      "    obj, end = self.raw_decode(s, idx=_w(s, 0).end())\n",
      "  File \"d:\\program files\\python\\lib\\json\\decoder.py\", line 355, in raw_decode\n",
      "    raise JSONDecodeError(\"Expecting value\", s, err.value) from None\n",
      "json.decoder.JSONDecodeError: Expecting value: line 1 column 1 (char 0)\n"
     ]
    },
    {
     "name": "stdout",
     "output_type": "stream",
     "text": [
      "【浙江股权服务集团有限公司】已经完成【中华人民共和国应急管理部网站】的核查\n"
     ]
    },
    {
     "name": "stderr",
     "output_type": "stream",
     "text": [
      "Exception in thread Thread-540:\n",
      "Traceback (most recent call last):\n",
      "  File \"d:\\program files\\python\\lib\\threading.py\", line 932, in _bootstrap_inner\n",
      "    self.run()\n",
      "  File \"d:\\program files\\python\\lib\\threading.py\", line 870, in run\n",
      "    self._target(*self._args, **self._kwargs)\n",
      "  File \"d:\\program files\\python\\lib\\site-packages\\DrissionPage\\chromium_driver.py\", line 123, in _recv_loop\n",
      "    message = loads(message_json)\n",
      "  File \"d:\\program files\\python\\lib\\json\\__init__.py\", line 357, in loads\n",
      "    return _default_decoder.decode(s)\n",
      "  File \"d:\\program files\\python\\lib\\json\\decoder.py\", line 337, in decode\n",
      "    obj, end = self.raw_decode(s, idx=_w(s, 0).end())\n",
      "  File \"d:\\program files\\python\\lib\\json\\decoder.py\", line 355, in raw_decode\n",
      "    raise JSONDecodeError(\"Expecting value\", s, err.value) from None\n",
      "json.decoder.JSONDecodeError: Expecting value: line 1 column 1 (char 0)\n"
     ]
    },
    {
     "name": "stdout",
     "output_type": "stream",
     "text": [
      "【浙江股权服务集团有限公司】已经完成【中华人民共和国生态环境部网站】的核查\n"
     ]
    },
    {
     "name": "stderr",
     "output_type": "stream",
     "text": [
      "Exception in thread Thread-542:\n",
      "Traceback (most recent call last):\n",
      "  File \"d:\\program files\\python\\lib\\threading.py\", line 932, in _bootstrap_inner\n",
      "    self.run()\n",
      "  File \"d:\\program files\\python\\lib\\threading.py\", line 870, in run\n",
      "    self._target(*self._args, **self._kwargs)\n",
      "  File \"d:\\program files\\python\\lib\\site-packages\\DrissionPage\\chromium_driver.py\", line 123, in _recv_loop\n",
      "    message = loads(message_json)\n",
      "  File \"d:\\program files\\python\\lib\\json\\__init__.py\", line 357, in loads\n",
      "    return _default_decoder.decode(s)\n",
      "  File \"d:\\program files\\python\\lib\\json\\decoder.py\", line 337, in decode\n",
      "    obj, end = self.raw_decode(s, idx=_w(s, 0).end())\n",
      "  File \"d:\\program files\\python\\lib\\json\\decoder.py\", line 355, in raw_decode\n",
      "    raise JSONDecodeError(\"Expecting value\", s, err.value) from None\n",
      "json.decoder.JSONDecodeError: Expecting value: line 1 column 1 (char 0)\n"
     ]
    },
    {
     "name": "stdout",
     "output_type": "stream",
     "text": [
      "【浙江股权服务集团有限公司】已经完成【中华人民共和国工业和信息化部网站】的核查\n"
     ]
    },
    {
     "name": "stderr",
     "output_type": "stream",
     "text": [
      "Exception in thread Thread-544:\n",
      "Traceback (most recent call last):\n",
      "  File \"d:\\program files\\python\\lib\\threading.py\", line 932, in _bootstrap_inner\n",
      "    self.run()\n",
      "  File \"d:\\program files\\python\\lib\\threading.py\", line 870, in run\n",
      "    self._target(*self._args, **self._kwargs)\n",
      "  File \"d:\\program files\\python\\lib\\site-packages\\DrissionPage\\chromium_driver.py\", line 123, in _recv_loop\n",
      "    message = loads(message_json)\n",
      "  File \"d:\\program files\\python\\lib\\json\\__init__.py\", line 357, in loads\n",
      "    return _default_decoder.decode(s)\n",
      "  File \"d:\\program files\\python\\lib\\json\\decoder.py\", line 337, in decode\n",
      "    obj, end = self.raw_decode(s, idx=_w(s, 0).end())\n",
      "  File \"d:\\program files\\python\\lib\\json\\decoder.py\", line 355, in raw_decode\n",
      "    raise JSONDecodeError(\"Expecting value\", s, err.value) from None\n",
      "json.decoder.JSONDecodeError: Expecting value: line 1 column 1 (char 0)\n"
     ]
    },
    {
     "name": "stdout",
     "output_type": "stream",
     "text": [
      "【浙江股权服务集团有限公司】已经完成【中华人民共和国商务部网站】的核查\n"
     ]
    },
    {
     "name": "stderr",
     "output_type": "stream",
     "text": [
      "Exception in thread Thread-546:\n",
      "Traceback (most recent call last):\n",
      "  File \"d:\\program files\\python\\lib\\threading.py\", line 932, in _bootstrap_inner\n",
      "    self.run()\n",
      "  File \"d:\\program files\\python\\lib\\threading.py\", line 870, in run\n",
      "    self._target(*self._args, **self._kwargs)\n",
      "  File \"d:\\program files\\python\\lib\\site-packages\\DrissionPage\\chromium_driver.py\", line 123, in _recv_loop\n",
      "    message = loads(message_json)\n",
      "  File \"d:\\program files\\python\\lib\\json\\__init__.py\", line 357, in loads\n",
      "    return _default_decoder.decode(s)\n",
      "  File \"d:\\program files\\python\\lib\\json\\decoder.py\", line 337, in decode\n",
      "    obj, end = self.raw_decode(s, idx=_w(s, 0).end())\n",
      "  File \"d:\\program files\\python\\lib\\json\\decoder.py\", line 355, in raw_decode\n",
      "    raise JSONDecodeError(\"Expecting value\", s, err.value) from None\n",
      "json.decoder.JSONDecodeError: Expecting value: line 1 column 1 (char 0)\n"
     ]
    },
    {
     "name": "stdout",
     "output_type": "stream",
     "text": [
      "【浙江股权服务集团有限公司】已经完成【中华人民共和国财政部网站】的核查\n"
     ]
    },
    {
     "name": "stderr",
     "output_type": "stream",
     "text": [
      "Exception in thread Thread-548:\n",
      "Traceback (most recent call last):\n",
      "  File \"d:\\program files\\python\\lib\\threading.py\", line 932, in _bootstrap_inner\n",
      "    self.run()\n",
      "  File \"d:\\program files\\python\\lib\\threading.py\", line 870, in run\n",
      "    self._target(*self._args, **self._kwargs)\n",
      "  File \"d:\\program files\\python\\lib\\site-packages\\DrissionPage\\chromium_driver.py\", line 123, in _recv_loop\n",
      "    message = loads(message_json)\n",
      "  File \"d:\\program files\\python\\lib\\json\\__init__.py\", line 357, in loads\n",
      "    return _default_decoder.decode(s)\n",
      "  File \"d:\\program files\\python\\lib\\json\\decoder.py\", line 337, in decode\n",
      "    obj, end = self.raw_decode(s, idx=_w(s, 0).end())\n",
      "  File \"d:\\program files\\python\\lib\\json\\decoder.py\", line 355, in raw_decode\n",
      "    raise JSONDecodeError(\"Expecting value\", s, err.value) from None\n",
      "json.decoder.JSONDecodeError: Expecting value: line 1 column 1 (char 0)\n"
     ]
    },
    {
     "name": "stdout",
     "output_type": "stream",
     "text": [
      "【浙江股权服务集团有限公司】已经完成【中华人民共和国农业农村部网站】的核查\n"
     ]
    },
    {
     "name": "stderr",
     "output_type": "stream",
     "text": [
      "Exception in thread Thread-550:\n",
      "Traceback (most recent call last):\n",
      "  File \"d:\\program files\\python\\lib\\threading.py\", line 932, in _bootstrap_inner\n",
      "    self.run()\n",
      "  File \"d:\\program files\\python\\lib\\threading.py\", line 870, in run\n",
      "    self._target(*self._args, **self._kwargs)\n",
      "  File \"d:\\program files\\python\\lib\\site-packages\\DrissionPage\\chromium_driver.py\", line 123, in _recv_loop\n",
      "    message = loads(message_json)\n",
      "  File \"d:\\program files\\python\\lib\\json\\__init__.py\", line 357, in loads\n",
      "    return _default_decoder.decode(s)\n",
      "  File \"d:\\program files\\python\\lib\\json\\decoder.py\", line 337, in decode\n",
      "    obj, end = self.raw_decode(s, idx=_w(s, 0).end())\n",
      "  File \"d:\\program files\\python\\lib\\json\\decoder.py\", line 355, in raw_decode\n",
      "    raise JSONDecodeError(\"Expecting value\", s, err.value) from None\n",
      "json.decoder.JSONDecodeError: Expecting value: line 1 column 1 (char 0)\n"
     ]
    },
    {
     "name": "stdout",
     "output_type": "stream",
     "text": [
      "【浙江股权服务集团有限公司】已经完成【中华人民共和国人力资源和社会保障部网站】的核查\n"
     ]
    },
    {
     "name": "stderr",
     "output_type": "stream",
     "text": [
      "Exception in thread Thread-552:\n",
      "Traceback (most recent call last):\n",
      "  File \"d:\\program files\\python\\lib\\threading.py\", line 932, in _bootstrap_inner\n",
      "    self.run()\n",
      "  File \"d:\\program files\\python\\lib\\threading.py\", line 870, in run\n",
      "    self._target(*self._args, **self._kwargs)\n",
      "  File \"d:\\program files\\python\\lib\\site-packages\\DrissionPage\\chromium_driver.py\", line 123, in _recv_loop\n",
      "    message = loads(message_json)\n",
      "  File \"d:\\program files\\python\\lib\\json\\__init__.py\", line 357, in loads\n",
      "    return _default_decoder.decode(s)\n",
      "  File \"d:\\program files\\python\\lib\\json\\decoder.py\", line 337, in decode\n",
      "    obj, end = self.raw_decode(s, idx=_w(s, 0).end())\n",
      "  File \"d:\\program files\\python\\lib\\json\\decoder.py\", line 355, in raw_decode\n",
      "    raise JSONDecodeError(\"Expecting value\", s, err.value) from None\n",
      "json.decoder.JSONDecodeError: Expecting value: line 1 column 1 (char 0)\n"
     ]
    },
    {
     "name": "stdout",
     "output_type": "stream",
     "text": [
      "0\n",
      "11\n",
      "【浙江股权服务集团有限公司】已经完成【中华人民共和国住房和城乡建设部】的核查\n"
     ]
    },
    {
     "name": "stderr",
     "output_type": "stream",
     "text": [
      "Exception in thread Thread-554:\n",
      "Traceback (most recent call last):\n",
      "  File \"d:\\program files\\python\\lib\\threading.py\", line 932, in _bootstrap_inner\n",
      "    self.run()\n",
      "  File \"d:\\program files\\python\\lib\\threading.py\", line 870, in run\n",
      "    self._target(*self._args, **self._kwargs)\n",
      "  File \"d:\\program files\\python\\lib\\site-packages\\DrissionPage\\chromium_driver.py\", line 123, in _recv_loop\n",
      "    message = loads(message_json)\n",
      "  File \"d:\\program files\\python\\lib\\json\\__init__.py\", line 357, in loads\n",
      "    return _default_decoder.decode(s)\n",
      "  File \"d:\\program files\\python\\lib\\json\\decoder.py\", line 337, in decode\n",
      "    obj, end = self.raw_decode(s, idx=_w(s, 0).end())\n",
      "  File \"d:\\program files\\python\\lib\\json\\decoder.py\", line 355, in raw_decode\n",
      "    raise JSONDecodeError(\"Expecting value\", s, err.value) from None\n",
      "json.decoder.JSONDecodeError: Expecting value: line 1 column 1 (char 0)\n"
     ]
    },
    {
     "name": "stdout",
     "output_type": "stream",
     "text": [
      "51\n",
      "【浙江股权服务集团有限公司】已经完成【国家统计局网站】的核查\n"
     ]
    },
    {
     "name": "stderr",
     "output_type": "stream",
     "text": [
      "Exception in thread Thread-556:\n",
      "Traceback (most recent call last):\n",
      "  File \"d:\\program files\\python\\lib\\threading.py\", line 932, in _bootstrap_inner\n",
      "    self.run()\n",
      "  File \"d:\\program files\\python\\lib\\threading.py\", line 870, in run\n",
      "    self._target(*self._args, **self._kwargs)\n",
      "  File \"d:\\program files\\python\\lib\\site-packages\\DrissionPage\\chromium_driver.py\", line 123, in _recv_loop\n",
      "    message = loads(message_json)\n",
      "  File \"d:\\program files\\python\\lib\\json\\__init__.py\", line 357, in loads\n",
      "    return _default_decoder.decode(s)\n",
      "  File \"d:\\program files\\python\\lib\\json\\decoder.py\", line 337, in decode\n",
      "    obj, end = self.raw_decode(s, idx=_w(s, 0).end())\n",
      "  File \"d:\\program files\\python\\lib\\json\\decoder.py\", line 355, in raw_decode\n",
      "    raise JSONDecodeError(\"Expecting value\", s, err.value) from None\n",
      "json.decoder.JSONDecodeError: Expecting value: line 1 column 1 (char 0)\n"
     ]
    },
    {
     "name": "stdout",
     "output_type": "stream",
     "text": [
      "【浙江股权服务集团有限公司】已经完成【国家市场监督管理总局网站】的核查\n"
     ]
    },
    {
     "name": "stderr",
     "output_type": "stream",
     "text": [
      "Exception in thread Thread-558:\n",
      "Traceback (most recent call last):\n",
      "  File \"d:\\program files\\python\\lib\\threading.py\", line 932, in _bootstrap_inner\n",
      "    self.run()\n",
      "  File \"d:\\program files\\python\\lib\\threading.py\", line 870, in run\n",
      "    self._target(*self._args, **self._kwargs)\n",
      "  File \"d:\\program files\\python\\lib\\site-packages\\DrissionPage\\chromium_driver.py\", line 123, in _recv_loop\n",
      "    message = loads(message_json)\n",
      "  File \"d:\\program files\\python\\lib\\json\\__init__.py\", line 357, in loads\n",
      "    return _default_decoder.decode(s)\n",
      "  File \"d:\\program files\\python\\lib\\json\\decoder.py\", line 337, in decode\n",
      "    obj, end = self.raw_decode(s, idx=_w(s, 0).end())\n",
      "  File \"d:\\program files\\python\\lib\\json\\decoder.py\", line 355, in raw_decode\n",
      "    raise JSONDecodeError(\"Expecting value\", s, err.value) from None\n",
      "json.decoder.JSONDecodeError: Expecting value: line 1 column 1 (char 0)\n"
     ]
    },
    {
     "name": "stdout",
     "output_type": "stream",
     "text": [
      "【浙江股权服务集团有限公司】已经完成【国家药品监督管理局】的核查\n"
     ]
    },
    {
     "name": "stderr",
     "output_type": "stream",
     "text": [
      "Exception in thread Thread-560:\n",
      "Traceback (most recent call last):\n",
      "  File \"d:\\program files\\python\\lib\\threading.py\", line 932, in _bootstrap_inner\n",
      "    self.run()\n",
      "  File \"d:\\program files\\python\\lib\\threading.py\", line 870, in run\n",
      "    self._target(*self._args, **self._kwargs)\n",
      "  File \"d:\\program files\\python\\lib\\site-packages\\DrissionPage\\chromium_driver.py\", line 123, in _recv_loop\n",
      "    message = loads(message_json)\n",
      "  File \"d:\\program files\\python\\lib\\json\\__init__.py\", line 357, in loads\n",
      "    return _default_decoder.decode(s)\n",
      "  File \"d:\\program files\\python\\lib\\json\\decoder.py\", line 337, in decode\n",
      "    obj, end = self.raw_decode(s, idx=_w(s, 0).end())\n",
      "  File \"d:\\program files\\python\\lib\\json\\decoder.py\", line 355, in raw_decode\n",
      "    raise JSONDecodeError(\"Expecting value\", s, err.value) from None\n",
      "json.decoder.JSONDecodeError: Expecting value: line 1 column 1 (char 0)\n"
     ]
    },
    {
     "name": "stdout",
     "output_type": "stream",
     "text": [
      "【浙江股权服务集团有限公司】已经完成【中国人民银行】的核查\n",
      "【浙江股权服务集团有限公司】已经完成【国家金融监督管理总局】的核查\n",
      "【浙江股权服务集团有限公司】已经完成【国家外汇管理局网站】的核查\n",
      "【浙江股权服务集团有限公司】已经完成【政府采购网】的核查\n",
      "【浙江股权服务集团有限公司】已经完成【信用能源】的核查\n",
      "【浙江股权服务集团有限公司】已经完成【信用交通网】的核查\n",
      "【浙江股权服务集团有限公司】已经完成【中国商务信用平台】的核查\n",
      "【浙江股权服务集团有限公司】已经完成【信用盐业】的核查\n",
      "【浙江股权服务集团有限公司】已经完成【信用电力】的核查\n",
      "【浙江股权服务集团有限公司】已经完成【杭州市政府官方网站】的核查\n",
      "【浙江股权服务集团有限公司】已经完成【信用中国网重点领域严重失信主体名单_严重失信主体名单查询】的核查\n",
      "【浙江股权服务集团有限公司】已经完成【信用中国网重点领域严重失信主体名单_经营异常名录信息查询】的核查\n",
      "【浙江股权服务集团有限公司】已经完成【政府采购严重违法失信行为记录名单】的核查\n",
      "【浙江股权服务集团有限公司】已经完成【信用中国网重点领域严重失信主体名单_拖欠农民工工资失信联合惩戒对象名单】的核查\n",
      "【浙江股权服务集团有限公司】已经完成【信用中国网重点领域严重失信主体名单_重大税收违法失信主体】的核查\n",
      "【浙江股权服务集团有限公司】已经完成【信用中国网重点领域严重失信主体名单_统计严重失信企业名单】的核查\n"
     ]
    },
    {
     "data": {
      "text/html": [
       "<div>\n",
       "<style scoped>\n",
       "    .dataframe tbody tr th:only-of-type {\n",
       "        vertical-align: middle;\n",
       "    }\n",
       "\n",
       "    .dataframe tbody tr th {\n",
       "        vertical-align: top;\n",
       "    }\n",
       "\n",
       "    .dataframe thead th {\n",
       "        text-align: right;\n",
       "    }\n",
       "</style>\n",
       "<table border=\"1\" class=\"dataframe\">\n",
       "  <thead>\n",
       "    <tr style=\"text-align: right;\">\n",
       "      <th></th>\n",
       "      <th>公司名称</th>\n",
       "      <th>网址名称</th>\n",
       "      <th>核查意见</th>\n",
       "      <th>是否适用</th>\n",
       "      <th>其他数据</th>\n",
       "    </tr>\n",
       "  </thead>\n",
       "  <tbody>\n",
       "    <tr>\n",
       "      <th>0</th>\n",
       "      <td>香港中央结算（代理人）有限公司</td>\n",
       "      <td>中华人民共和国国家发展和改革委员会网站</td>\n",
       "      <td>否</td>\n",
       "      <td>是</td>\n",
       "      <td></td>\n",
       "    </tr>\n",
       "    <tr>\n",
       "      <th>1</th>\n",
       "      <td>香港中央结算（代理人）有限公司</td>\n",
       "      <td>中华人民共和国应急管理部网站</td>\n",
       "      <td>否</td>\n",
       "      <td>是</td>\n",
       "      <td></td>\n",
       "    </tr>\n",
       "    <tr>\n",
       "      <th>2</th>\n",
       "      <td>香港中央结算（代理人）有限公司</td>\n",
       "      <td>中华人民共和国生态环境部网站</td>\n",
       "      <td>否</td>\n",
       "      <td>是</td>\n",
       "      <td>法规标准沪港股票市场交易互联互通机制试点若干规定\\n2014-06-01 \\t\\t\\t\\t\\...</td>\n",
       "    </tr>\n",
       "    <tr>\n",
       "      <th>3</th>\n",
       "      <td>香港中央结算（代理人）有限公司</td>\n",
       "      <td>中华人民共和国工业和信息化部网站</td>\n",
       "      <td>否</td>\n",
       "      <td>是</td>\n",
       "      <td></td>\n",
       "    </tr>\n",
       "    <tr>\n",
       "      <th>4</th>\n",
       "      <td>香港中央结算（代理人）有限公司</td>\n",
       "      <td>中华人民共和国商务部网站</td>\n",
       "      <td>否</td>\n",
       "      <td>是</td>\n",
       "      <td></td>\n",
       "    </tr>\n",
       "    <tr>\n",
       "      <th>...</th>\n",
       "      <td>...</td>\n",
       "      <td>...</td>\n",
       "      <td>...</td>\n",
       "      <td>...</td>\n",
       "      <td>...</td>\n",
       "    </tr>\n",
       "    <tr>\n",
       "      <th>461</th>\n",
       "      <td>浙江股权服务集团有限公司</td>\n",
       "      <td>信用中国网重点领域严重失信主体名单_经营异常名录信息查询</td>\n",
       "      <td>否</td>\n",
       "      <td>是</td>\n",
       "      <td></td>\n",
       "    </tr>\n",
       "    <tr>\n",
       "      <th>462</th>\n",
       "      <td>浙江股权服务集团有限公司</td>\n",
       "      <td>政府采购严重违法失信行为记录名单</td>\n",
       "      <td>否</td>\n",
       "      <td>是</td>\n",
       "      <td></td>\n",
       "    </tr>\n",
       "    <tr>\n",
       "      <th>463</th>\n",
       "      <td>浙江股权服务集团有限公司</td>\n",
       "      <td>信用中国网重点领域严重失信主体名单_拖欠农民工工资失信联合惩戒对象名单</td>\n",
       "      <td>否</td>\n",
       "      <td>是</td>\n",
       "      <td></td>\n",
       "    </tr>\n",
       "    <tr>\n",
       "      <th>464</th>\n",
       "      <td>浙江股权服务集团有限公司</td>\n",
       "      <td>信用中国网重点领域严重失信主体名单_重大税收违法失信主体</td>\n",
       "      <td>否</td>\n",
       "      <td>是</td>\n",
       "      <td></td>\n",
       "    </tr>\n",
       "    <tr>\n",
       "      <th>465</th>\n",
       "      <td>浙江股权服务集团有限公司</td>\n",
       "      <td>信用中国网重点领域严重失信主体名单_统计严重失信企业名单</td>\n",
       "      <td>否</td>\n",
       "      <td>是</td>\n",
       "      <td></td>\n",
       "    </tr>\n",
       "  </tbody>\n",
       "</table>\n",
       "<p>466 rows × 5 columns</p>\n",
       "</div>"
      ],
      "text/plain": [
       "                公司名称                                 网址名称 核查意见 是否适用  \\\n",
       "0    香港中央结算（代理人）有限公司                  中华人民共和国国家发展和改革委员会网站    否    是   \n",
       "1    香港中央结算（代理人）有限公司                       中华人民共和国应急管理部网站    否    是   \n",
       "2    香港中央结算（代理人）有限公司                       中华人民共和国生态环境部网站    否    是   \n",
       "3    香港中央结算（代理人）有限公司                     中华人民共和国工业和信息化部网站    否    是   \n",
       "4    香港中央结算（代理人）有限公司                         中华人民共和国商务部网站    否    是   \n",
       "..               ...                                  ...  ...  ...   \n",
       "461     浙江股权服务集团有限公司         信用中国网重点领域严重失信主体名单_经营异常名录信息查询    否    是   \n",
       "462     浙江股权服务集团有限公司                     政府采购严重违法失信行为记录名单    否    是   \n",
       "463     浙江股权服务集团有限公司  信用中国网重点领域严重失信主体名单_拖欠农民工工资失信联合惩戒对象名单    否    是   \n",
       "464     浙江股权服务集团有限公司         信用中国网重点领域严重失信主体名单_重大税收违法失信主体    否    是   \n",
       "465     浙江股权服务集团有限公司         信用中国网重点领域严重失信主体名单_统计严重失信企业名单    否    是   \n",
       "\n",
       "                                                  其他数据  \n",
       "0                                                       \n",
       "1                                                       \n",
       "2    法规标准沪港股票市场交易互联互通机制试点若干规定\\n2014-06-01 \\t\\t\\t\\t\\...  \n",
       "3                                                       \n",
       "4                                                       \n",
       "..                                                 ...  \n",
       "461                                                     \n",
       "462                                                     \n",
       "463                                                     \n",
       "464                                                     \n",
       "465                                                     \n",
       "\n",
       "[466 rows x 5 columns]"
      ]
     },
     "execution_count": 18,
     "metadata": {},
     "output_type": "execute_result"
    }
   ],
   "source": [
    "page = ChromiumPage()\n",
    "for company_name in company_name_list:\n",
    "    中华人民共和国国家发展和改革委员会网站_main(company_name)\n",
    "    中华人民共和国应急管理部网站_main(company_name)\n",
    "    中华人民共和国生态环境部网站_main(company_name)\n",
    "    中华人民共和国工业和信息化部网站_main(company_name)\n",
    "    中华人民共和国商务部网站_main(company_name)\n",
    "    中华人民共和国财政部网站_main(company_name)\n",
    "    中华人民共和国农业农村部网站_main(company_name)\n",
    "    中华人民共和国人力资源和社会保障部网站_main(company_name)\n",
    "    中华人民共和国住房和城乡建设部_main(company_name)\n",
    "    国家统计局网站_main(company_name)\n",
    "    国家市场监督管理总局网站_main(company_name)\n",
    "    国家药品监督管理局_main(company_name)\n",
    "    中国人民银行_main(company_name)\n",
    "    国家金融监督管理总局_main(company_name)\n",
    "    国家外汇管理局网站_main(company_name)\n",
    "    政府采购网_main(company_name)\n",
    "    信用能源_main(company_name)\n",
    "    信用交通网_main(company_name)\n",
    "    中国商务信用平台_main(company_name)\n",
    "    信用盐业_main(company_name)\n",
    "    信用电力_main(company_name)\n",
    "    杭州市政府官方网站_main(company_name)\n",
    "    信用中国网重点领域严重失信主体名单_严重失信主体名单查询_main(company_name)\n",
    "    信用中国网重点领域严重失信主体名单_经营异常名录信息查询_main(company_name)\n",
    "    信用中国网重点领域严重失信主体名单_政府采购严重违法失信行为记录名单_main(company_name)\n",
    "    信用中国网重点领域严重失信主体名单_拖欠农民工工资失信联合惩戒对象名单_main(company_name)\n",
    "    信用中国网重点领域严重失信主体名单_重大税收违法失信主体_main(company_name)\n",
    "    信用中国网重点领域严重失信主体名单_统计严重失信企业名单_main(company_name)\n",
    "df"
   ]
  },
  {
   "cell_type": "code",
   "execution_count": 70,
   "metadata": {},
   "outputs": [
    {
     "data": {
      "text/html": [
       "<div>\n",
       "<style scoped>\n",
       "    .dataframe tbody tr th:only-of-type {\n",
       "        vertical-align: middle;\n",
       "    }\n",
       "\n",
       "    .dataframe tbody tr th {\n",
       "        vertical-align: top;\n",
       "    }\n",
       "\n",
       "    .dataframe thead th {\n",
       "        text-align: right;\n",
       "    }\n",
       "</style>\n",
       "<table border=\"1\" class=\"dataframe\">\n",
       "  <thead>\n",
       "    <tr style=\"text-align: right;\">\n",
       "      <th></th>\n",
       "      <th>公司名称</th>\n",
       "      <th>网址名称</th>\n",
       "      <th>核查意见</th>\n",
       "      <th>是否适用</th>\n",
       "      <th>其他数据</th>\n",
       "    </tr>\n",
       "  </thead>\n",
       "  <tbody>\n",
       "    <tr>\n",
       "      <th>0</th>\n",
       "      <td>财通证券（香港）有限公司</td>\n",
       "      <td>中国海关企业进出口信用信息公示平台</td>\n",
       "      <td>否</td>\n",
       "      <td>是</td>\n",
       "      <td></td>\n",
       "    </tr>\n",
       "    <tr>\n",
       "      <th>1</th>\n",
       "      <td>财通证券资产管理有限公司</td>\n",
       "      <td>中国海关企业进出口信用信息公示平台</td>\n",
       "      <td>否</td>\n",
       "      <td>是</td>\n",
       "      <td></td>\n",
       "    </tr>\n",
       "    <tr>\n",
       "      <th>2</th>\n",
       "      <td>财通证券（香港）有限公司</td>\n",
       "      <td>中国海关企业进出口信用信息公示平台</td>\n",
       "      <td>否</td>\n",
       "      <td>是</td>\n",
       "      <td></td>\n",
       "    </tr>\n",
       "    <tr>\n",
       "      <th>3</th>\n",
       "      <td>财通证券资产管理有限公司</td>\n",
       "      <td>中国海关企业进出口信用信息公示平台</td>\n",
       "      <td>否</td>\n",
       "      <td>是</td>\n",
       "      <td></td>\n",
       "    </tr>\n",
       "    <tr>\n",
       "      <th>4</th>\n",
       "      <td>财通证券股份有限公司</td>\n",
       "      <td>中国海关企业进出口信用信息公示平台</td>\n",
       "      <td>否</td>\n",
       "      <td>是</td>\n",
       "      <td></td>\n",
       "    </tr>\n",
       "    <tr>\n",
       "      <th>5</th>\n",
       "      <td>财通国际资产管理有限公司</td>\n",
       "      <td>中国海关企业进出口信用信息公示平台</td>\n",
       "      <td>否</td>\n",
       "      <td>是</td>\n",
       "      <td></td>\n",
       "    </tr>\n",
       "    <tr>\n",
       "      <th>6</th>\n",
       "      <td>财通国际证券有限责任公司</td>\n",
       "      <td>中国海关企业进出口信用信息公示平台</td>\n",
       "      <td>否</td>\n",
       "      <td>是</td>\n",
       "      <td></td>\n",
       "    </tr>\n",
       "    <tr>\n",
       "      <th>7</th>\n",
       "      <td>财通国际融资有限公司</td>\n",
       "      <td>中国海关企业进出口信用信息公示平台</td>\n",
       "      <td>否</td>\n",
       "      <td>是</td>\n",
       "      <td></td>\n",
       "    </tr>\n",
       "    <tr>\n",
       "      <th>8</th>\n",
       "      <td>财通国际投资有限公司</td>\n",
       "      <td>中国海关企业进出口信用信息公示平台</td>\n",
       "      <td>否</td>\n",
       "      <td>是</td>\n",
       "      <td></td>\n",
       "    </tr>\n",
       "    <tr>\n",
       "      <th>9</th>\n",
       "      <td>财通创新投资有限公司</td>\n",
       "      <td>中国海关企业进出口信用信息公示平台</td>\n",
       "      <td>否</td>\n",
       "      <td>是</td>\n",
       "      <td></td>\n",
       "    </tr>\n",
       "    <tr>\n",
       "      <th>10</th>\n",
       "      <td>财缘通（上海）商务咨询有限公司</td>\n",
       "      <td>中国海关企业进出口信用信息公示平台</td>\n",
       "      <td>否</td>\n",
       "      <td>是</td>\n",
       "      <td></td>\n",
       "    </tr>\n",
       "    <tr>\n",
       "      <th>11</th>\n",
       "      <td>浙江财通资本投资有限公司</td>\n",
       "      <td>中国海关企业进出口信用信息公示平台</td>\n",
       "      <td>否</td>\n",
       "      <td>是</td>\n",
       "      <td></td>\n",
       "    </tr>\n",
       "    <tr>\n",
       "      <th>12</th>\n",
       "      <td>浙江财通海港投资管理有限公司</td>\n",
       "      <td>中国海关企业进出口信用信息公示平台</td>\n",
       "      <td>否</td>\n",
       "      <td>是</td>\n",
       "      <td></td>\n",
       "    </tr>\n",
       "    <tr>\n",
       "      <th>13</th>\n",
       "      <td>财通基金管理有限公司</td>\n",
       "      <td>中国海关企业进出口信用信息公示平台</td>\n",
       "      <td>否</td>\n",
       "      <td>是</td>\n",
       "      <td></td>\n",
       "    </tr>\n",
       "    <tr>\n",
       "      <th>14</th>\n",
       "      <td>永安期货股份有限公司</td>\n",
       "      <td>中国海关企业进出口信用信息公示平台</td>\n",
       "      <td>否</td>\n",
       "      <td>是</td>\n",
       "      <td></td>\n",
       "    </tr>\n",
       "    <tr>\n",
       "      <th>15</th>\n",
       "      <td>浙江省浙商资产管理股份有限公司</td>\n",
       "      <td>中国海关企业进出口信用信息公示平台</td>\n",
       "      <td>否</td>\n",
       "      <td>是</td>\n",
       "      <td></td>\n",
       "    </tr>\n",
       "    <tr>\n",
       "      <th>16</th>\n",
       "      <td>浙江股权服务集团有限公司</td>\n",
       "      <td>中国海关企业进出口信用信息公示平台</td>\n",
       "      <td>否</td>\n",
       "      <td>是</td>\n",
       "      <td></td>\n",
       "    </tr>\n",
       "    <tr>\n",
       "      <th>17</th>\n",
       "      <td>财通证券（香港）有限公司</td>\n",
       "      <td>国家企业信用信息公示系统</td>\n",
       "      <td>否</td>\n",
       "      <td>是</td>\n",
       "      <td></td>\n",
       "    </tr>\n",
       "    <tr>\n",
       "      <th>18</th>\n",
       "      <td>财通证券资产管理有限公司</td>\n",
       "      <td>国家企业信用信息公示系统</td>\n",
       "      <td>否</td>\n",
       "      <td>是</td>\n",
       "      <td></td>\n",
       "    </tr>\n",
       "    <tr>\n",
       "      <th>19</th>\n",
       "      <td>财通证券资产管理有限公司</td>\n",
       "      <td>国家企业信用信息公示系统</td>\n",
       "      <td>否</td>\n",
       "      <td>是</td>\n",
       "      <td>暂无行政许可信息</td>\n",
       "    </tr>\n",
       "    <tr>\n",
       "      <th>20</th>\n",
       "      <td>财通证券资产管理有限公司</td>\n",
       "      <td>国家企业信用信息公示系统</td>\n",
       "      <td>否</td>\n",
       "      <td>是</td>\n",
       "      <td>暂无行政处罚信息</td>\n",
       "    </tr>\n",
       "    <tr>\n",
       "      <th>21</th>\n",
       "      <td>财通证券资产管理有限公司</td>\n",
       "      <td>国家企业信用信息公示系统</td>\n",
       "      <td>否</td>\n",
       "      <td>是</td>\n",
       "      <td>暂无列入经营异常名录信息</td>\n",
       "    </tr>\n",
       "    <tr>\n",
       "      <th>22</th>\n",
       "      <td>财通证券资产管理有限公司</td>\n",
       "      <td>国家企业信用信息公示系统</td>\n",
       "      <td>否</td>\n",
       "      <td>是</td>\n",
       "      <td>暂无列入严重违法失信名单（黑名单）信息</td>\n",
       "    </tr>\n",
       "    <tr>\n",
       "      <th>23</th>\n",
       "      <td>财通证券资产管理有限公司</td>\n",
       "      <td>国家企业信用信息公示系统</td>\n",
       "      <td>否</td>\n",
       "      <td>是</td>\n",
       "      <td>暂无市场主体歇业公告信息</td>\n",
       "    </tr>\n",
       "    <tr>\n",
       "      <th>24</th>\n",
       "      <td>财通证券股份有限公司</td>\n",
       "      <td>国家企业信用信息公示系统</td>\n",
       "      <td>否</td>\n",
       "      <td>是</td>\n",
       "      <td></td>\n",
       "    </tr>\n",
       "    <tr>\n",
       "      <th>25</th>\n",
       "      <td>财通证券股份有限公司</td>\n",
       "      <td>国家企业信用信息公示系统</td>\n",
       "      <td>否</td>\n",
       "      <td>是</td>\n",
       "      <td></td>\n",
       "    </tr>\n",
       "    <tr>\n",
       "      <th>26</th>\n",
       "      <td>财通证券股份有限公司</td>\n",
       "      <td>国家企业信用信息公示系统</td>\n",
       "      <td>否</td>\n",
       "      <td>是</td>\n",
       "      <td></td>\n",
       "    </tr>\n",
       "    <tr>\n",
       "      <th>27</th>\n",
       "      <td>财通证券股份有限公司</td>\n",
       "      <td>国家企业信用信息公示系统</td>\n",
       "      <td>否</td>\n",
       "      <td>是</td>\n",
       "      <td></td>\n",
       "    </tr>\n",
       "    <tr>\n",
       "      <th>28</th>\n",
       "      <td>财通证券股份有限公司</td>\n",
       "      <td>国家企业信用信息公示系统</td>\n",
       "      <td>否</td>\n",
       "      <td>是</td>\n",
       "      <td>序号\\t许可文件编号\\t许可文件名称\\t有效期自\\t有效期至\\t许可机关\\t许可内容\\t详情...</td>\n",
       "    </tr>\n",
       "    <tr>\n",
       "      <th>29</th>\n",
       "      <td>财通证券股份有限公司</td>\n",
       "      <td>国家企业信用信息公示系统</td>\n",
       "      <td>否</td>\n",
       "      <td>是</td>\n",
       "      <td>序号\\t决定书文号\\t违法行为类型\\t行政处罚内容\\t决定机关名称\\t处罚决定日期\\t公示日...</td>\n",
       "    </tr>\n",
       "    <tr>\n",
       "      <th>30</th>\n",
       "      <td>财通证券股份有限公司</td>\n",
       "      <td>国家企业信用信息公示系统</td>\n",
       "      <td>否</td>\n",
       "      <td>是</td>\n",
       "      <td>序号\\t列入经营异常名录原因\\t列入日期\\t作出决定机关(列入)\\t移出经营异常名录原因\\t...</td>\n",
       "    </tr>\n",
       "    <tr>\n",
       "      <th>31</th>\n",
       "      <td>财通证券股份有限公司</td>\n",
       "      <td>国家企业信用信息公示系统</td>\n",
       "      <td>否</td>\n",
       "      <td>是</td>\n",
       "      <td>序号\\t类别\\t列入严重违法失信名单（黑名单）原因\\t列入日期\\t作出决定机关(列入)\\t移...</td>\n",
       "    </tr>\n",
       "    <tr>\n",
       "      <th>32</th>\n",
       "      <td>财通证券股份有限公司</td>\n",
       "      <td>国家企业信用信息公示系统</td>\n",
       "      <td>否</td>\n",
       "      <td>是</td>\n",
       "      <td>序号\\t公告申请日期\\t公告期自\\t公告期至\\t详情\\n暂无市场主体歇业公告信息</td>\n",
       "    </tr>\n",
       "    <tr>\n",
       "      <th>33</th>\n",
       "      <td>财通国际资产管理有限公司</td>\n",
       "      <td>国家企业信用信息公示系统</td>\n",
       "      <td>否</td>\n",
       "      <td>是</td>\n",
       "      <td></td>\n",
       "    </tr>\n",
       "    <tr>\n",
       "      <th>34</th>\n",
       "      <td>财通国际证券有限责任公司</td>\n",
       "      <td>国家企业信用信息公示系统</td>\n",
       "      <td>否</td>\n",
       "      <td>是</td>\n",
       "      <td></td>\n",
       "    </tr>\n",
       "    <tr>\n",
       "      <th>35</th>\n",
       "      <td>财通证券（香港）有限公司</td>\n",
       "      <td>中国裁判文书网</td>\n",
       "      <td>否</td>\n",
       "      <td>是</td>\n",
       "      <td>共检索到1篇文书</td>\n",
       "    </tr>\n",
       "    <tr>\n",
       "      <th>36</th>\n",
       "      <td>财通证券资产管理有限公司</td>\n",
       "      <td>中国裁判文书网</td>\n",
       "      <td>否</td>\n",
       "      <td>是</td>\n",
       "      <td>共检索到44篇文书</td>\n",
       "    </tr>\n",
       "    <tr>\n",
       "      <th>37</th>\n",
       "      <td>财通证券股份有限公司</td>\n",
       "      <td>中国裁判文书网</td>\n",
       "      <td>否</td>\n",
       "      <td>是</td>\n",
       "      <td>共检索到186篇文书</td>\n",
       "    </tr>\n",
       "    <tr>\n",
       "      <th>38</th>\n",
       "      <td>财通国际资产管理有限公司</td>\n",
       "      <td>中国裁判文书网</td>\n",
       "      <td>否</td>\n",
       "      <td>是</td>\n",
       "      <td></td>\n",
       "    </tr>\n",
       "    <tr>\n",
       "      <th>39</th>\n",
       "      <td>财通国际证券有限责任公司</td>\n",
       "      <td>中国裁判文书网</td>\n",
       "      <td>否</td>\n",
       "      <td>是</td>\n",
       "      <td></td>\n",
       "    </tr>\n",
       "    <tr>\n",
       "      <th>40</th>\n",
       "      <td>财通证券（香港）有限公司</td>\n",
       "      <td>中国裁判文书网</td>\n",
       "      <td>否</td>\n",
       "      <td>是</td>\n",
       "      <td>共检索到1篇文书</td>\n",
       "    </tr>\n",
       "    <tr>\n",
       "      <th>41</th>\n",
       "      <td>财通证券资产管理有限公司</td>\n",
       "      <td>中国裁判文书网</td>\n",
       "      <td>否</td>\n",
       "      <td>是</td>\n",
       "      <td>共检索到44篇文书</td>\n",
       "    </tr>\n",
       "    <tr>\n",
       "      <th>42</th>\n",
       "      <td>财通证券股份有限公司</td>\n",
       "      <td>中国裁判文书网</td>\n",
       "      <td>否</td>\n",
       "      <td>是</td>\n",
       "      <td>共检索到186篇文书</td>\n",
       "    </tr>\n",
       "    <tr>\n",
       "      <th>43</th>\n",
       "      <td>财通国际资产管理有限公司</td>\n",
       "      <td>中国裁判文书网</td>\n",
       "      <td>否</td>\n",
       "      <td>是</td>\n",
       "      <td></td>\n",
       "    </tr>\n",
       "    <tr>\n",
       "      <th>44</th>\n",
       "      <td>财通国际证券有限责任公司</td>\n",
       "      <td>中国裁判文书网</td>\n",
       "      <td>否</td>\n",
       "      <td>是</td>\n",
       "      <td></td>\n",
       "    </tr>\n",
       "  </tbody>\n",
       "</table>\n",
       "</div>"
      ],
      "text/plain": [
       "               公司名称               网址名称 核查意见 是否适用  \\\n",
       "0      财通证券（香港）有限公司  中国海关企业进出口信用信息公示平台    否    是   \n",
       "1      财通证券资产管理有限公司  中国海关企业进出口信用信息公示平台    否    是   \n",
       "2      财通证券（香港）有限公司  中国海关企业进出口信用信息公示平台    否    是   \n",
       "3      财通证券资产管理有限公司  中国海关企业进出口信用信息公示平台    否    是   \n",
       "4        财通证券股份有限公司  中国海关企业进出口信用信息公示平台    否    是   \n",
       "5      财通国际资产管理有限公司  中国海关企业进出口信用信息公示平台    否    是   \n",
       "6      财通国际证券有限责任公司  中国海关企业进出口信用信息公示平台    否    是   \n",
       "7        财通国际融资有限公司  中国海关企业进出口信用信息公示平台    否    是   \n",
       "8        财通国际投资有限公司  中国海关企业进出口信用信息公示平台    否    是   \n",
       "9        财通创新投资有限公司  中国海关企业进出口信用信息公示平台    否    是   \n",
       "10  财缘通（上海）商务咨询有限公司  中国海关企业进出口信用信息公示平台    否    是   \n",
       "11     浙江财通资本投资有限公司  中国海关企业进出口信用信息公示平台    否    是   \n",
       "12   浙江财通海港投资管理有限公司  中国海关企业进出口信用信息公示平台    否    是   \n",
       "13       财通基金管理有限公司  中国海关企业进出口信用信息公示平台    否    是   \n",
       "14       永安期货股份有限公司  中国海关企业进出口信用信息公示平台    否    是   \n",
       "15  浙江省浙商资产管理股份有限公司  中国海关企业进出口信用信息公示平台    否    是   \n",
       "16     浙江股权服务集团有限公司  中国海关企业进出口信用信息公示平台    否    是   \n",
       "17     财通证券（香港）有限公司       国家企业信用信息公示系统    否    是   \n",
       "18     财通证券资产管理有限公司       国家企业信用信息公示系统    否    是   \n",
       "19     财通证券资产管理有限公司       国家企业信用信息公示系统    否    是   \n",
       "20     财通证券资产管理有限公司       国家企业信用信息公示系统    否    是   \n",
       "21     财通证券资产管理有限公司       国家企业信用信息公示系统    否    是   \n",
       "22     财通证券资产管理有限公司       国家企业信用信息公示系统    否    是   \n",
       "23     财通证券资产管理有限公司       国家企业信用信息公示系统    否    是   \n",
       "24       财通证券股份有限公司       国家企业信用信息公示系统    否    是   \n",
       "25       财通证券股份有限公司       国家企业信用信息公示系统    否    是   \n",
       "26       财通证券股份有限公司       国家企业信用信息公示系统    否    是   \n",
       "27       财通证券股份有限公司       国家企业信用信息公示系统    否    是   \n",
       "28       财通证券股份有限公司       国家企业信用信息公示系统    否    是   \n",
       "29       财通证券股份有限公司       国家企业信用信息公示系统    否    是   \n",
       "30       财通证券股份有限公司       国家企业信用信息公示系统    否    是   \n",
       "31       财通证券股份有限公司       国家企业信用信息公示系统    否    是   \n",
       "32       财通证券股份有限公司       国家企业信用信息公示系统    否    是   \n",
       "33     财通国际资产管理有限公司       国家企业信用信息公示系统    否    是   \n",
       "34     财通国际证券有限责任公司       国家企业信用信息公示系统    否    是   \n",
       "35     财通证券（香港）有限公司            中国裁判文书网    否    是   \n",
       "36     财通证券资产管理有限公司            中国裁判文书网    否    是   \n",
       "37       财通证券股份有限公司            中国裁判文书网    否    是   \n",
       "38     财通国际资产管理有限公司            中国裁判文书网    否    是   \n",
       "39     财通国际证券有限责任公司            中国裁判文书网    否    是   \n",
       "40     财通证券（香港）有限公司            中国裁判文书网    否    是   \n",
       "41     财通证券资产管理有限公司            中国裁判文书网    否    是   \n",
       "42       财通证券股份有限公司            中国裁判文书网    否    是   \n",
       "43     财通国际资产管理有限公司            中国裁判文书网    否    是   \n",
       "44     财通国际证券有限责任公司            中国裁判文书网    否    是   \n",
       "\n",
       "                                                 其他数据  \n",
       "0                                                      \n",
       "1                                                      \n",
       "2                                                      \n",
       "3                                                      \n",
       "4                                                      \n",
       "5                                                      \n",
       "6                                                      \n",
       "7                                                      \n",
       "8                                                      \n",
       "9                                                      \n",
       "10                                                     \n",
       "11                                                     \n",
       "12                                                     \n",
       "13                                                     \n",
       "14                                                     \n",
       "15                                                     \n",
       "16                                                     \n",
       "17                                                     \n",
       "18                                                     \n",
       "19                                           暂无行政许可信息  \n",
       "20                                           暂无行政处罚信息  \n",
       "21                                       暂无列入经营异常名录信息  \n",
       "22                                暂无列入严重违法失信名单（黑名单）信息  \n",
       "23                                       暂无市场主体歇业公告信息  \n",
       "24                                                     \n",
       "25                                                     \n",
       "26                                                     \n",
       "27                                                     \n",
       "28  序号\\t许可文件编号\\t许可文件名称\\t有效期自\\t有效期至\\t许可机关\\t许可内容\\t详情...  \n",
       "29  序号\\t决定书文号\\t违法行为类型\\t行政处罚内容\\t决定机关名称\\t处罚决定日期\\t公示日...  \n",
       "30  序号\\t列入经营异常名录原因\\t列入日期\\t作出决定机关(列入)\\t移出经营异常名录原因\\t...  \n",
       "31  序号\\t类别\\t列入严重违法失信名单（黑名单）原因\\t列入日期\\t作出决定机关(列入)\\t移...  \n",
       "32           序号\\t公告申请日期\\t公告期自\\t公告期至\\t详情\\n暂无市场主体歇业公告信息  \n",
       "33                                                     \n",
       "34                                                     \n",
       "35                                           共检索到1篇文书  \n",
       "36                                          共检索到44篇文书  \n",
       "37                                         共检索到186篇文书  \n",
       "38                                                     \n",
       "39                                                     \n",
       "40                                           共检索到1篇文书  \n",
       "41                                          共检索到44篇文书  \n",
       "42                                         共检索到186篇文书  \n",
       "43                                                     \n",
       "44                                                     "
      ]
     },
     "execution_count": 70,
     "metadata": {},
     "output_type": "execute_result"
    }
   ],
   "source": [
    "page = ChromiumPage()\n",
    "for company_name in company_name_list:\n",
    "    #中国执行信息公开网_main(company_name)\n",
    "    #重大税收违法失信案件信息公布栏_main(company_name)\n",
    "    #证券期货市场失信记录查询平台_main(company_name)\n",
    "    #全国行业信用公共服务平台_main(company_name)\n",
    "    #慧眼大数据风险监测系统_main(company_name)\n",
    "    #中国海关企业进出口信用信息公示平台_main(company_name)\n",
    "    #国家企业信用信息公示系统_main(company_name)\n",
    "    中国裁判文书网_main(company_name)\n",
    "df"
   ]
  },
  {
   "cell_type": "code",
   "execution_count": null,
   "metadata": {},
   "outputs": [],
   "source": []
  }
 ],
 "metadata": {
  "kernelspec": {
   "display_name": "Python 3",
   "language": "python",
   "name": "python3"
  },
  "language_info": {
   "codemirror_mode": {
    "name": "ipython",
    "version": 3
   },
   "file_extension": ".py",
   "mimetype": "text/x-python",
   "name": "python",
   "nbconvert_exporter": "python",
   "pygments_lexer": "ipython3",
   "version": "3.8.6"
  }
 },
 "nbformat": 4,
 "nbformat_minor": 4
}
